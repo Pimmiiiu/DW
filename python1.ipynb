{
  "nbformat": 4,
  "nbformat_minor": 0,
  "metadata": {
    "colab": {
      "name": "python1.ipynb",
      "provenance": [],
      "collapsed_sections": [],
      "include_colab_link": true
    },
    "kernelspec": {
      "name": "python3",
      "display_name": "Python 3"
    }
  },
  "cells": [
    {
      "cell_type": "markdown",
      "metadata": {
        "id": "view-in-github",
        "colab_type": "text"
      },
      "source": [
        "<a href=\"https://colab.research.google.com/github/Pimmiiiu/DW/blob/master/python1.ipynb\" target=\"_parent\"><img src=\"https://colab.research.google.com/assets/colab-badge.svg\" alt=\"Open In Colab\"/></a>"
      ]
    },
    {
      "cell_type": "markdown",
      "metadata": {
        "id": "GjbOd4m7iTZk",
        "colab_type": "text"
      },
      "source": [
        "#Hello PyThon\n",
        "##Hello PyThon\n",
        "###Hello Python\n",
        "This is my first python"
      ]
    },
    {
      "cell_type": "code",
      "metadata": {
        "id": "MMMMMeDWh3w4",
        "colab_type": "code",
        "outputId": "fb474b03-219b-4870-b691-00fac11c0b09",
        "colab": {
          "base_uri": "https://localhost:8080/",
          "height": 34
        }
      },
      "source": [
        "print(\"Hello World\")"
      ],
      "execution_count": 0,
      "outputs": [
        {
          "output_type": "stream",
          "text": [
            "Hello World\n"
          ],
          "name": "stdout"
        }
      ]
    },
    {
      "cell_type": "markdown",
      "metadata": {
        "id": "T9KkIdtYjMY7",
        "colab_type": "text"
      },
      "source": [
        "#declare Variable\n",
        "How to declare variable in python"
      ]
    },
    {
      "cell_type": "code",
      "metadata": {
        "id": "ln5U2Ploi5Co",
        "colab_type": "code",
        "outputId": "f05b3620-716a-441a-978a-a3e46334254d",
        "colab": {
          "base_uri": "https://localhost:8080/",
          "height": 34
        }
      },
      "source": [
        "score = 100\n",
        "name =\"Pukjira\"\n",
        "print(\" Name is \"+ name + \" Score is \" + str(score))"
      ],
      "execution_count": 0,
      "outputs": [
        {
          "output_type": "stream",
          "text": [
            " Name is Pukjira Score is 100\n"
          ],
          "name": "stdout"
        }
      ]
    },
    {
      "cell_type": "code",
      "metadata": {
        "id": "f1QqmDT-kDqa",
        "colab_type": "code",
        "outputId": "c68584fd-d295-433b-c9c7-e49c992b2c81",
        "colab": {
          "base_uri": "https://localhost:8080/",
          "height": 34
        }
      },
      "source": [
        "a = 2\n",
        "b = 3\n",
        "c = a * b\n",
        "print(c)"
      ],
      "execution_count": 0,
      "outputs": [
        {
          "output_type": "stream",
          "text": [
            "6\n"
          ],
          "name": "stdout"
        }
      ]
    },
    {
      "cell_type": "markdown",
      "metadata": {
        "id": "kA1yDwbFmu7g",
        "colab_type": "text"
      },
      "source": [
        "#List\n",
        "How to use list python\n"
      ]
    },
    {
      "cell_type": "code",
      "metadata": {
        "id": "03u7-B0ImmJK",
        "colab_type": "code",
        "colab": {
          "base_uri": "https://localhost:8080/",
          "height": 34
        },
        "outputId": "91c6b19a-4b6b-418e-9a02-24a8f615668e"
      },
      "source": [
        "mylist = []\n",
        "mylist.append(\"Pukjira\")\n",
        "mylist.append(500)\n",
        "mylist"
      ],
      "execution_count": 9,
      "outputs": [
        {
          "output_type": "execute_result",
          "data": {
            "text/plain": [
              "['Pukjira', 500]"
            ]
          },
          "metadata": {
            "tags": []
          },
          "execution_count": 9
        }
      ]
    },
    {
      "cell_type": "markdown",
      "metadata": {
        "id": "lQQjRnr1nJeX",
        "colab_type": "text"
      },
      "source": [
        "How to count Data in list"
      ]
    },
    {
      "cell_type": "code",
      "metadata": {
        "id": "nwN1qJApnGzc",
        "colab_type": "code",
        "colab": {
          "base_uri": "https://localhost:8080/",
          "height": 34
        },
        "outputId": "ddc5712b-5279-47a2-d34a-ce5588996c8a"
      },
      "source": [
        "len(mylist)"
      ],
      "execution_count": 5,
      "outputs": [
        {
          "output_type": "execute_result",
          "data": {
            "text/plain": [
              "2"
            ]
          },
          "metadata": {
            "tags": []
          },
          "execution_count": 5
        }
      ]
    },
    {
      "cell_type": "markdown",
      "metadata": {
        "id": "D7jh3AZ5nwTX",
        "colab_type": "text"
      },
      "source": [
        "#If Else \n"
      ]
    },
    {
      "cell_type": "code",
      "metadata": {
        "id": "5zVDwlqbn03I",
        "colab_type": "code",
        "colab": {
          "base_uri": "https://localhost:8080/",
          "height": 34
        },
        "outputId": "f90b725c-2110-4c53-8183-0d4d13e2c13b"
      },
      "source": [
        "if mylist[1] < 100 :\n",
        "  name = mylist[0]\n",
        "  score = mylist[1]\n",
        "  print(name + \" \" + str(score))\n",
        "elif mylist[1] >= 100 :\n",
        "  print(\"Passssss\")\n",
        "elif mylist[1] > 500 :\n",
        "  print(\"A\")"
      ],
      "execution_count": 14,
      "outputs": [
        {
          "output_type": "stream",
          "text": [
            "Passssss\n"
          ],
          "name": "stdout"
        }
      ]
    },
    {
      "cell_type": "code",
      "metadata": {
        "id": "EsfcqDI9oJeu",
        "colab_type": "code",
        "colab": {
          "base_uri": "https://localhost:8080/",
          "height": 34
        },
        "outputId": "5aa97bbe-df86-45af-8e35-05b58979dd4a"
      },
      "source": [
        "score = 5\n",
        "if score < 2 :\n",
        "  print(\"C\")\n",
        "elif score <= 4 :\n",
        "  print(\"B\")\n",
        "elif score >= 5:\n",
        "  print(\"A\")"
      ],
      "execution_count": 16,
      "outputs": [
        {
          "output_type": "stream",
          "text": [
            "A\n"
          ],
          "name": "stdout"
        }
      ]
    },
    {
      "cell_type": "markdown",
      "metadata": {
        "id": "O_8uWBa9p7X5",
        "colab_type": "text"
      },
      "source": [
        "#For loop"
      ]
    },
    {
      "cell_type": "code",
      "metadata": {
        "id": "-7lJvhKdp_JF",
        "colab_type": "code",
        "colab": {
          "base_uri": "https://localhost:8080/",
          "height": 204
        },
        "outputId": "f89b8e6c-b0f1-4a4a-872d-1217e1c753d8"
      },
      "source": [
        "summation = 0\n",
        "for i in range(0,10) :\n",
        "  print(str(i))\n",
        "  summation = summation + 1\n",
        "print(\"The summation result is \" + str(summation))\n"
      ],
      "execution_count": 24,
      "outputs": [
        {
          "output_type": "stream",
          "text": [
            "0\n",
            "1\n",
            "2\n",
            "3\n",
            "4\n",
            "5\n",
            "6\n",
            "7\n",
            "8\n",
            "9\n",
            "The summation result is 10\n"
          ],
          "name": "stdout"
        }
      ]
    },
    {
      "cell_type": "code",
      "metadata": {
        "id": "tkfHATVyrBr9",
        "colab_type": "code",
        "colab": {
          "base_uri": "https://localhost:8080/",
          "height": 170
        },
        "outputId": "67605e04-197b-4538-834b-682866a66bab"
      },
      "source": [
        "summation = []\n",
        "for i in range(1,10) :\n",
        "  summation.append(i)\n",
        "  \n",
        "for i in summation :\n",
        "  print(str(i))"
      ],
      "execution_count": 26,
      "outputs": [
        {
          "output_type": "stream",
          "text": [
            "1\n",
            "2\n",
            "3\n",
            "4\n",
            "5\n",
            "6\n",
            "7\n",
            "8\n",
            "9\n"
          ],
          "name": "stdout"
        }
      ]
    },
    {
      "cell_type": "code",
      "metadata": {
        "id": "yjfI9fcOsR0F",
        "colab_type": "code",
        "colab": {
          "base_uri": "https://localhost:8080/",
          "height": 187
        },
        "outputId": "f6495d28-7ed6-43ce-d49a-052dc963c63d"
      },
      "source": [
        "summation = []\n",
        "for i in range(0,10) :\n",
        "  a = i * 2\n",
        "  summation.append(a)\n",
        "  print(str(a))"
      ],
      "execution_count": 33,
      "outputs": [
        {
          "output_type": "stream",
          "text": [
            "0\n",
            "2\n",
            "4\n",
            "6\n",
            "8\n",
            "10\n",
            "12\n",
            "14\n",
            "16\n",
            "18\n"
          ],
          "name": "stdout"
        }
      ]
    },
    {
      "cell_type": "markdown",
      "metadata": {
        "id": "bcBBrI0tvUUU",
        "colab_type": "text"
      },
      "source": [
        "#Numpy"
      ]
    },
    {
      "cell_type": "code",
      "metadata": {
        "id": "WiF6MCrpvXrQ",
        "colab_type": "code",
        "colab": {}
      },
      "source": [
        "import numpy as np"
      ],
      "execution_count": 0,
      "outputs": []
    },
    {
      "cell_type": "code",
      "metadata": {
        "id": "N2LYopEOvgfs",
        "colab_type": "code",
        "colab": {
          "base_uri": "https://localhost:8080/",
          "height": 34
        },
        "outputId": "530e10cf-83d4-40f1-a718-9a428345d8bd"
      },
      "source": [
        "l = [1,2,3,4]\n",
        "np_array = np.array(l)\n",
        "type(np_array)\n"
      ],
      "execution_count": 41,
      "outputs": [
        {
          "output_type": "execute_result",
          "data": {
            "text/plain": [
              "numpy.ndarray"
            ]
          },
          "metadata": {
            "tags": []
          },
          "execution_count": 41
        }
      ]
    },
    {
      "cell_type": "markdown",
      "metadata": {
        "id": "5o6mbdXzwueo",
        "colab_type": "text"
      },
      "source": [
        "creat Matrix in array format"
      ]
    },
    {
      "cell_type": "code",
      "metadata": {
        "id": "B2eEOJlHwTTm",
        "colab_type": "code",
        "colab": {}
      },
      "source": [
        "np_matrix = np.array([[1,2],[3,4],[5,6]])"
      ],
      "execution_count": 0,
      "outputs": []
    },
    {
      "cell_type": "code",
      "metadata": {
        "id": "d-KzBq5Iw_an",
        "colab_type": "code",
        "colab": {
          "base_uri": "https://localhost:8080/",
          "height": 68
        },
        "outputId": "35945c8b-98f5-45d3-d278-2376085e620f"
      },
      "source": [
        "np_matrix"
      ],
      "execution_count": 43,
      "outputs": [
        {
          "output_type": "execute_result",
          "data": {
            "text/plain": [
              "array([[1, 2],\n",
              "       [3, 4],\n",
              "       [5, 6]])"
            ]
          },
          "metadata": {
            "tags": []
          },
          "execution_count": 43
        }
      ]
    },
    {
      "cell_type": "markdown",
      "metadata": {
        "id": "KJflynQgxDd4",
        "colab_type": "text"
      },
      "source": [
        "Check the dimension of this matrix"
      ]
    },
    {
      "cell_type": "code",
      "metadata": {
        "id": "IUsMPnUexBnI",
        "colab_type": "code",
        "colab": {
          "base_uri": "https://localhost:8080/",
          "height": 34
        },
        "outputId": "5d651704-5ce8-47ff-e1d3-7b62bd6c7aed"
      },
      "source": [
        "np.size(np_matrix,0)"
      ],
      "execution_count": 44,
      "outputs": [
        {
          "output_type": "execute_result",
          "data": {
            "text/plain": [
              "3"
            ]
          },
          "metadata": {
            "tags": []
          },
          "execution_count": 44
        }
      ]
    },
    {
      "cell_type": "code",
      "metadata": {
        "id": "Wcb7o-HKxRrW",
        "colab_type": "code",
        "colab": {
          "base_uri": "https://localhost:8080/",
          "height": 34
        },
        "outputId": "aa21ad50-91de-4241-c542-8605e9e4a83a"
      },
      "source": [
        "np.size(np_matrix,1)"
      ],
      "execution_count": 45,
      "outputs": [
        {
          "output_type": "execute_result",
          "data": {
            "text/plain": [
              "2"
            ]
          },
          "metadata": {
            "tags": []
          },
          "execution_count": 45
        }
      ]
    },
    {
      "cell_type": "markdown",
      "metadata": {
        "id": "5n4PyzuFxYCX",
        "colab_type": "text"
      },
      "source": [
        "Check other matrix proerties"
      ]
    },
    {
      "cell_type": "code",
      "metadata": {
        "id": "cmFeGEG6xWdO",
        "colab_type": "code",
        "colab": {
          "base_uri": "https://localhost:8080/",
          "height": 34
        },
        "outputId": "a05ff144-1d57-4688-b8ad-4282b82ab3ce"
      },
      "source": [
        "np_matrix.shape"
      ],
      "execution_count": 46,
      "outputs": [
        {
          "output_type": "execute_result",
          "data": {
            "text/plain": [
              "(3, 2)"
            ]
          },
          "metadata": {
            "tags": []
          },
          "execution_count": 46
        }
      ]
    },
    {
      "cell_type": "code",
      "metadata": {
        "id": "b4pzLRubxled",
        "colab_type": "code",
        "colab": {
          "base_uri": "https://localhost:8080/",
          "height": 34
        },
        "outputId": "7bdb1ef6-91ae-4161-8dba-8506a982317a"
      },
      "source": [
        "np_matrix.ndim"
      ],
      "execution_count": 47,
      "outputs": [
        {
          "output_type": "execute_result",
          "data": {
            "text/plain": [
              "2"
            ]
          },
          "metadata": {
            "tags": []
          },
          "execution_count": 47
        }
      ]
    },
    {
      "cell_type": "code",
      "metadata": {
        "id": "AW5sv4yFxppt",
        "colab_type": "code",
        "colab": {
          "base_uri": "https://localhost:8080/",
          "height": 34
        },
        "outputId": "427962db-94d2-4aca-f486-7b2eeffcd192"
      },
      "source": [
        "np_matrix.size"
      ],
      "execution_count": 48,
      "outputs": [
        {
          "output_type": "execute_result",
          "data": {
            "text/plain": [
              "6"
            ]
          },
          "metadata": {
            "tags": []
          },
          "execution_count": 48
        }
      ]
    },
    {
      "cell_type": "markdown",
      "metadata": {
        "id": "tI9d7Ng0xuuX",
        "colab_type": "text"
      },
      "source": [
        "create Matrix with Mix Data Type"
      ]
    },
    {
      "cell_type": "code",
      "metadata": {
        "id": "WAft-J_txs7t",
        "colab_type": "code",
        "colab": {}
      },
      "source": [
        "np_mix_matrix = np.array([['one',2],['three',4],['five',6]])"
      ],
      "execution_count": 0,
      "outputs": []
    },
    {
      "cell_type": "code",
      "metadata": {
        "id": "wWig_8x3yIp9",
        "colab_type": "code",
        "colab": {
          "base_uri": "https://localhost:8080/",
          "height": 68
        },
        "outputId": "d49c0df4-2b8e-43ac-b3a1-e2c02fc2c9fc"
      },
      "source": [
        "np_mix_matrix"
      ],
      "execution_count": 51,
      "outputs": [
        {
          "output_type": "execute_result",
          "data": {
            "text/plain": [
              "array([['one', '2'],\n",
              "       ['three', '4'],\n",
              "       ['five', '6']], dtype='<U5')"
            ]
          },
          "metadata": {
            "tags": []
          },
          "execution_count": 51
        }
      ]
    },
    {
      "cell_type": "markdown",
      "metadata": {
        "id": "5Ql7V3drycye",
        "colab_type": "text"
      },
      "source": [
        "Random matrix of size = (5,5)\n"
      ]
    },
    {
      "cell_type": "code",
      "metadata": {
        "id": "wKSBUfPRyi62",
        "colab_type": "code",
        "colab": {
          "base_uri": "https://localhost:8080/",
          "height": 102
        },
        "outputId": "071e7acf-c1b1-4f5e-d1e4-0d8a6389d9dd"
      },
      "source": [
        "np.random.rand(5,5)"
      ],
      "execution_count": 52,
      "outputs": [
        {
          "output_type": "execute_result",
          "data": {
            "text/plain": [
              "array([[0.30152584, 0.18563855, 0.33803532, 0.39556245, 0.46383095],\n",
              "       [0.93901183, 0.87518267, 0.35933851, 0.41559911, 0.09234557],\n",
              "       [0.47698698, 0.33635849, 0.15404649, 0.41292343, 0.76737335],\n",
              "       [0.6161004 , 0.80052245, 0.75863691, 0.55225536, 0.68218009],\n",
              "       [0.67028248, 0.0188938 , 0.19192909, 0.91002375, 0.21024172]])"
            ]
          },
          "metadata": {
            "tags": []
          },
          "execution_count": 52
        }
      ]
    },
    {
      "cell_type": "markdown",
      "metadata": {
        "id": "yhqH3xJozEmm",
        "colab_type": "text"
      },
      "source": [
        "Random matrix of size = 3,3 having value between 0 to 4"
      ]
    },
    {
      "cell_type": "code",
      "metadata": {
        "id": "fcgqLcwJyuZO",
        "colab_type": "code",
        "colab": {
          "base_uri": "https://localhost:8080/",
          "height": 68
        },
        "outputId": "caac3311-9f71-4729-bbed-39aeae18e105"
      },
      "source": [
        "np.random.randint(5,size = (3,3))"
      ],
      "execution_count": 55,
      "outputs": [
        {
          "output_type": "execute_result",
          "data": {
            "text/plain": [
              "array([[3, 2, 1],\n",
              "       [2, 2, 2],\n",
              "       [4, 1, 2]])"
            ]
          },
          "metadata": {
            "tags": []
          },
          "execution_count": 55
        }
      ]
    },
    {
      "cell_type": "code",
      "metadata": {
        "id": "7M6eyKylzXrt",
        "colab_type": "code",
        "colab": {
          "base_uri": "https://localhost:8080/",
          "height": 187
        },
        "outputId": "89acf885-2057-4677-84c5-21e69f2da1ab"
      },
      "source": [
        "np.random.randint(2,size = (10,5))"
      ],
      "execution_count": 58,
      "outputs": [
        {
          "output_type": "execute_result",
          "data": {
            "text/plain": [
              "array([[1, 1, 0, 0, 1],\n",
              "       [1, 0, 0, 1, 0],\n",
              "       [0, 0, 0, 0, 1],\n",
              "       [0, 0, 0, 0, 1],\n",
              "       [0, 0, 1, 1, 0],\n",
              "       [0, 1, 1, 0, 0],\n",
              "       [0, 0, 0, 1, 1],\n",
              "       [0, 0, 1, 0, 0],\n",
              "       [0, 0, 0, 1, 0],\n",
              "       [0, 0, 1, 0, 1]])"
            ]
          },
          "metadata": {
            "tags": []
          },
          "execution_count": 58
        }
      ]
    },
    {
      "cell_type": "code",
      "metadata": {
        "id": "m7mDtayiz6U1",
        "colab_type": "code",
        "colab": {
          "base_uri": "https://localhost:8080/",
          "height": 51
        },
        "outputId": "0c3ac114-476e-4f35-8261-93bb8f1f2dbb"
      },
      "source": [
        "np.zeros([0,3])"
      ],
      "execution_count": 59,
      "outputs": [
        {
          "output_type": "execute_result",
          "data": {
            "text/plain": [
              "array([[0., 0., 0.],\n",
              "       [0., 0., 0.]])"
            ]
          },
          "metadata": {
            "tags": []
          },
          "execution_count": 59
        }
      ]
    },
    {
      "cell_type": "code",
      "metadata": {
        "id": "xh7sLzeM0A8V",
        "colab_type": "code",
        "colab": {
          "base_uri": "https://localhost:8080/",
          "height": 34
        },
        "outputId": "f9331800-016b-4211-e4fd-27e92196f530"
      },
      "source": [
        "np.empty([2])"
      ],
      "execution_count": 88,
      "outputs": [
        {
          "output_type": "execute_result",
          "data": {
            "text/plain": [
              "array([7.74860419e-304, 7.74860419e-304])"
            ]
          },
          "metadata": {
            "tags": []
          },
          "execution_count": 88
        }
      ]
    },
    {
      "cell_type": "markdown",
      "metadata": {
        "id": "ExevPMgi4boQ",
        "colab_type": "text"
      },
      "source": [
        "#EX 1 "
      ]
    },
    {
      "cell_type": "code",
      "metadata": {
        "id": "52ZSirLy0Wcd",
        "colab_type": "code",
        "colab": {
          "base_uri": "https://localhost:8080/",
          "height": 187
        },
        "outputId": "faf38f19-421a-4e8d-ed78-0532fdda0aa9"
      },
      "source": [
        "a = np.random.rand(10,5)\n",
        "b = np.random.randint(2,size = (10))\n",
        "a[:,4] = b\n",
        "a"
      ],
      "execution_count": 103,
      "outputs": [
        {
          "output_type": "execute_result",
          "data": {
            "text/plain": [
              "array([[0.50650412, 0.55814445, 0.37081948, 0.66074408, 1.        ],\n",
              "       [0.05422235, 0.90687007, 0.99588008, 0.71874176, 1.        ],\n",
              "       [0.9835244 , 0.08279498, 0.08328305, 0.79224835, 0.        ],\n",
              "       [0.86979757, 0.77384752, 0.56856975, 0.34248259, 0.        ],\n",
              "       [0.61483107, 0.76790444, 0.5289868 , 0.97373026, 0.        ],\n",
              "       [0.2483852 , 0.08928755, 0.76653947, 0.55827518, 0.        ],\n",
              "       [0.16746259, 0.13671579, 0.68680776, 0.03512438, 0.        ],\n",
              "       [0.88959454, 0.55660042, 0.75151943, 0.96280163, 1.        ],\n",
              "       [0.67393293, 0.14000505, 0.98631172, 0.92642796, 0.        ],\n",
              "       [0.75023848, 0.14167033, 0.98456912, 0.7021096 , 1.        ]])"
            ]
          },
          "metadata": {
            "tags": []
          },
          "execution_count": 103
        }
      ]
    },
    {
      "cell_type": "markdown",
      "metadata": {
        "id": "SeU3uRG34dc4",
        "colab_type": "text"
      },
      "source": [
        "#EX 2"
      ]
    },
    {
      "cell_type": "code",
      "metadata": {
        "id": "GhvSrHz80YIy",
        "colab_type": "code",
        "colab": {
          "base_uri": "https://localhost:8080/",
          "height": 187
        },
        "outputId": "c452b60a-d902-47a4-d191-537ddb3cff3c"
      },
      "source": [
        "np_mat = np.random.rand(10,5)\n",
        "np_mat"
      ],
      "execution_count": 121,
      "outputs": [
        {
          "output_type": "execute_result",
          "data": {
            "text/plain": [
              "array([[0.32723319, 0.87954464, 0.79726936, 0.27156608, 0.77727412],\n",
              "       [0.58809845, 0.76079966, 0.71473632, 0.76740488, 0.88013158],\n",
              "       [0.86271822, 0.88893991, 0.65004494, 0.58077892, 0.16308633],\n",
              "       [0.93413525, 0.61815425, 0.02352248, 0.51228244, 0.09712516],\n",
              "       [0.06476505, 0.04735218, 0.23285031, 0.85909544, 0.79351475],\n",
              "       [0.47423523, 0.73127133, 0.35854921, 0.99568261, 0.83019311],\n",
              "       [0.98108297, 0.97965713, 0.83810659, 0.68918721, 0.06914085],\n",
              "       [0.05000627, 0.48539428, 0.86220101, 0.08208341, 0.61490863],\n",
              "       [0.89284008, 0.54064124, 0.42760135, 0.65718893, 0.6270378 ],\n",
              "       [0.9880533 , 0.71752261, 0.5829916 , 0.94320951, 0.67552987]])"
            ]
          },
          "metadata": {
            "tags": []
          },
          "execution_count": 121
        }
      ]
    },
    {
      "cell_type": "code",
      "metadata": {
        "id": "sO4n7NnI5QHH",
        "colab_type": "code",
        "colab": {
          "base_uri": "https://localhost:8080/",
          "height": 34
        },
        "outputId": "f64a63a5-6b19-43ce-849f-d9dd68bf967c"
      },
      "source": [
        "np_mat2 = np.random.randint(3,size = (10))\n",
        "np_mat2"
      ],
      "execution_count": 122,
      "outputs": [
        {
          "output_type": "execute_result",
          "data": {
            "text/plain": [
              "array([0, 1, 1, 0, 0, 1, 2, 2, 2, 2])"
            ]
          },
          "metadata": {
            "tags": []
          },
          "execution_count": 122
        }
      ]
    },
    {
      "cell_type": "code",
      "metadata": {
        "id": "xnITRyF-6bmn",
        "colab_type": "code",
        "colab": {
          "base_uri": "https://localhost:8080/",
          "height": 34
        },
        "outputId": "be605ab6-776e-48eb-a692-20d142a7e21b"
      },
      "source": [
        "result = np.where(np_mat2 == 2 )\n",
        "result"
      ],
      "execution_count": 123,
      "outputs": [
        {
          "output_type": "execute_result",
          "data": {
            "text/plain": [
              "(array([6, 7, 8, 9]),)"
            ]
          },
          "metadata": {
            "tags": []
          },
          "execution_count": 123
        }
      ]
    },
    {
      "cell_type": "code",
      "metadata": {
        "id": "F1jbLjwl6zxR",
        "colab_type": "code",
        "colab": {
          "base_uri": "https://localhost:8080/",
          "height": 85
        },
        "outputId": "9c7b715c-451f-4eee-9da8-f2193afa77a1"
      },
      "source": [
        "np_mat[result,:]"
      ],
      "execution_count": 124,
      "outputs": [
        {
          "output_type": "execute_result",
          "data": {
            "text/plain": [
              "array([[[0.98108297, 0.97965713, 0.83810659, 0.68918721, 0.06914085],\n",
              "        [0.05000627, 0.48539428, 0.86220101, 0.08208341, 0.61490863],\n",
              "        [0.89284008, 0.54064124, 0.42760135, 0.65718893, 0.6270378 ],\n",
              "        [0.9880533 , 0.71752261, 0.5829916 , 0.94320951, 0.67552987]]])"
            ]
          },
          "metadata": {
            "tags": []
          },
          "execution_count": 124
        }
      ]
    }
  ]
}