{
  "nbformat": 4,
  "nbformat_minor": 0,
  "metadata": {
    "colab": {
      "name": "python1.ipynb",
      "provenance": [],
      "collapsed_sections": [],
      "include_colab_link": true
    },
    "kernelspec": {
      "name": "python3",
      "display_name": "Python 3"
    }
  },
  "cells": [
    {
      "cell_type": "markdown",
      "metadata": {
        "id": "view-in-github",
        "colab_type": "text"
      },
      "source": [
        "<a href=\"https://colab.research.google.com/github/Pimmiiiu/DW/blob/master/python1.ipynb\" target=\"_parent\"><img src=\"https://colab.research.google.com/assets/colab-badge.svg\" alt=\"Open In Colab\"/></a>"
      ]
    },
    {
      "cell_type": "markdown",
      "metadata": {
        "id": "GjbOd4m7iTZk",
        "colab_type": "text"
      },
      "source": [
        "#Hello PyThon\n",
        "##Hello PyThon\n",
        "###Hello Python\n",
        "This is my first python"
      ]
    },
    {
      "cell_type": "code",
      "metadata": {
        "id": "MMMMMeDWh3w4",
        "colab_type": "code",
        "outputId": "fb474b03-219b-4870-b691-00fac11c0b09",
        "colab": {
          "base_uri": "https://localhost:8080/",
          "height": 34
        }
      },
      "source": [
        "print(\"Hello World\")"
      ],
      "execution_count": 0,
      "outputs": [
        {
          "output_type": "stream",
          "text": [
            "Hello World\n"
          ],
          "name": "stdout"
        }
      ]
    },
    {
      "cell_type": "markdown",
      "metadata": {
        "id": "T9KkIdtYjMY7",
        "colab_type": "text"
      },
      "source": [
        "#declare Variable\n",
        "How to declare variable in python"
      ]
    },
    {
      "cell_type": "code",
      "metadata": {
        "id": "ln5U2Ploi5Co",
        "colab_type": "code",
        "outputId": "f05b3620-716a-441a-978a-a3e46334254d",
        "colab": {
          "base_uri": "https://localhost:8080/",
          "height": 34
        }
      },
      "source": [
        "score = 100\n",
        "name =\"Pukjira\"\n",
        "print(\" Name is \"+ name + \" Score is \" + str(score))"
      ],
      "execution_count": 0,
      "outputs": [
        {
          "output_type": "stream",
          "text": [
            " Name is Pukjira Score is 100\n"
          ],
          "name": "stdout"
        }
      ]
    },
    {
      "cell_type": "code",
      "metadata": {
        "id": "f1QqmDT-kDqa",
        "colab_type": "code",
        "outputId": "c68584fd-d295-433b-c9c7-e49c992b2c81",
        "colab": {
          "base_uri": "https://localhost:8080/",
          "height": 34
        }
      },
      "source": [
        "a = 2\n",
        "b = 3\n",
        "c = a * b\n",
        "print(c)"
      ],
      "execution_count": 0,
      "outputs": [
        {
          "output_type": "stream",
          "text": [
            "6\n"
          ],
          "name": "stdout"
        }
      ]
    },
    {
      "cell_type": "markdown",
      "metadata": {
        "id": "kA1yDwbFmu7g",
        "colab_type": "text"
      },
      "source": [
        "#List\n",
        "How to use list python\n"
      ]
    },
    {
      "cell_type": "code",
      "metadata": {
        "id": "03u7-B0ImmJK",
        "colab_type": "code",
        "colab": {
          "base_uri": "https://localhost:8080/",
          "height": 34
        },
        "outputId": "91c6b19a-4b6b-418e-9a02-24a8f615668e"
      },
      "source": [
        "mylist = []\n",
        "mylist.append(\"Pukjira\")\n",
        "mylist.append(500)\n",
        "mylist"
      ],
      "execution_count": 9,
      "outputs": [
        {
          "output_type": "execute_result",
          "data": {
            "text/plain": [
              "['Pukjira', 500]"
            ]
          },
          "metadata": {
            "tags": []
          },
          "execution_count": 9
        }
      ]
    },
    {
      "cell_type": "markdown",
      "metadata": {
        "id": "lQQjRnr1nJeX",
        "colab_type": "text"
      },
      "source": [
        "How to count Data in list"
      ]
    },
    {
      "cell_type": "code",
      "metadata": {
        "id": "nwN1qJApnGzc",
        "colab_type": "code",
        "colab": {
          "base_uri": "https://localhost:8080/",
          "height": 34
        },
        "outputId": "ddc5712b-5279-47a2-d34a-ce5588996c8a"
      },
      "source": [
        "len(mylist)"
      ],
      "execution_count": 5,
      "outputs": [
        {
          "output_type": "execute_result",
          "data": {
            "text/plain": [
              "2"
            ]
          },
          "metadata": {
            "tags": []
          },
          "execution_count": 5
        }
      ]
    },
    {
      "cell_type": "markdown",
      "metadata": {
        "id": "D7jh3AZ5nwTX",
        "colab_type": "text"
      },
      "source": [
        "#If Else \n"
      ]
    },
    {
      "cell_type": "code",
      "metadata": {
        "id": "5zVDwlqbn03I",
        "colab_type": "code",
        "colab": {
          "base_uri": "https://localhost:8080/",
          "height": 34
        },
        "outputId": "f90b725c-2110-4c53-8183-0d4d13e2c13b"
      },
      "source": [
        "if mylist[1] < 100 :\n",
        "  name = mylist[0]\n",
        "  score = mylist[1]\n",
        "  print(name + \" \" + str(score))\n",
        "elif mylist[1] >= 100 :\n",
        "  print(\"Passssss\")\n",
        "elif mylist[1] > 500 :\n",
        "  print(\"A\")"
      ],
      "execution_count": 14,
      "outputs": [
        {
          "output_type": "stream",
          "text": [
            "Passssss\n"
          ],
          "name": "stdout"
        }
      ]
    },
    {
      "cell_type": "code",
      "metadata": {
        "id": "EsfcqDI9oJeu",
        "colab_type": "code",
        "colab": {
          "base_uri": "https://localhost:8080/",
          "height": 34
        },
        "outputId": "5aa97bbe-df86-45af-8e35-05b58979dd4a"
      },
      "source": [
        "score = 5\n",
        "if score < 2 :\n",
        "  print(\"C\")\n",
        "elif score <= 4 :\n",
        "  print(\"B\")\n",
        "elif score >= 5:\n",
        "  print(\"A\")"
      ],
      "execution_count": 16,
      "outputs": [
        {
          "output_type": "stream",
          "text": [
            "A\n"
          ],
          "name": "stdout"
        }
      ]
    },
    {
      "cell_type": "markdown",
      "metadata": {
        "id": "O_8uWBa9p7X5",
        "colab_type": "text"
      },
      "source": [
        "#For loop"
      ]
    },
    {
      "cell_type": "code",
      "metadata": {
        "id": "-7lJvhKdp_JF",
        "colab_type": "code",
        "colab": {
          "base_uri": "https://localhost:8080/",
          "height": 204
        },
        "outputId": "f89b8e6c-b0f1-4a4a-872d-1217e1c753d8"
      },
      "source": [
        "summation = 0\n",
        "for i in range(0,10) :\n",
        "  print(str(i))\n",
        "  summation = summation + 1\n",
        "print(\"The summation result is \" + str(summation))\n"
      ],
      "execution_count": 24,
      "outputs": [
        {
          "output_type": "stream",
          "text": [
            "0\n",
            "1\n",
            "2\n",
            "3\n",
            "4\n",
            "5\n",
            "6\n",
            "7\n",
            "8\n",
            "9\n",
            "The summation result is 10\n"
          ],
          "name": "stdout"
        }
      ]
    },
    {
      "cell_type": "code",
      "metadata": {
        "id": "tkfHATVyrBr9",
        "colab_type": "code",
        "colab": {
          "base_uri": "https://localhost:8080/",
          "height": 170
        },
        "outputId": "67605e04-197b-4538-834b-682866a66bab"
      },
      "source": [
        "summation = []\n",
        "for i in range(1,10) :\n",
        "  summation.append(i)\n",
        "  \n",
        "for i in summation :\n",
        "  print(str(i))"
      ],
      "execution_count": 26,
      "outputs": [
        {
          "output_type": "stream",
          "text": [
            "1\n",
            "2\n",
            "3\n",
            "4\n",
            "5\n",
            "6\n",
            "7\n",
            "8\n",
            "9\n"
          ],
          "name": "stdout"
        }
      ]
    },
    {
      "cell_type": "code",
      "metadata": {
        "id": "yjfI9fcOsR0F",
        "colab_type": "code",
        "colab": {
          "base_uri": "https://localhost:8080/",
          "height": 187
        },
        "outputId": "f6495d28-7ed6-43ce-d49a-052dc963c63d"
      },
      "source": [
        "summation = []\n",
        "for i in range(0,10) :\n",
        "  a = i * 2\n",
        "  summation.append(a)\n",
        "  print(str(a))"
      ],
      "execution_count": 33,
      "outputs": [
        {
          "output_type": "stream",
          "text": [
            "0\n",
            "2\n",
            "4\n",
            "6\n",
            "8\n",
            "10\n",
            "12\n",
            "14\n",
            "16\n",
            "18\n"
          ],
          "name": "stdout"
        }
      ]
    }
  ]
}