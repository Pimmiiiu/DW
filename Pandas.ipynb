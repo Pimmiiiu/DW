{
  "nbformat": 4,
  "nbformat_minor": 0,
  "metadata": {
    "colab": {
      "name": "Pandas.ipynb",
      "provenance": [],
      "include_colab_link": true
    },
    "kernelspec": {
      "name": "python3",
      "display_name": "Python 3"
    }
  },
  "cells": [
    {
      "cell_type": "markdown",
      "metadata": {
        "id": "view-in-github",
        "colab_type": "text"
      },
      "source": [
        "<a href=\"https://colab.research.google.com/github/Pimmiiiu/DW/blob/master/Pandas.ipynb\" target=\"_parent\"><img src=\"https://colab.research.google.com/assets/colab-badge.svg\" alt=\"Open In Colab\"/></a>"
      ]
    },
    {
      "cell_type": "markdown",
      "metadata": {
        "id": "pux7_9aqu-1e",
        "colab_type": "text"
      },
      "source": [
        "#PANDAS"
      ]
    },
    {
      "cell_type": "code",
      "metadata": {
        "id": "Dd2H7oYtu5j3",
        "colab_type": "code",
        "colab": {}
      },
      "source": [
        "import pandas as pd"
      ],
      "execution_count": 0,
      "outputs": []
    },
    {
      "cell_type": "code",
      "metadata": {
        "id": "ubixZ5W2u85_",
        "colab_type": "code",
        "colab": {
          "base_uri": "https://localhost:8080/",
          "height": 406
        },
        "outputId": "38b9a386-ff72-4a60-aa63-2a6c72731181"
      },
      "source": [
        "df = pd.read_csv(\"https://raw.githubusercontent.com/Pimmiiiu/DW/master/titanicc.csv\")\n",
        "df"
      ],
      "execution_count": 2,
      "outputs": [
        {
          "output_type": "execute_result",
          "data": {
            "text/html": [
              "<div>\n",
              "<style scoped>\n",
              "    .dataframe tbody tr th:only-of-type {\n",
              "        vertical-align: middle;\n",
              "    }\n",
              "\n",
              "    .dataframe tbody tr th {\n",
              "        vertical-align: top;\n",
              "    }\n",
              "\n",
              "    .dataframe thead th {\n",
              "        text-align: right;\n",
              "    }\n",
              "</style>\n",
              "<table border=\"1\" class=\"dataframe\">\n",
              "  <thead>\n",
              "    <tr style=\"text-align: right;\">\n",
              "      <th></th>\n",
              "      <th>First;Allen</th>\n",
              "      <th>Miss. Elisabeth Walton;Female;29.0;0;0;24160;211.3375;B5;Southampton;2;Yes</th>\n",
              "    </tr>\n",
              "  </thead>\n",
              "  <tbody>\n",
              "    <tr>\n",
              "      <th>0</th>\n",
              "      <td>First;Allison</td>\n",
              "      <td>Master. Hudson Trevor;Male;0.9167;1;2;113781;...</td>\n",
              "    </tr>\n",
              "    <tr>\n",
              "      <th>1</th>\n",
              "      <td>First;Allison</td>\n",
              "      <td>Miss. Helen Loraine;Female;2.0;1;2;113781;151...</td>\n",
              "    </tr>\n",
              "    <tr>\n",
              "      <th>2</th>\n",
              "      <td>First;Allison</td>\n",
              "      <td>Mr. Hudson Joshua Creighton;Male;30.0;1;2;113...</td>\n",
              "    </tr>\n",
              "    <tr>\n",
              "      <th>3</th>\n",
              "      <td>First;Allison</td>\n",
              "      <td>Mrs. Hudson J C (Bessie Waldo Daniels);Female...</td>\n",
              "    </tr>\n",
              "    <tr>\n",
              "      <th>4</th>\n",
              "      <td>First;Anderson</td>\n",
              "      <td>Mr. Harry;Male;48.0;0;0;19952;26.55;E12;South...</td>\n",
              "    </tr>\n",
              "    <tr>\n",
              "      <th>...</th>\n",
              "      <td>...</td>\n",
              "      <td>...</td>\n",
              "    </tr>\n",
              "    <tr>\n",
              "      <th>1303</th>\n",
              "      <td>Third;Zabour</td>\n",
              "      <td>Miss. Hileni;Female;14.5;1;0;2665;14.4542;;Ch...</td>\n",
              "    </tr>\n",
              "    <tr>\n",
              "      <th>1304</th>\n",
              "      <td>Third;Zabour</td>\n",
              "      <td>Miss. Thamine;Female;;1;0;2665;14.4542;;Cherb...</td>\n",
              "    </tr>\n",
              "    <tr>\n",
              "      <th>1305</th>\n",
              "      <td>Third;Zakarian</td>\n",
              "      <td>Mr. Mapriededer;Male;26.5;0;0;2656;7.225;;Che...</td>\n",
              "    </tr>\n",
              "    <tr>\n",
              "      <th>1306</th>\n",
              "      <td>Third;Zakarian</td>\n",
              "      <td>Mr. Ortin;Male;27.0;0;0;2670;7.225;;Cherbourg...</td>\n",
              "    </tr>\n",
              "    <tr>\n",
              "      <th>1307</th>\n",
              "      <td>Third;Zimmerman</td>\n",
              "      <td>Mr. Leo;Male;29.0;0;0;315082;7.875;;Southampt...</td>\n",
              "    </tr>\n",
              "  </tbody>\n",
              "</table>\n",
              "<p>1308 rows × 2 columns</p>\n",
              "</div>"
            ],
            "text/plain": [
              "          First;Allen  Miss. Elisabeth Walton;Female;29.0;0;0;24160;211.3375;B5;Southampton;2;Yes\n",
              "0       First;Allison   Master. Hudson Trevor;Male;0.9167;1;2;113781;...                         \n",
              "1       First;Allison   Miss. Helen Loraine;Female;2.0;1;2;113781;151...                         \n",
              "2       First;Allison   Mr. Hudson Joshua Creighton;Male;30.0;1;2;113...                         \n",
              "3       First;Allison   Mrs. Hudson J C (Bessie Waldo Daniels);Female...                         \n",
              "4      First;Anderson   Mr. Harry;Male;48.0;0;0;19952;26.55;E12;South...                         \n",
              "...               ...                                                ...                         \n",
              "1303     Third;Zabour   Miss. Hileni;Female;14.5;1;0;2665;14.4542;;Ch...                         \n",
              "1304     Third;Zabour   Miss. Thamine;Female;;1;0;2665;14.4542;;Cherb...                         \n",
              "1305   Third;Zakarian   Mr. Mapriededer;Male;26.5;0;0;2656;7.225;;Che...                         \n",
              "1306   Third;Zakarian   Mr. Ortin;Male;27.0;0;0;2670;7.225;;Cherbourg...                         \n",
              "1307  Third;Zimmerman   Mr. Leo;Male;29.0;0;0;315082;7.875;;Southampt...                         \n",
              "\n",
              "[1308 rows x 2 columns]"
            ]
          },
          "metadata": {
            "tags": []
          },
          "execution_count": 2
        }
      ]
    },
    {
      "cell_type": "code",
      "metadata": {
        "id": "g0gd0cw3u9Yl",
        "colab_type": "code",
        "colab": {}
      },
      "source": [
        ""
      ],
      "execution_count": 0,
      "outputs": []
    }
  ]
}