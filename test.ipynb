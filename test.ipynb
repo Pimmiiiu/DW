{
  "nbformat": 4,
  "nbformat_minor": 0,
  "metadata": {
    "colab": {
      "name": "Untitled0.ipynb",
      "provenance": [],
      "include_colab_link": true
    },
    "kernelspec": {
      "name": "python3",
      "display_name": "Python 3"
    }
  },
  "cells": [
    {
      "cell_type": "markdown",
      "metadata": {
        "id": "view-in-github",
        "colab_type": "text"
      },
      "source": [
        "<a href=\"https://colab.research.google.com/github/Pimmiiiu/DW/blob/master/test.ipynb\" target=\"_parent\"><img src=\"https://colab.research.google.com/assets/colab-badge.svg\" alt=\"Open In Colab\"/></a>"
      ]
    },
    {
      "cell_type": "code",
      "metadata": {
        "id": "71fDNGI-9aUm",
        "colab_type": "code",
        "colab": {}
      },
      "source": [
        "import pandas as pd\n",
        "import numpy as np"
      ],
      "execution_count": 0,
      "outputs": []
    },
    {
      "cell_type": "code",
      "metadata": {
        "id": "On0yIH5V9dQ3",
        "colab_type": "code",
        "outputId": "9563b232-3c69-4624-c704-495852ece489",
        "colab": {
          "base_uri": "https://localhost:8080/",
          "height": 227
        }
      },
      "source": [
        "df = pd.read_csv('https://raw.githubusercontent.com/plenoi/Clinic/master/ultima_all_clean.csv')\n",
        "df = df.set_index('hn')\n",
        "df.head()"
      ],
      "execution_count": 0,
      "outputs": [
        {
          "output_type": "execute_result",
          "data": {
            "text/html": [
              "<div>\n",
              "<style scoped>\n",
              "    .dataframe tbody tr th:only-of-type {\n",
              "        vertical-align: middle;\n",
              "    }\n",
              "\n",
              "    .dataframe tbody tr th {\n",
              "        vertical-align: top;\n",
              "    }\n",
              "\n",
              "    .dataframe thead th {\n",
              "        text-align: right;\n",
              "    }\n",
              "</style>\n",
              "<table border=\"1\" class=\"dataframe\">\n",
              "  <thead>\n",
              "    <tr style=\"text-align: right;\">\n",
              "      <th></th>\n",
              "      <th>age</th>\n",
              "      <th>parity</th>\n",
              "      <th>hiv</th>\n",
              "      <th>menopaus</th>\n",
              "      <th>disease</th>\n",
              "      <th>surgery</th>\n",
              "      <th>conization</th>\n",
              "      <th>OPDsize</th>\n",
              "      <th>appearance</th>\n",
              "      <th>stage</th>\n",
              "      <th>pchemo</th>\n",
              "      <th>Wardsize</th>\n",
              "      <th>finalhisto</th>\n",
              "      <th>nodeyiel</th>\n",
              "      <th>RHlvsi</th>\n",
              "      <th>depth</th>\n",
              "      <th>size</th>\n",
              "      <th>utmet</th>\n",
              "      <th>vgmargin</th>\n",
              "      <th>vgmet</th>\n",
              "      <th>pelvicme</th>\n",
              "      <th>pmmet</th>\n",
              "      <th>adnmet</th>\n",
              "    </tr>\n",
              "    <tr>\n",
              "      <th>hn</th>\n",
              "      <th></th>\n",
              "      <th></th>\n",
              "      <th></th>\n",
              "      <th></th>\n",
              "      <th></th>\n",
              "      <th></th>\n",
              "      <th></th>\n",
              "      <th></th>\n",
              "      <th></th>\n",
              "      <th></th>\n",
              "      <th></th>\n",
              "      <th></th>\n",
              "      <th></th>\n",
              "      <th></th>\n",
              "      <th></th>\n",
              "      <th></th>\n",
              "      <th></th>\n",
              "      <th></th>\n",
              "      <th></th>\n",
              "      <th></th>\n",
              "      <th></th>\n",
              "      <th></th>\n",
              "      <th></th>\n",
              "    </tr>\n",
              "  </thead>\n",
              "  <tbody>\n",
              "    <tr>\n",
              "      <th>2631840</th>\n",
              "      <td>52</td>\n",
              "      <td>3</td>\n",
              "      <td>0.0</td>\n",
              "      <td>0.0</td>\n",
              "      <td>1</td>\n",
              "      <td>1</td>\n",
              "      <td>0.0</td>\n",
              "      <td>5.0</td>\n",
              "      <td>4.0</td>\n",
              "      <td>5.0</td>\n",
              "      <td>0.0</td>\n",
              "      <td>5.0</td>\n",
              "      <td>3.0</td>\n",
              "      <td>21.0</td>\n",
              "      <td>0.0</td>\n",
              "      <td>3.0</td>\n",
              "      <td>6.0</td>\n",
              "      <td>0.0</td>\n",
              "      <td>0.0</td>\n",
              "      <td>0.0</td>\n",
              "      <td>0.0</td>\n",
              "      <td>0.0</td>\n",
              "      <td>0.0</td>\n",
              "    </tr>\n",
              "    <tr>\n",
              "      <th>2633481</th>\n",
              "      <td>32</td>\n",
              "      <td>2</td>\n",
              "      <td>0.0</td>\n",
              "      <td>0.0</td>\n",
              "      <td>0</td>\n",
              "      <td>1</td>\n",
              "      <td>0.0</td>\n",
              "      <td>5.0</td>\n",
              "      <td>1.0</td>\n",
              "      <td>5.0</td>\n",
              "      <td>0.0</td>\n",
              "      <td>5.0</td>\n",
              "      <td>1.0</td>\n",
              "      <td>11.0</td>\n",
              "      <td>0.0</td>\n",
              "      <td>3.0</td>\n",
              "      <td>5.0</td>\n",
              "      <td>0.0</td>\n",
              "      <td>0.0</td>\n",
              "      <td>0.0</td>\n",
              "      <td>1.0</td>\n",
              "      <td>0.0</td>\n",
              "      <td>2.0</td>\n",
              "    </tr>\n",
              "    <tr>\n",
              "      <th>2634477</th>\n",
              "      <td>52</td>\n",
              "      <td>2</td>\n",
              "      <td>0.0</td>\n",
              "      <td>0.0</td>\n",
              "      <td>0</td>\n",
              "      <td>0</td>\n",
              "      <td>0.0</td>\n",
              "      <td>5.0</td>\n",
              "      <td>NaN</td>\n",
              "      <td>5.0</td>\n",
              "      <td>0.0</td>\n",
              "      <td>5.0</td>\n",
              "      <td>4.0</td>\n",
              "      <td>35.0</td>\n",
              "      <td>6.0</td>\n",
              "      <td>3.0</td>\n",
              "      <td>4.0</td>\n",
              "      <td>0.0</td>\n",
              "      <td>0.0</td>\n",
              "      <td>0.0</td>\n",
              "      <td>0.0</td>\n",
              "      <td>0.0</td>\n",
              "      <td>0.0</td>\n",
              "    </tr>\n",
              "    <tr>\n",
              "      <th>2633633</th>\n",
              "      <td>38</td>\n",
              "      <td>2</td>\n",
              "      <td>0.0</td>\n",
              "      <td>0.0</td>\n",
              "      <td>0</td>\n",
              "      <td>0</td>\n",
              "      <td>0.0</td>\n",
              "      <td>2.0</td>\n",
              "      <td>1.0</td>\n",
              "      <td>4.0</td>\n",
              "      <td>0.0</td>\n",
              "      <td>3.0</td>\n",
              "      <td>3.0</td>\n",
              "      <td>20.0</td>\n",
              "      <td>16.0</td>\n",
              "      <td>3.0</td>\n",
              "      <td>3.8</td>\n",
              "      <td>0.0</td>\n",
              "      <td>0.0</td>\n",
              "      <td>0.0</td>\n",
              "      <td>0.0</td>\n",
              "      <td>0.0</td>\n",
              "      <td>2.0</td>\n",
              "    </tr>\n",
              "    <tr>\n",
              "      <th>2630496</th>\n",
              "      <td>55</td>\n",
              "      <td>3</td>\n",
              "      <td>0.0</td>\n",
              "      <td>1.0</td>\n",
              "      <td>0</td>\n",
              "      <td>0</td>\n",
              "      <td>1.0</td>\n",
              "      <td>0.0</td>\n",
              "      <td>5.0</td>\n",
              "      <td>4.0</td>\n",
              "      <td>0.0</td>\n",
              "      <td>0.0</td>\n",
              "      <td>1.0</td>\n",
              "      <td>17.0</td>\n",
              "      <td>9.0</td>\n",
              "      <td>3.0</td>\n",
              "      <td>0.0</td>\n",
              "      <td>0.0</td>\n",
              "      <td>0.0</td>\n",
              "      <td>0.0</td>\n",
              "      <td>1.0</td>\n",
              "      <td>0.0</td>\n",
              "      <td>0.0</td>\n",
              "    </tr>\n",
              "  </tbody>\n",
              "</table>\n",
              "</div>"
            ],
            "text/plain": [
              "         age  parity  hiv  menopaus  ...  vgmet  pelvicme  pmmet  adnmet\n",
              "hn                                   ...                                \n",
              "2631840   52       3  0.0       0.0  ...    0.0       0.0    0.0     0.0\n",
              "2633481   32       2  0.0       0.0  ...    0.0       1.0    0.0     2.0\n",
              "2634477   52       2  0.0       0.0  ...    0.0       0.0    0.0     0.0\n",
              "2633633   38       2  0.0       0.0  ...    0.0       0.0    0.0     2.0\n",
              "2630496   55       3  0.0       1.0  ...    0.0       1.0    0.0     0.0\n",
              "\n",
              "[5 rows x 23 columns]"
            ]
          },
          "metadata": {
            "tags": []
          },
          "execution_count": 2
        }
      ]
    },
    {
      "cell_type": "markdown",
      "metadata": {
        "id": "UHkkzmCi9jDt",
        "colab_type": "text"
      },
      "source": [
        "# 2. Data Pre-Processing"
      ]
    },
    {
      "cell_type": "markdown",
      "metadata": {
        "id": "Km01v9-t9jNF",
        "colab_type": "text"
      },
      "source": [
        "Remove Missing Value and Unnecessary Column"
      ]
    },
    {
      "cell_type": "code",
      "metadata": {
        "id": "nz90fTNK9rox",
        "colab_type": "code",
        "outputId": "e8c04d00-0ee1-4835-8ddc-221e7fb70788",
        "colab": {
          "base_uri": "https://localhost:8080/",
          "height": 443
        }
      },
      "source": [
        "df.isnull().sum(axis=0)"
      ],
      "execution_count": 0,
      "outputs": [
        {
          "output_type": "execute_result",
          "data": {
            "text/plain": [
              "age             0\n",
              "parity          0\n",
              "hiv             4\n",
              "menopaus        1\n",
              "disease         0\n",
              "surgery         0\n",
              "conization      5\n",
              "OPDsize        17\n",
              "appearance    101\n",
              "stage          24\n",
              "pchemo          1\n",
              "Wardsize      145\n",
              "finalhisto     10\n",
              "nodeyiel       12\n",
              "RHlvsi        366\n",
              "depth         489\n",
              "size          114\n",
              "utmet          98\n",
              "vgmargin       96\n",
              "vgmet          97\n",
              "pelvicme        1\n",
              "pmmet          94\n",
              "adnmet          7\n",
              "dtype: int64"
            ]
          },
          "metadata": {
            "tags": []
          },
          "execution_count": 5
        }
      ]
    },
    {
      "cell_type": "code",
      "metadata": {
        "id": "Z_6SlITa9sLs",
        "colab_type": "code",
        "colab": {}
      },
      "source": [
        "df_clean_column = df.drop(['appearance','Wardsize','RHlvsi','depth','nodeyiel','vgmargin','pelvicme','adnmet'],axis = 1)"
      ],
      "execution_count": 0,
      "outputs": []
    },
    {
      "cell_type": "markdown",
      "metadata": {
        "id": "v06zveXY9wiZ",
        "colab_type": "text"
      },
      "source": [
        "Remove Row with Missing Value"
      ]
    },
    {
      "cell_type": "code",
      "metadata": {
        "id": "yDeKGaIx9u5c",
        "colab_type": "code",
        "colab": {}
      },
      "source": [
        "df_clean = df_clean_column.dropna(axis = 0)"
      ],
      "execution_count": 0,
      "outputs": []
    },
    {
      "cell_type": "markdown",
      "metadata": {
        "id": "7k5Hm4ur92UV",
        "colab_type": "text"
      },
      "source": [
        "Check Total Final Data"
      ]
    },
    {
      "cell_type": "code",
      "metadata": {
        "id": "QFpihT_x914d",
        "colab_type": "code",
        "outputId": "69a5c05e-9e76-4666-fe3e-8e2ff4ec4fc4",
        "colab": {
          "base_uri": "https://localhost:8080/",
          "height": 34
        }
      },
      "source": [
        "df_clean.shape"
      ],
      "execution_count": 0,
      "outputs": [
        {
          "output_type": "execute_result",
          "data": {
            "text/plain": [
              "(1555, 15)"
            ]
          },
          "metadata": {
            "tags": []
          },
          "execution_count": 8
        }
      ]
    },
    {
      "cell_type": "markdown",
      "metadata": {
        "id": "UyBvSSts98dM",
        "colab_type": "text"
      },
      "source": [
        "Define Class"
      ]
    },
    {
      "cell_type": "code",
      "metadata": {
        "id": "-NsO0Iwj948c",
        "colab_type": "code",
        "colab": {}
      },
      "source": [
        "y = df_clean['pmmet'].values\n",
        "X = df_clean.drop(['pmmet'],axis = 1).values"
      ],
      "execution_count": 0,
      "outputs": []
    },
    {
      "cell_type": "markdown",
      "metadata": {
        "id": "UjX4aza2-BV8",
        "colab_type": "text"
      },
      "source": [
        "Check number of sample for each Class"
      ]
    },
    {
      "cell_type": "code",
      "metadata": {
        "id": "j83-_hx19-tk",
        "colab_type": "code",
        "outputId": "f496a010-35d6-47b1-c0e8-4d30a7ab2dfa",
        "colab": {
          "base_uri": "https://localhost:8080/",
          "height": 34
        }
      },
      "source": [
        "allclass = np.unique(y)\n",
        "allclassnumber = [sum(y==eachclass) for eachclass in allclass]\n",
        "allclassnumber"
      ],
      "execution_count": 0,
      "outputs": [
        {
          "output_type": "execute_result",
          "data": {
            "text/plain": [
              "[1278, 277]"
            ]
          },
          "metadata": {
            "tags": []
          },
          "execution_count": 10
        }
      ]
    },
    {
      "cell_type": "code",
      "metadata": {
        "id": "uKvlKqjN-E6E",
        "colab_type": "code",
        "outputId": "9cc71821-8c7f-4fc6-de98-36d637145757",
        "colab": {
          "base_uri": "https://localhost:8080/",
          "height": 90
        }
      },
      "source": [
        "from imblearn.over_sampling import SMOTE\n",
        "sm = SMOTE(random_state=1)\n",
        "X_res, y_res = sm.fit_resample(X, y)\n",
        "\n",
        "allclass = np.unique(y_res)\n",
        "allclassnumber = [sum(y_res==eachclass) for eachclass in allclass]\n",
        "allclassnumber"
      ],
      "execution_count": 0,
      "outputs": [
        {
          "output_type": "stream",
          "text": [
            "/usr/local/lib/python3.6/dist-packages/sklearn/externals/six.py:31: DeprecationWarning: The module is deprecated in version 0.21 and will be removed in version 0.23 since we've dropped support for Python 2.7. Please rely on the official version of six (https://pypi.org/project/six/).\n",
            "  \"(https://pypi.org/project/six/).\", DeprecationWarning)\n"
          ],
          "name": "stderr"
        },
        {
          "output_type": "execute_result",
          "data": {
            "text/plain": [
              "[1278, 1278]"
            ]
          },
          "metadata": {
            "tags": []
          },
          "execution_count": 11
        }
      ]
    },
    {
      "cell_type": "code",
      "metadata": {
        "id": "03GRatE1-HcM",
        "colab_type": "code",
        "colab": {}
      },
      "source": [
        "from sklearn.model_selection import train_test_split\n",
        "X_train, X_test, y_train, y_test = train_test_split(X_res, y_res, test_size=0.2, random_state=1)"
      ],
      "execution_count": 0,
      "outputs": []
    },
    {
      "cell_type": "code",
      "metadata": {
        "id": "HT4Tz0v1-JwV",
        "colab_type": "code",
        "colab": {}
      },
      "source": [
        "X_train, X_val, y_train, y_val = train_test_split(X_train, y_train, test_size=0.2, random_state=1)"
      ],
      "execution_count": 0,
      "outputs": []
    },
    {
      "cell_type": "code",
      "metadata": {
        "id": "x0nnBCdp-LTc",
        "colab_type": "code",
        "colab": {}
      },
      "source": [
        "from sklearn.preprocessing import MinMaxScaler\n",
        "scaler = MinMaxScaler(feature_range=(0, 1))\n",
        "scaler.fit(X_train)\n",
        "X_train_norm =  scaler.transform(X_train)\n",
        "X_val_norm = scaler.transform(X_val)\n",
        "X_test_norm = scaler.transform(X_test)"
      ],
      "execution_count": 0,
      "outputs": []
    },
    {
      "cell_type": "markdown",
      "metadata": {
        "id": "N8MtlV1k-PRE",
        "colab_type": "text"
      },
      "source": [
        "# 3. Choose Model"
      ]
    },
    {
      "cell_type": "code",
      "metadata": {
        "id": "CNuz7vtf_sCU",
        "colab_type": "code",
        "outputId": "1cb167d9-fec6-4a2c-b2f6-126baf6a34fc",
        "colab": {
          "base_uri": "https://localhost:8080/",
          "height": 52
        }
      },
      "source": [
        "from sklearn.linear_model import LogisticRegression\n",
        "from sklearn.model_selection import GridSearchCV\n",
        "\n",
        "params = {'C': [1, 2, 4, 8, 16]}\n",
        "clf = GridSearchCV(LogisticRegression(random_state=0, solver='liblinear'),params, cv=10)\n",
        "clf.fit(X_train_norm, y_train)\n",
        "print(\"Best params : \" + str(clf.best_params_))\n",
        "print(\"10CV accuracy : \"+str(clf.best_score_*100))"
      ],
      "execution_count": 0,
      "outputs": [
        {
          "output_type": "stream",
          "text": [
            "Best params : {'C': 4}\n",
            "10CV accuracy : 78.47094801223241\n"
          ],
          "name": "stdout"
        }
      ]
    },
    {
      "cell_type": "code",
      "metadata": {
        "id": "7ZLdJCgu_ukC",
        "colab_type": "code",
        "outputId": "ccb3e36a-7f3d-49c2-a7a2-fc18feac3daf",
        "colab": {
          "base_uri": "https://localhost:8080/",
          "height": 34
        }
      },
      "source": [
        "y_predict = clf.predict(X_test_norm)\n",
        "print(\"Test accuracy : \"+str(sum(y_test == y_predict)/len(y_test)*100))"
      ],
      "execution_count": 0,
      "outputs": [
        {
          "output_type": "stream",
          "text": [
            "Test accuracy : 73.6328125\n"
          ],
          "name": "stdout"
        }
      ]
    },
    {
      "cell_type": "code",
      "metadata": {
        "id": "FGmrz1fY_w6i",
        "colab_type": "code",
        "outputId": "ac57552c-3d71-4110-ba88-a318dfdbbb77",
        "colab": {
          "base_uri": "https://localhost:8080/",
          "height": 294
        }
      },
      "source": [
        "#!pip install matplotlib==3.1.0\n",
        "from sklearn.metrics import confusion_matrix\n",
        "import matplotlib.pyplot as plt\n",
        "import seaborn as sns\n",
        "target_names = ['negative', 'positive']\n",
        "C = confusion_matrix(y_test,y_predict) \n",
        "C = C / C.astype(np.float).sum(axis=1)*100\n",
        "sns.heatmap(C,annot=True, fmt=\".2f\",cmap=\"GnBu\",xticklabels=target_names, yticklabels=target_names)\n",
        "plt.ylabel(\"True Label\")\n",
        "plt.xlabel(\"Predicted Label\")\n",
        "plt.show()"
      ],
      "execution_count": 0,
      "outputs": [
        {
          "output_type": "display_data",
          "data": {
            "image/png": "[encoded data removed]",
            "text/plain": [
              "<Figure size 432x288 with 2 Axes>"
            ]
          },
          "metadata": {
            "tags": []
          }
        }
      ]
    },
    {
      "cell_type": "code",
      "metadata": {
        "id": "lsOi3pZk__rK",
        "colab_type": "code",
        "colab": {}
      },
      "source": [
        "#!pip install tensorflow==2.0.0-beta1\n",
        "import tensorflow as tf"
      ],
      "execution_count": 0,
      "outputs": []
    },
    {
      "cell_type": "code",
      "metadata": {
        "id": "kebCd075ANn2",
        "colab_type": "code",
        "outputId": "2bbb62e3-73f2-416a-a038-b28e98a24750",
        "colab": {
          "base_uri": "https://localhost:8080/",
          "height": 336
        }
      },
      "source": [
        "tf.reset_default_graph() # Clear Model\n",
        "np.random.seed(1) # Fix Randomness\n",
        "tf.random.set_random_seed(1) # Fix Randomness\n",
        "model = tf.keras.models.Sequential([\n",
        "  tf.keras.layers.Dense(24, activation='relu', input_shape=(14,)),\n",
        "  tf.keras.layers.Dense(12, activation='relu'),\n",
        "  tf.keras.layers.Dense(6, activation='relu'),\n",
        "  tf.keras.layers.Dense(2, activation='relu'),\n",
        "  tf.keras.layers.Dense(1, activation='sigmoid')    \n",
        "])\n",
        "model.summary()"
      ],
      "execution_count": 0,
      "outputs": [
        {
          "output_type": "stream",
          "text": [
            "Model: \"sequential\"\n",
            "_________________________________________________________________\n",
            "Layer (type)                 Output Shape              Param #   \n",
            "=================================================================\n",
            "dense (Dense)                (None, 24)                360       \n",
            "_________________________________________________________________\n",
            "dense_1 (Dense)              (None, 12)                300       \n",
            "_________________________________________________________________\n",
            "dense_2 (Dense)              (None, 6)                 78        \n",
            "_________________________________________________________________\n",
            "dense_3 (Dense)              (None, 2)                 14        \n",
            "_________________________________________________________________\n",
            "dense_4 (Dense)              (None, 1)                 3         \n",
            "=================================================================\n",
            "Total params: 755\n",
            "Trainable params: 755\n",
            "Non-trainable params: 0\n",
            "_________________________________________________________________\n"
          ],
          "name": "stdout"
        }
      ]
    },
    {
      "cell_type": "code",
      "metadata": {
        "id": "glmWAt8HAmip",
        "colab_type": "code",
        "colab": {}
      },
      "source": [
        "model.compile(optimizer='adam', loss='binary_crossentropy', metrics=['accuracy'])"
      ],
      "execution_count": 0,
      "outputs": []
    },
    {
      "cell_type": "code",
      "metadata": {
        "id": "htnvy9KrAqxB",
        "colab_type": "code",
        "outputId": "006af65e-4eea-4dc5-a74e-448ca94dc86c",
        "colab": {
          "base_uri": "https://localhost:8080/",
          "height": 1000
        }
      },
      "source": [
        "train_acc = list()\n",
        "val_acc = list()\n",
        "for i in range(0,500):\n",
        "  history = model.fit(X_train_norm, y_train, epochs= 1, batch_size = 200, validation_data= (X_val_norm, y_val))\n",
        "  tmp_avg = np.mean(history.history['acc'])\n",
        "  tmp_avg_val = np.mean(history.history['val_acc'])\n",
        "  train_acc.append(tmp_avg)\n",
        "  val_acc.append(tmp_avg_val)"
      ],
      "execution_count": 0,
      "outputs": [
        {
          "output_type": "stream",
          "text": [
            "Train on 1635 samples, validate on 409 samples\n",
            "1635/1635 [==============================] - 0s 82us/sample - loss: 0.6922 - acc: 0.5162 - val_loss: 0.6816 - val_acc: 0.5623\n",
            "Train on 1635 samples, validate on 409 samples\n",
            "1635/1635 [==============================] - 0s 14us/sample - loss: 0.6782 - acc: 0.5761 - val_loss: 0.6720 - val_acc: 0.5966\n",
            "Train on 1635 samples, validate on 409 samples\n",
            "1635/1635 [==============================] - 0s 12us/sample - loss: 0.6697 - acc: 0.6104 - val_loss: 0.6655 - val_acc: 0.6406\n",
            "Train on 1635 samples, validate on 409 samples\n",
            "1635/1635 [==============================] - 0s 15us/sample - loss: 0.6627 - acc: 0.6306 - val_loss: 0.6595 - val_acc: 0.6430\n",
            "Train on 1635 samples, validate on 409 samples\n",
            "1635/1635 [==============================] - 0s 13us/sample - loss: 0.6562 - acc: 0.6410 - val_loss: 0.6544 - val_acc: 0.6553\n",
            "Train on 1635 samples, validate on 409 samples\n",
            "1635/1635 [==============================] - 0s 13us/sample - loss: 0.6501 - acc: 0.6575 - val_loss: 0.6494 - val_acc: 0.6675\n",
            "Train on 1635 samples, validate on 409 samples\n",
            "1635/1635 [==============================] - 0s 13us/sample - loss: 0.6440 - acc: 0.6752 - val_loss: 0.6444 - val_acc: 0.6944\n",
            "Train on 1635 samples, validate on 409 samples\n",
            "1635/1635 [==============================] - 0s 14us/sample - loss: 0.6382 - acc: 0.6850 - val_loss: 0.6397 - val_acc: 0.6919\n",
            "Train on 1635 samples, validate on 409 samples\n",
            "1635/1635 [==============================] - 0s 14us/sample - loss: 0.6327 - acc: 0.6991 - val_loss: 0.6355 - val_acc: 0.6944\n",
            "Train on 1635 samples, validate on 409 samples\n",
            "1635/1635 [==============================] - 0s 13us/sample - loss: 0.6278 - acc: 0.7021 - val_loss: 0.6315 - val_acc: 0.6944\n",
            "Train on 1635 samples, validate on 409 samples\n",
            "1635/1635 [==============================] - 0s 13us/sample - loss: 0.6229 - acc: 0.7089 - val_loss: 0.6281 - val_acc: 0.7164\n",
            "Train on 1635 samples, validate on 409 samples\n",
            "1635/1635 [==============================] - 0s 13us/sample - loss: 0.6179 - acc: 0.7174 - val_loss: 0.6246 - val_acc: 0.7213\n",
            "Train on 1635 samples, validate on 409 samples\n",
            "1635/1635 [==============================] - 0s 14us/sample - loss: 0.6132 - acc: 0.7260 - val_loss: 0.6213 - val_acc: 0.7262\n",
            "Train on 1635 samples, validate on 409 samples\n",
            "1635/1635 [==============================] - 0s 13us/sample - loss: 0.6083 - acc: 0.7303 - val_loss: 0.6179 - val_acc: 0.7311\n",
            "Train on 1635 samples, validate on 409 samples\n",
            "1635/1635 [==============================] - 0s 12us/sample - loss: 0.6037 - acc: 0.7474 - val_loss: 0.6148 - val_acc: 0.7311\n",
            "Train on 1635 samples, validate on 409 samples\n",
            "1635/1635 [==============================] - 0s 12us/sample - loss: 0.5989 - acc: 0.7529 - val_loss: 0.6103 - val_acc: 0.7359\n",
            "Train on 1635 samples, validate on 409 samples\n",
            "1635/1635 [==============================] - 0s 12us/sample - loss: 0.5941 - acc: 0.7492 - val_loss: 0.6063 - val_acc: 0.7384\n",
            "Train on 1635 samples, validate on 409 samples\n",
            "1635/1635 [==============================] - 0s 15us/sample - loss: 0.5890 - acc: 0.7529 - val_loss: 0.6026 - val_acc: 0.7408\n",
            "Train on 1635 samples, validate on 409 samples\n",
            "1635/1635 [==============================] - 0s 15us/sample - loss: 0.5841 - acc: 0.7566 - val_loss: 0.5985 - val_acc: 0.7457\n",
            "Train on 1635 samples, validate on 409 samples\n",
            "1635/1635 [==============================] - 0s 13us/sample - loss: 0.5793 - acc: 0.7627 - val_loss: 0.5949 - val_acc: 0.7433\n",
            "Train on 1635 samples, validate on 409 samples\n",
            "1635/1635 [==============================] - 0s 13us/sample - loss: 0.5743 - acc: 0.7627 - val_loss: 0.5927 - val_acc: 0.7433\n",
            "Train on 1635 samples, validate on 409 samples\n",
            "1635/1635 [==============================] - 0s 13us/sample - loss: 0.5694 - acc: 0.7706 - val_loss: 0.5885 - val_acc: 0.7506\n",
            "Train on 1635 samples, validate on 409 samples\n",
            "1635/1635 [==============================] - 0s 13us/sample - loss: 0.5636 - acc: 0.7780 - val_loss: 0.5868 - val_acc: 0.7531\n",
            "Train on 1635 samples, validate on 409 samples\n",
            "1635/1635 [==============================] - 0s 13us/sample - loss: 0.5596 - acc: 0.7749 - val_loss: 0.5833 - val_acc: 0.7555\n",
            "Train on 1635 samples, validate on 409 samples\n",
            "1635/1635 [==============================] - 0s 13us/sample - loss: 0.5541 - acc: 0.7982 - val_loss: 0.5797 - val_acc: 0.7531\n",
            "Train on 1635 samples, validate on 409 samples\n",
            "1635/1635 [==============================] - 0s 14us/sample - loss: 0.5497 - acc: 0.7914 - val_loss: 0.5768 - val_acc: 0.7555\n",
            "Train on 1635 samples, validate on 409 samples\n",
            "1635/1635 [==============================] - 0s 16us/sample - loss: 0.5452 - acc: 0.8006 - val_loss: 0.5725 - val_acc: 0.7433\n",
            "Train on 1635 samples, validate on 409 samples\n",
            "1635/1635 [==============================] - 0s 13us/sample - loss: 0.5402 - acc: 0.8018 - val_loss: 0.5708 - val_acc: 0.7555\n",
            "Train on 1635 samples, validate on 409 samples\n",
            "1635/1635 [==============================] - 0s 12us/sample - loss: 0.5353 - acc: 0.8128 - val_loss: 0.5677 - val_acc: 0.7531\n",
            "Train on 1635 samples, validate on 409 samples\n",
            "1635/1635 [==============================] - 0s 12us/sample - loss: 0.5307 - acc: 0.8165 - val_loss: 0.5684 - val_acc: 0.7506\n",
            "Train on 1635 samples, validate on 409 samples\n",
            "1635/1635 [==============================] - 0s 13us/sample - loss: 0.5285 - acc: 0.8055 - val_loss: 0.5663 - val_acc: 0.7555\n",
            "Train on 1635 samples, validate on 409 samples\n",
            "1635/1635 [==============================] - 0s 12us/sample - loss: 0.5230 - acc: 0.8153 - val_loss: 0.5648 - val_acc: 0.7506\n",
            "Train on 1635 samples, validate on 409 samples\n",
            "1635/1635 [==============================] - 0s 12us/sample - loss: 0.5195 - acc: 0.8257 - val_loss: 0.5596 - val_acc: 0.7555\n",
            "Train on 1635 samples, validate on 409 samples\n",
            "1635/1635 [==============================] - 0s 13us/sample - loss: 0.5162 - acc: 0.8269 - val_loss: 0.5582 - val_acc: 0.7579\n",
            "Train on 1635 samples, validate on 409 samples\n",
            "1635/1635 [==============================] - 0s 13us/sample - loss: 0.5119 - acc: 0.8300 - val_loss: 0.5555 - val_acc: 0.7555\n",
            "Train on 1635 samples, validate on 409 samples\n",
            "1635/1635 [==============================] - 0s 13us/sample - loss: 0.5091 - acc: 0.8343 - val_loss: 0.5560 - val_acc: 0.7579\n",
            "Train on 1635 samples, validate on 409 samples\n",
            "1635/1635 [==============================] - 0s 13us/sample - loss: 0.5058 - acc: 0.8349 - val_loss: 0.5554 - val_acc: 0.7555\n",
            "Train on 1635 samples, validate on 409 samples\n",
            "1635/1635 [==============================] - 0s 16us/sample - loss: 0.5022 - acc: 0.8355 - val_loss: 0.5539 - val_acc: 0.7579\n",
            "Train on 1635 samples, validate on 409 samples\n",
            "1635/1635 [==============================] - 0s 13us/sample - loss: 0.4995 - acc: 0.8318 - val_loss: 0.5505 - val_acc: 0.7726\n",
            "Train on 1635 samples, validate on 409 samples\n",
            "1635/1635 [==============================] - 0s 14us/sample - loss: 0.4988 - acc: 0.8391 - val_loss: 0.5518 - val_acc: 0.7579\n",
            "Train on 1635 samples, validate on 409 samples\n",
            "1635/1635 [==============================] - 0s 14us/sample - loss: 0.4965 - acc: 0.8343 - val_loss: 0.5490 - val_acc: 0.7653\n",
            "Train on 1635 samples, validate on 409 samples\n",
            "1635/1635 [==============================] - 0s 14us/sample - loss: 0.4914 - acc: 0.8385 - val_loss: 0.5461 - val_acc: 0.7775\n",
            "Train on 1635 samples, validate on 409 samples\n",
            "1635/1635 [==============================] - 0s 14us/sample - loss: 0.4896 - acc: 0.8416 - val_loss: 0.5458 - val_acc: 0.7775\n",
            "Train on 1635 samples, validate on 409 samples\n",
            "1635/1635 [==============================] - 0s 13us/sample - loss: 0.4870 - acc: 0.8367 - val_loss: 0.5440 - val_acc: 0.7775\n",
            "Train on 1635 samples, validate on 409 samples\n",
            "1635/1635 [==============================] - 0s 13us/sample - loss: 0.4862 - acc: 0.8416 - val_loss: 0.5436 - val_acc: 0.7775\n",
            "Train on 1635 samples, validate on 409 samples\n",
            "1635/1635 [==============================] - 0s 12us/sample - loss: 0.4851 - acc: 0.8367 - val_loss: 0.5428 - val_acc: 0.7775\n",
            "Train on 1635 samples, validate on 409 samples\n",
            "1635/1635 [==============================] - 0s 13us/sample - loss: 0.4798 - acc: 0.8398 - val_loss: 0.5375 - val_acc: 0.7897\n",
            "Train on 1635 samples, validate on 409 samples\n",
            "1635/1635 [==============================] - 0s 13us/sample - loss: 0.4784 - acc: 0.8428 - val_loss: 0.5434 - val_acc: 0.7726\n",
            "Train on 1635 samples, validate on 409 samples\n",
            "1635/1635 [==============================] - 0s 14us/sample - loss: 0.4752 - acc: 0.8434 - val_loss: 0.5362 - val_acc: 0.7873\n",
            "Train on 1635 samples, validate on 409 samples\n",
            "1635/1635 [==============================] - 0s 16us/sample - loss: 0.4735 - acc: 0.8453 - val_loss: 0.5396 - val_acc: 0.7726\n",
            "Train on 1635 samples, validate on 409 samples\n",
            "1635/1635 [==============================] - 0s 15us/sample - loss: 0.4715 - acc: 0.8379 - val_loss: 0.5374 - val_acc: 0.7824\n",
            "Train on 1635 samples, validate on 409 samples\n",
            "1635/1635 [==============================] - 0s 13us/sample - loss: 0.4695 - acc: 0.8416 - val_loss: 0.5356 - val_acc: 0.7800\n",
            "Train on 1635 samples, validate on 409 samples\n",
            "1635/1635 [==============================] - 0s 13us/sample - loss: 0.4677 - acc: 0.8428 - val_loss: 0.5332 - val_acc: 0.7922\n",
            "Train on 1635 samples, validate on 409 samples\n",
            "1635/1635 [==============================] - 0s 14us/sample - loss: 0.4658 - acc: 0.8465 - val_loss: 0.5296 - val_acc: 0.7995\n",
            "Train on 1635 samples, validate on 409 samples\n",
            "1635/1635 [==============================] - 0s 14us/sample - loss: 0.4645 - acc: 0.8428 - val_loss: 0.5343 - val_acc: 0.7848\n",
            "Train on 1635 samples, validate on 409 samples\n",
            "1635/1635 [==============================] - 0s 15us/sample - loss: 0.4622 - acc: 0.8428 - val_loss: 0.5294 - val_acc: 0.7971\n",
            "Train on 1635 samples, validate on 409 samples\n",
            "1635/1635 [==============================] - 0s 14us/sample - loss: 0.4600 - acc: 0.8465 - val_loss: 0.5334 - val_acc: 0.7946\n",
            "Train on 1635 samples, validate on 409 samples\n",
            "1635/1635 [==============================] - 0s 13us/sample - loss: 0.4581 - acc: 0.8410 - val_loss: 0.5290 - val_acc: 0.7995\n",
            "Train on 1635 samples, validate on 409 samples\n",
            "1635/1635 [==============================] - 0s 14us/sample - loss: 0.4557 - acc: 0.8514 - val_loss: 0.5275 - val_acc: 0.8044\n",
            "Train on 1635 samples, validate on 409 samples\n",
            "1635/1635 [==============================] - 0s 13us/sample - loss: 0.4541 - acc: 0.8538 - val_loss: 0.5284 - val_acc: 0.7897\n",
            "Train on 1635 samples, validate on 409 samples\n",
            "1635/1635 [==============================] - 0s 13us/sample - loss: 0.4538 - acc: 0.8465 - val_loss: 0.5233 - val_acc: 0.8020\n",
            "Train on 1635 samples, validate on 409 samples\n",
            "1635/1635 [==============================] - 0s 13us/sample - loss: 0.4540 - acc: 0.8557 - val_loss: 0.5250 - val_acc: 0.8020\n",
            "Train on 1635 samples, validate on 409 samples\n",
            "1635/1635 [==============================] - 0s 13us/sample - loss: 0.4505 - acc: 0.8495 - val_loss: 0.5278 - val_acc: 0.7946\n",
            "Train on 1635 samples, validate on 409 samples\n",
            "1635/1635 [==============================] - 0s 13us/sample - loss: 0.4478 - acc: 0.8508 - val_loss: 0.5215 - val_acc: 0.8020\n",
            "Train on 1635 samples, validate on 409 samples\n",
            "1635/1635 [==============================] - 0s 13us/sample - loss: 0.4465 - acc: 0.8544 - val_loss: 0.5252 - val_acc: 0.7897\n",
            "Train on 1635 samples, validate on 409 samples\n",
            "1635/1635 [==============================] - 0s 16us/sample - loss: 0.4444 - acc: 0.8508 - val_loss: 0.5185 - val_acc: 0.8068\n",
            "Train on 1635 samples, validate on 409 samples\n",
            "1635/1635 [==============================] - 0s 14us/sample - loss: 0.4420 - acc: 0.8557 - val_loss: 0.5210 - val_acc: 0.8044\n",
            "Train on 1635 samples, validate on 409 samples\n",
            "1635/1635 [==============================] - 0s 14us/sample - loss: 0.4407 - acc: 0.8538 - val_loss: 0.5213 - val_acc: 0.8093\n",
            "Train on 1635 samples, validate on 409 samples\n",
            "1635/1635 [==============================] - 0s 13us/sample - loss: 0.4399 - acc: 0.8569 - val_loss: 0.5172 - val_acc: 0.8093\n",
            "Train on 1635 samples, validate on 409 samples\n",
            "1635/1635 [==============================] - 0s 16us/sample - loss: 0.4378 - acc: 0.8599 - val_loss: 0.5194 - val_acc: 0.7995\n",
            "Train on 1635 samples, validate on 409 samples\n",
            "1635/1635 [==============================] - 0s 17us/sample - loss: 0.4361 - acc: 0.8550 - val_loss: 0.5155 - val_acc: 0.8117\n",
            "Train on 1635 samples, validate on 409 samples\n",
            "1635/1635 [==============================] - 0s 15us/sample - loss: 0.4339 - acc: 0.8606 - val_loss: 0.5153 - val_acc: 0.8093\n",
            "Train on 1635 samples, validate on 409 samples\n",
            "1635/1635 [==============================] - 0s 14us/sample - loss: 0.4330 - acc: 0.8532 - val_loss: 0.5171 - val_acc: 0.7995\n",
            "Train on 1635 samples, validate on 409 samples\n",
            "1635/1635 [==============================] - 0s 14us/sample - loss: 0.4319 - acc: 0.8532 - val_loss: 0.5140 - val_acc: 0.8068\n",
            "Train on 1635 samples, validate on 409 samples\n",
            "1635/1635 [==============================] - 0s 14us/sample - loss: 0.4296 - acc: 0.8612 - val_loss: 0.5133 - val_acc: 0.8093\n",
            "Train on 1635 samples, validate on 409 samples\n",
            "1635/1635 [==============================] - 0s 17us/sample - loss: 0.4289 - acc: 0.8654 - val_loss: 0.5139 - val_acc: 0.8117\n",
            "Train on 1635 samples, validate on 409 samples\n",
            "1635/1635 [==============================] - 0s 13us/sample - loss: 0.4271 - acc: 0.8636 - val_loss: 0.5135 - val_acc: 0.8166\n",
            "Train on 1635 samples, validate on 409 samples\n",
            "1635/1635 [==============================] - 0s 15us/sample - loss: 0.4255 - acc: 0.8673 - val_loss: 0.5119 - val_acc: 0.8166\n",
            "Train on 1635 samples, validate on 409 samples\n",
            "1635/1635 [==============================] - 0s 16us/sample - loss: 0.4235 - acc: 0.8642 - val_loss: 0.5098 - val_acc: 0.8142\n",
            "Train on 1635 samples, validate on 409 samples\n",
            "1635/1635 [==============================] - 0s 19us/sample - loss: 0.4217 - acc: 0.8679 - val_loss: 0.5118 - val_acc: 0.8068\n",
            "Train on 1635 samples, validate on 409 samples\n",
            "1635/1635 [==============================] - 0s 14us/sample - loss: 0.4209 - acc: 0.8618 - val_loss: 0.5098 - val_acc: 0.8093\n",
            "Train on 1635 samples, validate on 409 samples\n",
            "1635/1635 [==============================] - 0s 16us/sample - loss: 0.4190 - acc: 0.8654 - val_loss: 0.5051 - val_acc: 0.8166\n",
            "Train on 1635 samples, validate on 409 samples\n",
            "1635/1635 [==============================] - 0s 16us/sample - loss: 0.4196 - acc: 0.8648 - val_loss: 0.5029 - val_acc: 0.8166\n",
            "Train on 1635 samples, validate on 409 samples\n",
            "1635/1635 [==============================] - 0s 14us/sample - loss: 0.4179 - acc: 0.8673 - val_loss: 0.5034 - val_acc: 0.8142\n",
            "Train on 1635 samples, validate on 409 samples\n",
            "1635/1635 [==============================] - 0s 17us/sample - loss: 0.4152 - acc: 0.8654 - val_loss: 0.5049 - val_acc: 0.8166\n",
            "Train on 1635 samples, validate on 409 samples\n",
            "1635/1635 [==============================] - 0s 16us/sample - loss: 0.4159 - acc: 0.8691 - val_loss: 0.5083 - val_acc: 0.8093\n",
            "Train on 1635 samples, validate on 409 samples\n",
            "1635/1635 [==============================] - 0s 14us/sample - loss: 0.4199 - acc: 0.8599 - val_loss: 0.5013 - val_acc: 0.8117\n",
            "Train on 1635 samples, validate on 409 samples\n",
            "1635/1635 [==============================] - 0s 12us/sample - loss: 0.4178 - acc: 0.8654 - val_loss: 0.5004 - val_acc: 0.8142\n",
            "Train on 1635 samples, validate on 409 samples\n",
            "1635/1635 [==============================] - 0s 15us/sample - loss: 0.4126 - acc: 0.8648 - val_loss: 0.5050 - val_acc: 0.8142\n",
            "Train on 1635 samples, validate on 409 samples\n",
            "1635/1635 [==============================] - 0s 13us/sample - loss: 0.4088 - acc: 0.8679 - val_loss: 0.5018 - val_acc: 0.8044\n",
            "Train on 1635 samples, validate on 409 samples\n",
            "1635/1635 [==============================] - 0s 12us/sample - loss: 0.4097 - acc: 0.8673 - val_loss: 0.5004 - val_acc: 0.8117\n",
            "Train on 1635 samples, validate on 409 samples\n",
            "1635/1635 [==============================] - 0s 12us/sample - loss: 0.4085 - acc: 0.8642 - val_loss: 0.4986 - val_acc: 0.8093\n",
            "Train on 1635 samples, validate on 409 samples\n",
            "1635/1635 [==============================] - 0s 11us/sample - loss: 0.4053 - acc: 0.8703 - val_loss: 0.4974 - val_acc: 0.8068\n",
            "Train on 1635 samples, validate on 409 samples\n",
            "1635/1635 [==============================] - 0s 12us/sample - loss: 0.4039 - acc: 0.8691 - val_loss: 0.4989 - val_acc: 0.8191\n",
            "Train on 1635 samples, validate on 409 samples\n",
            "1635/1635 [==============================] - 0s 13us/sample - loss: 0.4045 - acc: 0.8716 - val_loss: 0.4971 - val_acc: 0.8215\n",
            "Train on 1635 samples, validate on 409 samples\n",
            "1635/1635 [==============================] - 0s 14us/sample - loss: 0.4010 - acc: 0.8716 - val_loss: 0.4976 - val_acc: 0.8191\n",
            "Train on 1635 samples, validate on 409 samples\n",
            "1635/1635 [==============================] - 0s 13us/sample - loss: 0.4014 - acc: 0.8703 - val_loss: 0.4940 - val_acc: 0.8166\n",
            "Train on 1635 samples, validate on 409 samples\n",
            "1635/1635 [==============================] - 0s 14us/sample - loss: 0.3995 - acc: 0.8722 - val_loss: 0.4943 - val_acc: 0.8240\n",
            "Train on 1635 samples, validate on 409 samples\n",
            "1635/1635 [==============================] - 0s 12us/sample - loss: 0.3977 - acc: 0.8685 - val_loss: 0.4949 - val_acc: 0.8215\n",
            "Train on 1635 samples, validate on 409 samples\n",
            "1635/1635 [==============================] - 0s 13us/sample - loss: 0.3994 - acc: 0.8667 - val_loss: 0.4919 - val_acc: 0.8142\n",
            "Train on 1635 samples, validate on 409 samples\n",
            "1635/1635 [==============================] - 0s 16us/sample - loss: 0.3957 - acc: 0.8740 - val_loss: 0.4913 - val_acc: 0.8142\n",
            "Train on 1635 samples, validate on 409 samples\n",
            "1635/1635 [==============================] - 0s 17us/sample - loss: 0.3951 - acc: 0.8709 - val_loss: 0.4932 - val_acc: 0.8093\n",
            "Train on 1635 samples, validate on 409 samples\n",
            "1635/1635 [==============================] - 0s 14us/sample - loss: 0.3979 - acc: 0.8709 - val_loss: 0.4939 - val_acc: 0.8117\n",
            "Train on 1635 samples, validate on 409 samples\n",
            "1635/1635 [==============================] - 0s 12us/sample - loss: 0.3934 - acc: 0.8722 - val_loss: 0.4967 - val_acc: 0.8020\n",
            "Train on 1635 samples, validate on 409 samples\n",
            "1635/1635 [==============================] - 0s 12us/sample - loss: 0.3918 - acc: 0.8740 - val_loss: 0.4869 - val_acc: 0.8068\n",
            "Train on 1635 samples, validate on 409 samples\n",
            "1635/1635 [==============================] - 0s 16us/sample - loss: 0.3900 - acc: 0.8783 - val_loss: 0.4858 - val_acc: 0.8191\n",
            "Train on 1635 samples, validate on 409 samples\n",
            "1635/1635 [==============================] - 0s 14us/sample - loss: 0.3886 - acc: 0.8771 - val_loss: 0.4863 - val_acc: 0.8142\n",
            "Train on 1635 samples, validate on 409 samples\n",
            "1635/1635 [==============================] - 0s 14us/sample - loss: 0.3913 - acc: 0.8734 - val_loss: 0.4824 - val_acc: 0.8020\n",
            "Train on 1635 samples, validate on 409 samples\n",
            "1635/1635 [==============================] - 0s 15us/sample - loss: 0.3893 - acc: 0.8758 - val_loss: 0.4869 - val_acc: 0.8215\n",
            "Train on 1635 samples, validate on 409 samples\n",
            "1635/1635 [==============================] - 0s 13us/sample - loss: 0.3883 - acc: 0.8746 - val_loss: 0.4793 - val_acc: 0.8044\n",
            "Train on 1635 samples, validate on 409 samples\n",
            "1635/1635 [==============================] - 0s 13us/sample - loss: 0.3877 - acc: 0.8746 - val_loss: 0.4820 - val_acc: 0.8191\n",
            "Train on 1635 samples, validate on 409 samples\n",
            "1635/1635 [==============================] - 0s 13us/sample - loss: 0.3856 - acc: 0.8765 - val_loss: 0.4792 - val_acc: 0.8117\n",
            "Train on 1635 samples, validate on 409 samples\n",
            "1635/1635 [==============================] - 0s 15us/sample - loss: 0.3824 - acc: 0.8740 - val_loss: 0.4813 - val_acc: 0.8240\n",
            "Train on 1635 samples, validate on 409 samples\n",
            "1635/1635 [==============================] - 0s 13us/sample - loss: 0.3806 - acc: 0.8789 - val_loss: 0.4794 - val_acc: 0.8142\n",
            "Train on 1635 samples, validate on 409 samples\n",
            "1635/1635 [==============================] - 0s 15us/sample - loss: 0.3795 - acc: 0.8777 - val_loss: 0.4777 - val_acc: 0.8142\n",
            "Train on 1635 samples, validate on 409 samples\n",
            "1635/1635 [==============================] - 0s 14us/sample - loss: 0.3806 - acc: 0.8740 - val_loss: 0.4751 - val_acc: 0.8093\n",
            "Train on 1635 samples, validate on 409 samples\n",
            "1635/1635 [==============================] - 0s 13us/sample - loss: 0.3781 - acc: 0.8740 - val_loss: 0.4765 - val_acc: 0.8215\n",
            "Train on 1635 samples, validate on 409 samples\n",
            "1635/1635 [==============================] - 0s 13us/sample - loss: 0.3768 - acc: 0.8752 - val_loss: 0.4770 - val_acc: 0.8215\n",
            "Train on 1635 samples, validate on 409 samples\n",
            "1635/1635 [==============================] - 0s 12us/sample - loss: 0.3754 - acc: 0.8758 - val_loss: 0.4752 - val_acc: 0.8068\n",
            "Train on 1635 samples, validate on 409 samples\n",
            "1635/1635 [==============================] - 0s 13us/sample - loss: 0.3744 - acc: 0.8789 - val_loss: 0.4804 - val_acc: 0.8142\n",
            "Train on 1635 samples, validate on 409 samples\n",
            "1635/1635 [==============================] - 0s 13us/sample - loss: 0.3743 - acc: 0.8765 - val_loss: 0.4747 - val_acc: 0.8020\n",
            "Train on 1635 samples, validate on 409 samples\n",
            "1635/1635 [==============================] - 0s 12us/sample - loss: 0.3714 - acc: 0.8801 - val_loss: 0.4758 - val_acc: 0.8117\n",
            "Train on 1635 samples, validate on 409 samples\n",
            "1635/1635 [==============================] - 0s 15us/sample - loss: 0.3716 - acc: 0.8728 - val_loss: 0.4736 - val_acc: 0.7995\n",
            "Train on 1635 samples, validate on 409 samples\n",
            "1635/1635 [==============================] - 0s 15us/sample - loss: 0.3713 - acc: 0.8765 - val_loss: 0.4810 - val_acc: 0.8166\n",
            "Train on 1635 samples, validate on 409 samples\n",
            "1635/1635 [==============================] - 0s 11us/sample - loss: 0.3719 - acc: 0.8746 - val_loss: 0.4695 - val_acc: 0.8117\n",
            "Train on 1635 samples, validate on 409 samples\n",
            "1635/1635 [==============================] - 0s 13us/sample - loss: 0.3693 - acc: 0.8752 - val_loss: 0.4656 - val_acc: 0.8191\n",
            "Train on 1635 samples, validate on 409 samples\n",
            "1635/1635 [==============================] - 0s 14us/sample - loss: 0.3684 - acc: 0.8765 - val_loss: 0.4650 - val_acc: 0.8166\n",
            "Train on 1635 samples, validate on 409 samples\n",
            "1635/1635 [==============================] - 0s 14us/sample - loss: 0.3658 - acc: 0.8783 - val_loss: 0.4683 - val_acc: 0.8264\n",
            "Train on 1635 samples, validate on 409 samples\n",
            "1635/1635 [==============================] - 0s 14us/sample - loss: 0.3676 - acc: 0.8795 - val_loss: 0.4638 - val_acc: 0.8142\n",
            "Train on 1635 samples, validate on 409 samples\n",
            "1635/1635 [==============================] - 0s 13us/sample - loss: 0.3654 - acc: 0.8820 - val_loss: 0.4709 - val_acc: 0.8142\n",
            "Train on 1635 samples, validate on 409 samples\n",
            "1635/1635 [==============================] - 0s 15us/sample - loss: 0.3646 - acc: 0.8832 - val_loss: 0.4650 - val_acc: 0.8240\n",
            "Train on 1635 samples, validate on 409 samples\n",
            "1635/1635 [==============================] - 0s 12us/sample - loss: 0.3623 - acc: 0.8838 - val_loss: 0.4689 - val_acc: 0.8264\n",
            "Train on 1635 samples, validate on 409 samples\n",
            "1635/1635 [==============================] - 0s 14us/sample - loss: 0.3613 - acc: 0.8862 - val_loss: 0.4681 - val_acc: 0.8142\n",
            "Train on 1635 samples, validate on 409 samples\n",
            "1635/1635 [==============================] - 0s 13us/sample - loss: 0.3611 - acc: 0.8881 - val_loss: 0.4648 - val_acc: 0.8289\n",
            "Train on 1635 samples, validate on 409 samples\n",
            "1635/1635 [==============================] - 0s 13us/sample - loss: 0.3602 - acc: 0.8826 - val_loss: 0.4613 - val_acc: 0.8044\n",
            "Train on 1635 samples, validate on 409 samples\n",
            "1635/1635 [==============================] - 0s 13us/sample - loss: 0.3608 - acc: 0.8783 - val_loss: 0.4697 - val_acc: 0.8191\n",
            "Train on 1635 samples, validate on 409 samples\n",
            "1635/1635 [==============================] - 0s 13us/sample - loss: 0.3588 - acc: 0.8789 - val_loss: 0.4616 - val_acc: 0.8142\n",
            "Train on 1635 samples, validate on 409 samples\n",
            "1635/1635 [==============================] - 0s 13us/sample - loss: 0.3578 - acc: 0.8801 - val_loss: 0.4654 - val_acc: 0.8240\n",
            "Train on 1635 samples, validate on 409 samples\n",
            "1635/1635 [==============================] - 0s 12us/sample - loss: 0.3589 - acc: 0.8795 - val_loss: 0.4562 - val_acc: 0.8264\n",
            "Train on 1635 samples, validate on 409 samples\n",
            "1635/1635 [==============================] - 0s 13us/sample - loss: 0.3539 - acc: 0.8887 - val_loss: 0.4604 - val_acc: 0.8191\n",
            "Train on 1635 samples, validate on 409 samples\n",
            "1635/1635 [==============================] - 0s 15us/sample - loss: 0.3540 - acc: 0.8850 - val_loss: 0.4634 - val_acc: 0.8191\n",
            "Train on 1635 samples, validate on 409 samples\n",
            "1635/1635 [==============================] - 0s 14us/sample - loss: 0.3551 - acc: 0.8813 - val_loss: 0.4581 - val_acc: 0.8117\n",
            "Train on 1635 samples, validate on 409 samples\n",
            "1635/1635 [==============================] - 0s 14us/sample - loss: 0.3515 - acc: 0.8850 - val_loss: 0.4646 - val_acc: 0.8215\n",
            "Train on 1635 samples, validate on 409 samples\n",
            "1635/1635 [==============================] - 0s 15us/sample - loss: 0.3521 - acc: 0.8862 - val_loss: 0.4565 - val_acc: 0.8142\n",
            "Train on 1635 samples, validate on 409 samples\n",
            "1635/1635 [==============================] - 0s 14us/sample - loss: 0.3507 - acc: 0.8813 - val_loss: 0.4630 - val_acc: 0.8166\n",
            "Train on 1635 samples, validate on 409 samples\n",
            "1635/1635 [==============================] - 0s 13us/sample - loss: 0.3496 - acc: 0.8832 - val_loss: 0.4567 - val_acc: 0.8264\n",
            "Train on 1635 samples, validate on 409 samples\n",
            "1635/1635 [==============================] - 0s 12us/sample - loss: 0.3478 - acc: 0.8850 - val_loss: 0.4572 - val_acc: 0.8240\n",
            "Train on 1635 samples, validate on 409 samples\n",
            "1635/1635 [==============================] - 0s 12us/sample - loss: 0.3470 - acc: 0.8905 - val_loss: 0.4522 - val_acc: 0.8142\n",
            "Train on 1635 samples, validate on 409 samples\n",
            "1635/1635 [==============================] - 0s 13us/sample - loss: 0.3509 - acc: 0.8844 - val_loss: 0.4664 - val_acc: 0.8166\n",
            "Train on 1635 samples, validate on 409 samples\n",
            "1635/1635 [==============================] - 0s 12us/sample - loss: 0.3477 - acc: 0.8905 - val_loss: 0.4520 - val_acc: 0.8191\n",
            "Train on 1635 samples, validate on 409 samples\n",
            "1635/1635 [==============================] - 0s 13us/sample - loss: 0.3446 - acc: 0.8875 - val_loss: 0.4583 - val_acc: 0.8191\n",
            "Train on 1635 samples, validate on 409 samples\n",
            "1635/1635 [==============================] - 0s 12us/sample - loss: 0.3451 - acc: 0.8832 - val_loss: 0.4514 - val_acc: 0.8240\n",
            "Train on 1635 samples, validate on 409 samples\n",
            "1635/1635 [==============================] - 0s 12us/sample - loss: 0.3432 - acc: 0.8862 - val_loss: 0.4577 - val_acc: 0.8240\n",
            "Train on 1635 samples, validate on 409 samples\n",
            "1635/1635 [==============================] - 0s 13us/sample - loss: 0.3431 - acc: 0.8893 - val_loss: 0.4544 - val_acc: 0.8215\n",
            "Train on 1635 samples, validate on 409 samples\n",
            "1635/1635 [==============================] - 0s 12us/sample - loss: 0.3446 - acc: 0.8862 - val_loss: 0.4467 - val_acc: 0.8117\n",
            "Train on 1635 samples, validate on 409 samples\n",
            "1635/1635 [==============================] - 0s 15us/sample - loss: 0.3471 - acc: 0.8838 - val_loss: 0.4596 - val_acc: 0.8240\n",
            "Train on 1635 samples, validate on 409 samples\n",
            "1635/1635 [==============================] - 0s 14us/sample - loss: 0.3446 - acc: 0.8844 - val_loss: 0.4454 - val_acc: 0.8117\n",
            "Train on 1635 samples, validate on 409 samples\n",
            "1635/1635 [==============================] - 0s 13us/sample - loss: 0.3457 - acc: 0.8856 - val_loss: 0.4616 - val_acc: 0.8215\n",
            "Train on 1635 samples, validate on 409 samples\n",
            "1635/1635 [==============================] - 0s 14us/sample - loss: 0.3426 - acc: 0.8820 - val_loss: 0.4457 - val_acc: 0.8191\n",
            "Train on 1635 samples, validate on 409 samples\n",
            "1635/1635 [==============================] - 0s 13us/sample - loss: 0.3397 - acc: 0.8862 - val_loss: 0.4560 - val_acc: 0.8215\n",
            "Train on 1635 samples, validate on 409 samples\n",
            "1635/1635 [==============================] - 0s 15us/sample - loss: 0.3371 - acc: 0.8875 - val_loss: 0.4445 - val_acc: 0.8093\n",
            "Train on 1635 samples, validate on 409 samples\n",
            "1635/1635 [==============================] - 0s 13us/sample - loss: 0.3365 - acc: 0.8881 - val_loss: 0.4531 - val_acc: 0.8264\n",
            "Train on 1635 samples, validate on 409 samples\n",
            "1635/1635 [==============================] - 0s 12us/sample - loss: 0.3346 - acc: 0.8893 - val_loss: 0.4413 - val_acc: 0.8117\n",
            "Train on 1635 samples, validate on 409 samples\n",
            "1635/1635 [==============================] - 0s 14us/sample - loss: 0.3333 - acc: 0.8924 - val_loss: 0.4528 - val_acc: 0.8240\n",
            "Train on 1635 samples, validate on 409 samples\n",
            "1635/1635 [==============================] - 0s 13us/sample - loss: 0.3324 - acc: 0.8917 - val_loss: 0.4413 - val_acc: 0.8117\n",
            "Train on 1635 samples, validate on 409 samples\n",
            "1635/1635 [==============================] - 0s 13us/sample - loss: 0.3366 - acc: 0.8899 - val_loss: 0.4523 - val_acc: 0.8191\n",
            "Train on 1635 samples, validate on 409 samples\n",
            "1635/1635 [==============================] - 0s 14us/sample - loss: 0.3339 - acc: 0.8862 - val_loss: 0.4485 - val_acc: 0.8117\n",
            "Train on 1635 samples, validate on 409 samples\n",
            "1635/1635 [==============================] - 0s 15us/sample - loss: 0.3308 - acc: 0.8899 - val_loss: 0.4471 - val_acc: 0.8240\n",
            "Train on 1635 samples, validate on 409 samples\n",
            "1635/1635 [==============================] - 0s 14us/sample - loss: 0.3293 - acc: 0.8924 - val_loss: 0.4455 - val_acc: 0.8264\n",
            "Train on 1635 samples, validate on 409 samples\n",
            "1635/1635 [==============================] - 0s 13us/sample - loss: 0.3305 - acc: 0.8930 - val_loss: 0.4482 - val_acc: 0.8264\n",
            "Train on 1635 samples, validate on 409 samples\n",
            "1635/1635 [==============================] - 0s 13us/sample - loss: 0.3302 - acc: 0.8917 - val_loss: 0.4428 - val_acc: 0.8117\n",
            "Train on 1635 samples, validate on 409 samples\n",
            "1635/1635 [==============================] - 0s 13us/sample - loss: 0.3329 - acc: 0.8911 - val_loss: 0.4603 - val_acc: 0.8240\n",
            "Train on 1635 samples, validate on 409 samples\n",
            "1635/1635 [==============================] - 0s 13us/sample - loss: 0.3327 - acc: 0.8893 - val_loss: 0.4389 - val_acc: 0.8117\n",
            "Train on 1635 samples, validate on 409 samples\n",
            "1635/1635 [==============================] - 0s 14us/sample - loss: 0.3257 - acc: 0.8966 - val_loss: 0.4491 - val_acc: 0.8313\n",
            "Train on 1635 samples, validate on 409 samples\n",
            "1635/1635 [==============================] - 0s 12us/sample - loss: 0.3248 - acc: 0.8942 - val_loss: 0.4420 - val_acc: 0.8240\n",
            "Train on 1635 samples, validate on 409 samples\n",
            "1635/1635 [==============================] - 0s 12us/sample - loss: 0.3243 - acc: 0.8991 - val_loss: 0.4483 - val_acc: 0.8264\n",
            "Train on 1635 samples, validate on 409 samples\n",
            "1635/1635 [==============================] - 0s 13us/sample - loss: 0.3241 - acc: 0.8924 - val_loss: 0.4383 - val_acc: 0.8068\n",
            "Train on 1635 samples, validate on 409 samples\n",
            "1635/1635 [==============================] - 0s 12us/sample - loss: 0.3231 - acc: 0.8942 - val_loss: 0.4459 - val_acc: 0.8264\n",
            "Train on 1635 samples, validate on 409 samples\n",
            "1635/1635 [==============================] - 0s 13us/sample - loss: 0.3257 - acc: 0.8899 - val_loss: 0.4432 - val_acc: 0.8289\n",
            "Train on 1635 samples, validate on 409 samples\n",
            "1635/1635 [==============================] - 0s 15us/sample - loss: 0.3237 - acc: 0.8911 - val_loss: 0.4374 - val_acc: 0.8142\n",
            "Train on 1635 samples, validate on 409 samples\n",
            "1635/1635 [==============================] - 0s 16us/sample - loss: 0.3191 - acc: 0.8954 - val_loss: 0.4460 - val_acc: 0.8264\n",
            "Train on 1635 samples, validate on 409 samples\n",
            "1635/1635 [==============================] - 0s 14us/sample - loss: 0.3210 - acc: 0.8948 - val_loss: 0.4336 - val_acc: 0.8020\n",
            "Train on 1635 samples, validate on 409 samples\n",
            "1635/1635 [==============================] - 0s 14us/sample - loss: 0.3198 - acc: 0.8960 - val_loss: 0.4454 - val_acc: 0.8215\n",
            "Train on 1635 samples, validate on 409 samples\n",
            "1635/1635 [==============================] - 0s 13us/sample - loss: 0.3199 - acc: 0.8905 - val_loss: 0.4311 - val_acc: 0.8142\n",
            "Train on 1635 samples, validate on 409 samples\n",
            "1635/1635 [==============================] - 0s 12us/sample - loss: 0.3179 - acc: 0.8991 - val_loss: 0.4393 - val_acc: 0.8215\n",
            "Train on 1635 samples, validate on 409 samples\n",
            "1635/1635 [==============================] - 0s 13us/sample - loss: 0.3183 - acc: 0.8960 - val_loss: 0.4482 - val_acc: 0.8362\n",
            "Train on 1635 samples, validate on 409 samples\n",
            "1635/1635 [==============================] - 0s 12us/sample - loss: 0.3188 - acc: 0.8881 - val_loss: 0.4324 - val_acc: 0.8142\n",
            "Train on 1635 samples, validate on 409 samples\n",
            "1635/1635 [==============================] - 0s 14us/sample - loss: 0.3157 - acc: 0.8972 - val_loss: 0.4483 - val_acc: 0.8289\n",
            "Train on 1635 samples, validate on 409 samples\n",
            "1635/1635 [==============================] - 0s 13us/sample - loss: 0.3190 - acc: 0.8899 - val_loss: 0.4310 - val_acc: 0.8093\n",
            "Train on 1635 samples, validate on 409 samples\n",
            "1635/1635 [==============================] - 0s 13us/sample - loss: 0.3193 - acc: 0.8960 - val_loss: 0.4595 - val_acc: 0.8264\n",
            "Train on 1635 samples, validate on 409 samples\n",
            "1635/1635 [==============================] - 0s 13us/sample - loss: 0.3208 - acc: 0.8887 - val_loss: 0.4305 - val_acc: 0.8068\n",
            "Train on 1635 samples, validate on 409 samples\n",
            "1635/1635 [==============================] - 0s 13us/sample - loss: 0.3207 - acc: 0.8948 - val_loss: 0.4279 - val_acc: 0.8191\n",
            "Train on 1635 samples, validate on 409 samples\n",
            "1635/1635 [==============================] - 0s 12us/sample - loss: 0.3146 - acc: 0.8960 - val_loss: 0.4511 - val_acc: 0.8313\n",
            "Train on 1635 samples, validate on 409 samples\n",
            "1635/1635 [==============================] - 0s 14us/sample - loss: 0.3159 - acc: 0.8979 - val_loss: 0.4320 - val_acc: 0.8093\n",
            "Train on 1635 samples, validate on 409 samples\n",
            "1635/1635 [==============================] - 0s 13us/sample - loss: 0.3091 - acc: 0.8997 - val_loss: 0.4428 - val_acc: 0.8313\n",
            "Train on 1635 samples, validate on 409 samples\n",
            "1635/1635 [==============================] - 0s 15us/sample - loss: 0.3099 - acc: 0.8979 - val_loss: 0.4311 - val_acc: 0.8093\n",
            "Train on 1635 samples, validate on 409 samples\n",
            "1635/1635 [==============================] - 0s 12us/sample - loss: 0.3129 - acc: 0.8942 - val_loss: 0.4309 - val_acc: 0.8117\n",
            "Train on 1635 samples, validate on 409 samples\n",
            "1635/1635 [==============================] - 0s 13us/sample - loss: 0.3156 - acc: 0.8917 - val_loss: 0.4414 - val_acc: 0.8289\n",
            "Train on 1635 samples, validate on 409 samples\n",
            "1635/1635 [==============================] - 0s 13us/sample - loss: 0.3126 - acc: 0.8930 - val_loss: 0.4265 - val_acc: 0.8093\n",
            "Train on 1635 samples, validate on 409 samples\n",
            "1635/1635 [==============================] - 0s 13us/sample - loss: 0.3085 - acc: 0.8985 - val_loss: 0.4394 - val_acc: 0.8215\n",
            "Train on 1635 samples, validate on 409 samples\n",
            "1635/1635 [==============================] - 0s 14us/sample - loss: 0.3056 - acc: 0.9003 - val_loss: 0.4353 - val_acc: 0.8313\n",
            "Train on 1635 samples, validate on 409 samples\n",
            "1635/1635 [==============================] - 0s 13us/sample - loss: 0.3119 - acc: 0.8936 - val_loss: 0.4256 - val_acc: 0.8044\n",
            "Train on 1635 samples, validate on 409 samples\n",
            "1635/1635 [==============================] - 0s 13us/sample - loss: 0.3124 - acc: 0.8960 - val_loss: 0.4526 - val_acc: 0.8337\n",
            "Train on 1635 samples, validate on 409 samples\n",
            "1635/1635 [==============================] - 0s 16us/sample - loss: 0.3104 - acc: 0.8960 - val_loss: 0.4248 - val_acc: 0.8044\n",
            "Train on 1635 samples, validate on 409 samples\n",
            "1635/1635 [==============================] - 0s 15us/sample - loss: 0.3057 - acc: 0.8960 - val_loss: 0.4474 - val_acc: 0.8264\n",
            "Train on 1635 samples, validate on 409 samples\n",
            "1635/1635 [==============================] - 0s 12us/sample - loss: 0.3099 - acc: 0.8917 - val_loss: 0.4226 - val_acc: 0.8117\n",
            "Train on 1635 samples, validate on 409 samples\n",
            "1635/1635 [==============================] - 0s 13us/sample - loss: 0.3026 - acc: 0.9009 - val_loss: 0.4420 - val_acc: 0.8386\n",
            "Train on 1635 samples, validate on 409 samples\n",
            "1635/1635 [==============================] - 0s 13us/sample - loss: 0.3033 - acc: 0.9009 - val_loss: 0.4237 - val_acc: 0.8117\n",
            "Train on 1635 samples, validate on 409 samples\n",
            "1635/1635 [==============================] - 0s 15us/sample - loss: 0.2999 - acc: 0.9028 - val_loss: 0.4309 - val_acc: 0.8264\n",
            "Train on 1635 samples, validate on 409 samples\n",
            "1635/1635 [==============================] - 0s 13us/sample - loss: 0.2998 - acc: 0.9015 - val_loss: 0.4257 - val_acc: 0.8215\n",
            "Train on 1635 samples, validate on 409 samples\n",
            "1635/1635 [==============================] - 0s 13us/sample - loss: 0.2985 - acc: 0.9003 - val_loss: 0.4310 - val_acc: 0.8240\n",
            "Train on 1635 samples, validate on 409 samples\n",
            "1635/1635 [==============================] - 0s 13us/sample - loss: 0.2985 - acc: 0.9028 - val_loss: 0.4299 - val_acc: 0.8337\n",
            "Train on 1635 samples, validate on 409 samples\n",
            "1635/1635 [==============================] - 0s 13us/sample - loss: 0.2987 - acc: 0.9003 - val_loss: 0.4298 - val_acc: 0.8289\n",
            "Train on 1635 samples, validate on 409 samples\n",
            "1635/1635 [==============================] - 0s 12us/sample - loss: 0.2980 - acc: 0.9052 - val_loss: 0.4234 - val_acc: 0.8093\n",
            "Train on 1635 samples, validate on 409 samples\n",
            "1635/1635 [==============================] - 0s 13us/sample - loss: 0.3059 - acc: 0.8979 - val_loss: 0.4512 - val_acc: 0.8386\n",
            "Train on 1635 samples, validate on 409 samples\n",
            "1635/1635 [==============================] - 0s 15us/sample - loss: 0.3016 - acc: 0.9015 - val_loss: 0.4199 - val_acc: 0.8117\n",
            "Train on 1635 samples, validate on 409 samples\n",
            "1635/1635 [==============================] - 0s 20us/sample - loss: 0.2958 - acc: 0.9015 - val_loss: 0.4301 - val_acc: 0.8289\n",
            "Train on 1635 samples, validate on 409 samples\n",
            "1635/1635 [==============================] - 0s 17us/sample - loss: 0.2946 - acc: 0.9052 - val_loss: 0.4180 - val_acc: 0.8191\n",
            "Train on 1635 samples, validate on 409 samples\n",
            "1635/1635 [==============================] - 0s 13us/sample - loss: 0.2958 - acc: 0.9089 - val_loss: 0.4280 - val_acc: 0.8337\n",
            "Train on 1635 samples, validate on 409 samples\n",
            "1635/1635 [==============================] - 0s 15us/sample - loss: 0.2924 - acc: 0.9070 - val_loss: 0.4221 - val_acc: 0.8313\n",
            "Train on 1635 samples, validate on 409 samples\n",
            "1635/1635 [==============================] - 0s 16us/sample - loss: 0.2917 - acc: 0.9064 - val_loss: 0.4226 - val_acc: 0.8362\n",
            "Train on 1635 samples, validate on 409 samples\n",
            "1635/1635 [==============================] - 0s 15us/sample - loss: 0.2906 - acc: 0.9089 - val_loss: 0.4250 - val_acc: 0.8264\n",
            "Train on 1635 samples, validate on 409 samples\n",
            "1635/1635 [==============================] - 0s 17us/sample - loss: 0.2905 - acc: 0.9076 - val_loss: 0.4215 - val_acc: 0.8240\n",
            "Train on 1635 samples, validate on 409 samples\n",
            "1635/1635 [==============================] - 0s 18us/sample - loss: 0.2901 - acc: 0.9046 - val_loss: 0.4272 - val_acc: 0.8386\n",
            "Train on 1635 samples, validate on 409 samples\n",
            "1635/1635 [==============================] - 0s 15us/sample - loss: 0.2885 - acc: 0.9089 - val_loss: 0.4228 - val_acc: 0.8313\n",
            "Train on 1635 samples, validate on 409 samples\n",
            "1635/1635 [==============================] - 0s 15us/sample - loss: 0.2877 - acc: 0.9095 - val_loss: 0.4215 - val_acc: 0.8215\n",
            "Train on 1635 samples, validate on 409 samples\n",
            "1635/1635 [==============================] - 0s 16us/sample - loss: 0.2879 - acc: 0.9101 - val_loss: 0.4220 - val_acc: 0.8191\n",
            "Train on 1635 samples, validate on 409 samples\n",
            "1635/1635 [==============================] - 0s 12us/sample - loss: 0.2867 - acc: 0.9089 - val_loss: 0.4310 - val_acc: 0.8337\n",
            "Train on 1635 samples, validate on 409 samples\n",
            "1635/1635 [==============================] - 0s 16us/sample - loss: 0.2872 - acc: 0.9083 - val_loss: 0.4186 - val_acc: 0.8264\n",
            "Train on 1635 samples, validate on 409 samples\n",
            "1635/1635 [==============================] - 0s 14us/sample - loss: 0.2862 - acc: 0.9076 - val_loss: 0.4337 - val_acc: 0.8386\n",
            "Train on 1635 samples, validate on 409 samples\n",
            "1635/1635 [==============================] - 0s 13us/sample - loss: 0.2876 - acc: 0.9034 - val_loss: 0.4218 - val_acc: 0.8337\n",
            "Train on 1635 samples, validate on 409 samples\n",
            "1635/1635 [==============================] - 0s 12us/sample - loss: 0.2827 - acc: 0.9107 - val_loss: 0.4195 - val_acc: 0.8264\n",
            "Train on 1635 samples, validate on 409 samples\n",
            "1635/1635 [==============================] - 0s 15us/sample - loss: 0.2836 - acc: 0.9058 - val_loss: 0.4272 - val_acc: 0.8313\n",
            "Train on 1635 samples, validate on 409 samples\n",
            "1635/1635 [==============================] - 0s 14us/sample - loss: 0.2817 - acc: 0.9113 - val_loss: 0.4241 - val_acc: 0.8289\n",
            "Train on 1635 samples, validate on 409 samples\n",
            "1635/1635 [==============================] - 0s 14us/sample - loss: 0.2826 - acc: 0.9125 - val_loss: 0.4244 - val_acc: 0.8313\n",
            "Train on 1635 samples, validate on 409 samples\n",
            "1635/1635 [==============================] - 0s 13us/sample - loss: 0.2847 - acc: 0.9064 - val_loss: 0.4382 - val_acc: 0.8337\n",
            "Train on 1635 samples, validate on 409 samples\n",
            "1635/1635 [==============================] - 0s 13us/sample - loss: 0.2860 - acc: 0.9034 - val_loss: 0.4148 - val_acc: 0.8313\n",
            "Train on 1635 samples, validate on 409 samples\n",
            "1635/1635 [==============================] - 0s 12us/sample - loss: 0.2855 - acc: 0.9083 - val_loss: 0.4177 - val_acc: 0.8240\n",
            "Train on 1635 samples, validate on 409 samples\n",
            "1635/1635 [==============================] - 0s 13us/sample - loss: 0.2802 - acc: 0.9089 - val_loss: 0.4357 - val_acc: 0.8337\n",
            "Train on 1635 samples, validate on 409 samples\n",
            "1635/1635 [==============================] - 0s 13us/sample - loss: 0.2792 - acc: 0.9125 - val_loss: 0.4178 - val_acc: 0.8215\n",
            "Train on 1635 samples, validate on 409 samples\n",
            "1635/1635 [==============================] - 0s 14us/sample - loss: 0.2780 - acc: 0.9119 - val_loss: 0.4263 - val_acc: 0.8362\n",
            "Train on 1635 samples, validate on 409 samples\n",
            "1635/1635 [==============================] - 0s 14us/sample - loss: 0.2775 - acc: 0.9101 - val_loss: 0.4303 - val_acc: 0.8411\n",
            "Train on 1635 samples, validate on 409 samples\n",
            "1635/1635 [==============================] - 0s 13us/sample - loss: 0.2771 - acc: 0.9095 - val_loss: 0.4205 - val_acc: 0.8264\n",
            "Train on 1635 samples, validate on 409 samples\n",
            "1635/1635 [==============================] - 0s 13us/sample - loss: 0.2759 - acc: 0.9107 - val_loss: 0.4165 - val_acc: 0.8240\n",
            "Train on 1635 samples, validate on 409 samples\n",
            "1635/1635 [==============================] - 0s 12us/sample - loss: 0.2755 - acc: 0.9076 - val_loss: 0.4322 - val_acc: 0.8411\n",
            "Train on 1635 samples, validate on 409 samples\n",
            "1635/1635 [==============================] - 0s 13us/sample - loss: 0.2743 - acc: 0.9150 - val_loss: 0.4141 - val_acc: 0.8191\n",
            "Train on 1635 samples, validate on 409 samples\n",
            "1635/1635 [==============================] - 0s 14us/sample - loss: 0.2750 - acc: 0.9119 - val_loss: 0.4194 - val_acc: 0.8289\n",
            "Train on 1635 samples, validate on 409 samples\n",
            "1635/1635 [==============================] - 0s 13us/sample - loss: 0.2731 - acc: 0.9144 - val_loss: 0.4202 - val_acc: 0.8337\n",
            "Train on 1635 samples, validate on 409 samples\n",
            "1635/1635 [==============================] - 0s 12us/sample - loss: 0.2716 - acc: 0.9119 - val_loss: 0.4225 - val_acc: 0.8362\n",
            "Train on 1635 samples, validate on 409 samples\n",
            "1635/1635 [==============================] - 0s 13us/sample - loss: 0.2750 - acc: 0.9131 - val_loss: 0.4127 - val_acc: 0.8191\n",
            "Train on 1635 samples, validate on 409 samples\n",
            "1635/1635 [==============================] - 0s 15us/sample - loss: 0.2715 - acc: 0.9101 - val_loss: 0.4200 - val_acc: 0.8411\n",
            "Train on 1635 samples, validate on 409 samples\n",
            "1635/1635 [==============================] - 0s 16us/sample - loss: 0.2727 - acc: 0.9113 - val_loss: 0.4219 - val_acc: 0.8362\n",
            "Train on 1635 samples, validate on 409 samples\n",
            "1635/1635 [==============================] - 0s 15us/sample - loss: 0.2710 - acc: 0.9107 - val_loss: 0.4164 - val_acc: 0.8289\n",
            "Train on 1635 samples, validate on 409 samples\n",
            "1635/1635 [==============================] - 0s 16us/sample - loss: 0.2737 - acc: 0.9046 - val_loss: 0.4269 - val_acc: 0.8313\n",
            "Train on 1635 samples, validate on 409 samples\n",
            "1635/1635 [==============================] - 0s 13us/sample - loss: 0.2696 - acc: 0.9119 - val_loss: 0.4151 - val_acc: 0.8289\n",
            "Train on 1635 samples, validate on 409 samples\n",
            "1635/1635 [==============================] - 0s 15us/sample - loss: 0.2686 - acc: 0.9131 - val_loss: 0.4095 - val_acc: 0.8240\n",
            "Train on 1635 samples, validate on 409 samples\n",
            "1635/1635 [==============================] - 0s 17us/sample - loss: 0.2745 - acc: 0.9101 - val_loss: 0.4285 - val_acc: 0.8411\n",
            "Train on 1635 samples, validate on 409 samples\n",
            "1635/1635 [==============================] - 0s 13us/sample - loss: 0.2659 - acc: 0.9101 - val_loss: 0.4079 - val_acc: 0.8240\n",
            "Train on 1635 samples, validate on 409 samples\n",
            "1635/1635 [==============================] - 0s 13us/sample - loss: 0.2659 - acc: 0.9156 - val_loss: 0.4220 - val_acc: 0.8386\n",
            "Train on 1635 samples, validate on 409 samples\n",
            "1635/1635 [==============================] - 0s 13us/sample - loss: 0.2659 - acc: 0.9113 - val_loss: 0.4122 - val_acc: 0.8313\n",
            "Train on 1635 samples, validate on 409 samples\n",
            "1635/1635 [==============================] - 0s 13us/sample - loss: 0.2670 - acc: 0.9131 - val_loss: 0.4122 - val_acc: 0.8240\n",
            "Train on 1635 samples, validate on 409 samples\n",
            "1635/1635 [==============================] - 0s 13us/sample - loss: 0.2744 - acc: 0.9076 - val_loss: 0.4512 - val_acc: 0.8337\n",
            "Train on 1635 samples, validate on 409 samples\n",
            "1635/1635 [==============================] - 0s 14us/sample - loss: 0.2796 - acc: 0.9021 - val_loss: 0.4104 - val_acc: 0.8215\n",
            "Train on 1635 samples, validate on 409 samples\n",
            "1635/1635 [==============================] - 0s 15us/sample - loss: 0.2678 - acc: 0.9119 - val_loss: 0.4269 - val_acc: 0.8435\n",
            "Train on 1635 samples, validate on 409 samples\n",
            "1635/1635 [==============================] - 0s 14us/sample - loss: 0.2621 - acc: 0.9193 - val_loss: 0.4056 - val_acc: 0.8362\n",
            "Train on 1635 samples, validate on 409 samples\n",
            "1635/1635 [==============================] - 0s 15us/sample - loss: 0.2618 - acc: 0.9174 - val_loss: 0.4105 - val_acc: 0.8362\n",
            "Train on 1635 samples, validate on 409 samples\n",
            "1635/1635 [==============================] - 0s 13us/sample - loss: 0.2650 - acc: 0.9144 - val_loss: 0.4192 - val_acc: 0.8313\n",
            "Train on 1635 samples, validate on 409 samples\n",
            "1635/1635 [==============================] - 0s 13us/sample - loss: 0.2613 - acc: 0.9193 - val_loss: 0.4085 - val_acc: 0.8313\n",
            "Train on 1635 samples, validate on 409 samples\n",
            "1635/1635 [==============================] - 0s 13us/sample - loss: 0.2599 - acc: 0.9211 - val_loss: 0.4119 - val_acc: 0.8386\n",
            "Train on 1635 samples, validate on 409 samples\n",
            "1635/1635 [==============================] - 0s 13us/sample - loss: 0.2650 - acc: 0.9107 - val_loss: 0.4176 - val_acc: 0.8460\n",
            "Train on 1635 samples, validate on 409 samples\n",
            "1635/1635 [==============================] - 0s 13us/sample - loss: 0.2607 - acc: 0.9144 - val_loss: 0.4158 - val_acc: 0.8362\n",
            "Train on 1635 samples, validate on 409 samples\n",
            "1635/1635 [==============================] - 0s 14us/sample - loss: 0.2602 - acc: 0.9119 - val_loss: 0.4096 - val_acc: 0.8313\n",
            "Train on 1635 samples, validate on 409 samples\n",
            "1635/1635 [==============================] - 0s 15us/sample - loss: 0.2636 - acc: 0.9144 - val_loss: 0.4252 - val_acc: 0.8484\n",
            "Train on 1635 samples, validate on 409 samples\n",
            "1635/1635 [==============================] - 0s 14us/sample - loss: 0.2614 - acc: 0.9180 - val_loss: 0.4159 - val_acc: 0.8411\n",
            "Train on 1635 samples, validate on 409 samples\n",
            "1635/1635 [==============================] - 0s 16us/sample - loss: 0.2600 - acc: 0.9168 - val_loss: 0.4094 - val_acc: 0.8240\n",
            "Train on 1635 samples, validate on 409 samples\n",
            "1635/1635 [==============================] - 0s 14us/sample - loss: 0.2561 - acc: 0.9205 - val_loss: 0.4266 - val_acc: 0.8484\n",
            "Train on 1635 samples, validate on 409 samples\n",
            "1635/1635 [==============================] - 0s 17us/sample - loss: 0.2583 - acc: 0.9150 - val_loss: 0.4089 - val_acc: 0.8313\n",
            "Train on 1635 samples, validate on 409 samples\n",
            "1635/1635 [==============================] - 0s 13us/sample - loss: 0.2563 - acc: 0.9174 - val_loss: 0.4083 - val_acc: 0.8386\n",
            "Train on 1635 samples, validate on 409 samples\n",
            "1635/1635 [==============================] - 0s 13us/sample - loss: 0.2542 - acc: 0.9187 - val_loss: 0.4123 - val_acc: 0.8460\n",
            "Train on 1635 samples, validate on 409 samples\n",
            "1635/1635 [==============================] - 0s 15us/sample - loss: 0.2543 - acc: 0.9180 - val_loss: 0.4088 - val_acc: 0.8362\n",
            "Train on 1635 samples, validate on 409 samples\n",
            "1635/1635 [==============================] - 0s 12us/sample - loss: 0.2534 - acc: 0.9150 - val_loss: 0.4167 - val_acc: 0.8386\n",
            "Train on 1635 samples, validate on 409 samples\n",
            "1635/1635 [==============================] - 0s 12us/sample - loss: 0.2528 - acc: 0.9180 - val_loss: 0.4123 - val_acc: 0.8435\n",
            "Train on 1635 samples, validate on 409 samples\n",
            "1635/1635 [==============================] - 0s 12us/sample - loss: 0.2545 - acc: 0.9156 - val_loss: 0.4159 - val_acc: 0.8460\n",
            "Train on 1635 samples, validate on 409 samples\n",
            "1635/1635 [==============================] - 0s 13us/sample - loss: 0.2512 - acc: 0.9180 - val_loss: 0.4044 - val_acc: 0.8313\n",
            "Train on 1635 samples, validate on 409 samples\n",
            "1635/1635 [==============================] - 0s 14us/sample - loss: 0.2521 - acc: 0.9174 - val_loss: 0.4080 - val_acc: 0.8386\n",
            "Train on 1635 samples, validate on 409 samples\n",
            "1635/1635 [==============================] - 0s 15us/sample - loss: 0.2501 - acc: 0.9193 - val_loss: 0.3993 - val_acc: 0.8362\n",
            "Train on 1635 samples, validate on 409 samples\n",
            "1635/1635 [==============================] - 0s 13us/sample - loss: 0.2546 - acc: 0.9150 - val_loss: 0.4062 - val_acc: 0.8435\n",
            "Train on 1635 samples, validate on 409 samples\n",
            "1635/1635 [==============================] - 0s 13us/sample - loss: 0.2507 - acc: 0.9168 - val_loss: 0.4181 - val_acc: 0.8386\n",
            "Train on 1635 samples, validate on 409 samples\n",
            "1635/1635 [==============================] - 0s 13us/sample - loss: 0.2475 - acc: 0.9229 - val_loss: 0.4051 - val_acc: 0.8460\n",
            "Train on 1635 samples, validate on 409 samples\n",
            "1635/1635 [==============================] - 0s 15us/sample - loss: 0.2483 - acc: 0.9193 - val_loss: 0.4102 - val_acc: 0.8484\n",
            "Train on 1635 samples, validate on 409 samples\n",
            "1635/1635 [==============================] - 0s 13us/sample - loss: 0.2461 - acc: 0.9168 - val_loss: 0.4024 - val_acc: 0.8362\n",
            "Train on 1635 samples, validate on 409 samples\n",
            "1635/1635 [==============================] - 0s 13us/sample - loss: 0.2451 - acc: 0.9217 - val_loss: 0.4284 - val_acc: 0.8411\n",
            "Train on 1635 samples, validate on 409 samples\n",
            "1635/1635 [==============================] - 0s 13us/sample - loss: 0.2514 - acc: 0.9162 - val_loss: 0.4014 - val_acc: 0.8313\n",
            "Train on 1635 samples, validate on 409 samples\n",
            "1635/1635 [==============================] - 0s 13us/sample - loss: 0.2441 - acc: 0.9193 - val_loss: 0.4128 - val_acc: 0.8484\n",
            "Train on 1635 samples, validate on 409 samples\n",
            "1635/1635 [==============================] - 0s 13us/sample - loss: 0.2446 - acc: 0.9223 - val_loss: 0.3993 - val_acc: 0.8337\n",
            "Train on 1635 samples, validate on 409 samples\n",
            "1635/1635 [==============================] - 0s 13us/sample - loss: 0.2468 - acc: 0.9199 - val_loss: 0.4157 - val_acc: 0.8411\n",
            "Train on 1635 samples, validate on 409 samples\n",
            "1635/1635 [==============================] - 0s 13us/sample - loss: 0.2454 - acc: 0.9168 - val_loss: 0.3983 - val_acc: 0.8337\n",
            "Train on 1635 samples, validate on 409 samples\n",
            "1635/1635 [==============================] - 0s 13us/sample - loss: 0.2456 - acc: 0.9174 - val_loss: 0.4223 - val_acc: 0.8460\n",
            "Train on 1635 samples, validate on 409 samples\n",
            "1635/1635 [==============================] - 0s 12us/sample - loss: 0.2455 - acc: 0.9193 - val_loss: 0.4003 - val_acc: 0.8264\n",
            "Train on 1635 samples, validate on 409 samples\n",
            "1635/1635 [==============================] - 0s 13us/sample - loss: 0.2516 - acc: 0.9168 - val_loss: 0.4117 - val_acc: 0.8509\n",
            "Train on 1635 samples, validate on 409 samples\n",
            "1635/1635 [==============================] - 0s 15us/sample - loss: 0.2463 - acc: 0.9150 - val_loss: 0.4055 - val_acc: 0.8533\n",
            "Train on 1635 samples, validate on 409 samples\n",
            "1635/1635 [==============================] - 0s 14us/sample - loss: 0.2428 - acc: 0.9211 - val_loss: 0.3945 - val_acc: 0.8362\n",
            "Train on 1635 samples, validate on 409 samples\n",
            "1635/1635 [==============================] - 0s 19us/sample - loss: 0.2414 - acc: 0.9205 - val_loss: 0.4107 - val_acc: 0.8435\n",
            "Train on 1635 samples, validate on 409 samples\n",
            "1635/1635 [==============================] - 0s 14us/sample - loss: 0.2412 - acc: 0.9187 - val_loss: 0.3993 - val_acc: 0.8337\n",
            "Train on 1635 samples, validate on 409 samples\n",
            "1635/1635 [==============================] - 0s 14us/sample - loss: 0.2418 - acc: 0.9229 - val_loss: 0.3975 - val_acc: 0.8460\n",
            "Train on 1635 samples, validate on 409 samples\n",
            "1635/1635 [==============================] - 0s 18us/sample - loss: 0.2420 - acc: 0.9211 - val_loss: 0.4224 - val_acc: 0.8484\n",
            "Train on 1635 samples, validate on 409 samples\n",
            "1635/1635 [==============================] - 0s 17us/sample - loss: 0.2450 - acc: 0.9211 - val_loss: 0.3969 - val_acc: 0.8362\n",
            "Train on 1635 samples, validate on 409 samples\n",
            "1635/1635 [==============================] - 0s 13us/sample - loss: 0.2373 - acc: 0.9235 - val_loss: 0.4006 - val_acc: 0.8533\n",
            "Train on 1635 samples, validate on 409 samples\n",
            "1635/1635 [==============================] - 0s 13us/sample - loss: 0.2440 - acc: 0.9205 - val_loss: 0.4300 - val_acc: 0.8460\n",
            "Train on 1635 samples, validate on 409 samples\n",
            "1635/1635 [==============================] - 0s 13us/sample - loss: 0.2452 - acc: 0.9199 - val_loss: 0.3950 - val_acc: 0.8435\n",
            "Train on 1635 samples, validate on 409 samples\n",
            "1635/1635 [==============================] - 0s 14us/sample - loss: 0.2456 - acc: 0.9150 - val_loss: 0.3931 - val_acc: 0.8289\n",
            "Train on 1635 samples, validate on 409 samples\n",
            "1635/1635 [==============================] - 0s 14us/sample - loss: 0.2448 - acc: 0.9174 - val_loss: 0.4033 - val_acc: 0.8533\n",
            "Train on 1635 samples, validate on 409 samples\n",
            "1635/1635 [==============================] - 0s 17us/sample - loss: 0.2355 - acc: 0.9235 - val_loss: 0.3896 - val_acc: 0.8460\n",
            "Train on 1635 samples, validate on 409 samples\n",
            "1635/1635 [==============================] - 0s 17us/sample - loss: 0.2374 - acc: 0.9211 - val_loss: 0.4154 - val_acc: 0.8509\n",
            "Train on 1635 samples, validate on 409 samples\n",
            "1635/1635 [==============================] - 0s 17us/sample - loss: 0.2398 - acc: 0.9211 - val_loss: 0.3928 - val_acc: 0.8411\n",
            "Train on 1635 samples, validate on 409 samples\n",
            "1635/1635 [==============================] - 0s 16us/sample - loss: 0.2390 - acc: 0.9229 - val_loss: 0.3931 - val_acc: 0.8386\n",
            "Train on 1635 samples, validate on 409 samples\n",
            "1635/1635 [==============================] - 0s 13us/sample - loss: 0.2471 - acc: 0.9162 - val_loss: 0.4530 - val_acc: 0.8386\n",
            "Train on 1635 samples, validate on 409 samples\n",
            "1635/1635 [==============================] - 0s 17us/sample - loss: 0.2448 - acc: 0.9125 - val_loss: 0.3931 - val_acc: 0.8386\n",
            "Train on 1635 samples, validate on 409 samples\n",
            "1635/1635 [==============================] - 0s 16us/sample - loss: 0.2357 - acc: 0.9211 - val_loss: 0.3944 - val_acc: 0.8484\n",
            "Train on 1635 samples, validate on 409 samples\n",
            "1635/1635 [==============================] - 0s 16us/sample - loss: 0.2381 - acc: 0.9193 - val_loss: 0.3986 - val_acc: 0.8606\n",
            "Train on 1635 samples, validate on 409 samples\n",
            "1635/1635 [==============================] - 0s 14us/sample - loss: 0.2428 - acc: 0.9187 - val_loss: 0.4328 - val_acc: 0.8509\n",
            "Train on 1635 samples, validate on 409 samples\n",
            "1635/1635 [==============================] - 0s 15us/sample - loss: 0.2424 - acc: 0.9180 - val_loss: 0.3944 - val_acc: 0.8386\n",
            "Train on 1635 samples, validate on 409 samples\n",
            "1635/1635 [==============================] - 0s 15us/sample - loss: 0.2373 - acc: 0.9199 - val_loss: 0.4053 - val_acc: 0.8533\n",
            "Train on 1635 samples, validate on 409 samples\n",
            "1635/1635 [==============================] - 0s 14us/sample - loss: 0.2319 - acc: 0.9229 - val_loss: 0.3919 - val_acc: 0.8411\n",
            "Train on 1635 samples, validate on 409 samples\n",
            "1635/1635 [==============================] - 0s 13us/sample - loss: 0.2310 - acc: 0.9254 - val_loss: 0.4116 - val_acc: 0.8533\n",
            "Train on 1635 samples, validate on 409 samples\n",
            "1635/1635 [==============================] - 0s 15us/sample - loss: 0.2319 - acc: 0.9223 - val_loss: 0.3922 - val_acc: 0.8460\n",
            "Train on 1635 samples, validate on 409 samples\n",
            "1635/1635 [==============================] - 0s 14us/sample - loss: 0.2319 - acc: 0.9242 - val_loss: 0.3891 - val_acc: 0.8435\n",
            "Train on 1635 samples, validate on 409 samples\n",
            "1635/1635 [==============================] - 0s 15us/sample - loss: 0.2334 - acc: 0.9205 - val_loss: 0.3968 - val_acc: 0.8533\n",
            "Train on 1635 samples, validate on 409 samples\n",
            "1635/1635 [==============================] - 0s 13us/sample - loss: 0.2293 - acc: 0.9235 - val_loss: 0.3944 - val_acc: 0.8533\n",
            "Train on 1635 samples, validate on 409 samples\n",
            "1635/1635 [==============================] - 0s 13us/sample - loss: 0.2268 - acc: 0.9260 - val_loss: 0.4053 - val_acc: 0.8484\n",
            "Train on 1635 samples, validate on 409 samples\n",
            "1635/1635 [==============================] - 0s 13us/sample - loss: 0.2267 - acc: 0.9272 - val_loss: 0.4002 - val_acc: 0.8557\n",
            "Train on 1635 samples, validate on 409 samples\n",
            "1635/1635 [==============================] - 0s 16us/sample - loss: 0.2276 - acc: 0.9272 - val_loss: 0.3916 - val_acc: 0.8460\n",
            "Train on 1635 samples, validate on 409 samples\n",
            "1635/1635 [==============================] - 0s 13us/sample - loss: 0.2265 - acc: 0.9248 - val_loss: 0.3933 - val_acc: 0.8411\n",
            "Train on 1635 samples, validate on 409 samples\n",
            "1635/1635 [==============================] - 0s 14us/sample - loss: 0.2276 - acc: 0.9242 - val_loss: 0.4297 - val_acc: 0.8484\n",
            "Train on 1635 samples, validate on 409 samples\n",
            "1635/1635 [==============================] - 0s 14us/sample - loss: 0.2298 - acc: 0.9254 - val_loss: 0.3929 - val_acc: 0.8484\n",
            "Train on 1635 samples, validate on 409 samples\n",
            "1635/1635 [==============================] - 0s 14us/sample - loss: 0.2255 - acc: 0.9260 - val_loss: 0.3867 - val_acc: 0.8606\n",
            "Train on 1635 samples, validate on 409 samples\n",
            "1635/1635 [==============================] - 0s 13us/sample - loss: 0.2256 - acc: 0.9248 - val_loss: 0.3971 - val_acc: 0.8509\n",
            "Train on 1635 samples, validate on 409 samples\n",
            "1635/1635 [==============================] - 0s 13us/sample - loss: 0.2260 - acc: 0.9260 - val_loss: 0.3870 - val_acc: 0.8435\n",
            "Train on 1635 samples, validate on 409 samples\n",
            "1635/1635 [==============================] - 0s 16us/sample - loss: 0.2235 - acc: 0.9272 - val_loss: 0.4056 - val_acc: 0.8533\n",
            "Train on 1635 samples, validate on 409 samples\n",
            "1635/1635 [==============================] - 0s 12us/sample - loss: 0.2227 - acc: 0.9217 - val_loss: 0.3977 - val_acc: 0.8533\n",
            "Train on 1635 samples, validate on 409 samples\n",
            "1635/1635 [==============================] - 0s 13us/sample - loss: 0.2220 - acc: 0.9248 - val_loss: 0.3862 - val_acc: 0.8460\n",
            "Train on 1635 samples, validate on 409 samples\n",
            "1635/1635 [==============================] - 0s 15us/sample - loss: 0.2240 - acc: 0.9284 - val_loss: 0.4358 - val_acc: 0.8435\n",
            "Train on 1635 samples, validate on 409 samples\n",
            "1635/1635 [==============================] - 0s 13us/sample - loss: 0.2305 - acc: 0.9235 - val_loss: 0.4011 - val_acc: 0.8582\n",
            "Train on 1635 samples, validate on 409 samples\n",
            "1635/1635 [==============================] - 0s 14us/sample - loss: 0.2241 - acc: 0.9260 - val_loss: 0.3893 - val_acc: 0.8435\n",
            "Train on 1635 samples, validate on 409 samples\n",
            "1635/1635 [==============================] - 0s 14us/sample - loss: 0.2207 - acc: 0.9309 - val_loss: 0.4138 - val_acc: 0.8484\n",
            "Train on 1635 samples, validate on 409 samples\n",
            "1635/1635 [==============================] - 0s 13us/sample - loss: 0.2226 - acc: 0.9223 - val_loss: 0.3935 - val_acc: 0.8509\n",
            "Train on 1635 samples, validate on 409 samples\n",
            "1635/1635 [==============================] - 0s 14us/sample - loss: 0.2206 - acc: 0.9254 - val_loss: 0.4209 - val_acc: 0.8435\n",
            "Train on 1635 samples, validate on 409 samples\n",
            "1635/1635 [==============================] - 0s 15us/sample - loss: 0.2236 - acc: 0.9248 - val_loss: 0.4078 - val_acc: 0.8509\n",
            "Train on 1635 samples, validate on 409 samples\n",
            "1635/1635 [==============================] - 0s 14us/sample - loss: 0.2286 - acc: 0.9223 - val_loss: 0.3880 - val_acc: 0.8337\n",
            "Train on 1635 samples, validate on 409 samples\n",
            "1635/1635 [==============================] - 0s 15us/sample - loss: 0.2318 - acc: 0.9187 - val_loss: 0.4073 - val_acc: 0.8484\n",
            "Train on 1635 samples, validate on 409 samples\n",
            "1635/1635 [==============================] - 0s 15us/sample - loss: 0.2211 - acc: 0.9272 - val_loss: 0.4233 - val_acc: 0.8460\n",
            "Train on 1635 samples, validate on 409 samples\n",
            "1635/1635 [==============================] - 0s 15us/sample - loss: 0.2261 - acc: 0.9229 - val_loss: 0.3922 - val_acc: 0.8411\n",
            "Train on 1635 samples, validate on 409 samples\n",
            "1635/1635 [==============================] - 0s 14us/sample - loss: 0.2191 - acc: 0.9260 - val_loss: 0.4094 - val_acc: 0.8557\n",
            "Train on 1635 samples, validate on 409 samples\n",
            "1635/1635 [==============================] - 0s 12us/sample - loss: 0.2195 - acc: 0.9266 - val_loss: 0.4063 - val_acc: 0.8533\n",
            "Train on 1635 samples, validate on 409 samples\n",
            "1635/1635 [==============================] - 0s 14us/sample - loss: 0.2166 - acc: 0.9278 - val_loss: 0.4053 - val_acc: 0.8509\n",
            "Train on 1635 samples, validate on 409 samples\n",
            "1635/1635 [==============================] - 0s 12us/sample - loss: 0.2160 - acc: 0.9266 - val_loss: 0.3922 - val_acc: 0.8533\n",
            "Train on 1635 samples, validate on 409 samples\n",
            "1635/1635 [==============================] - 0s 12us/sample - loss: 0.2166 - acc: 0.9291 - val_loss: 0.4098 - val_acc: 0.8509\n",
            "Train on 1635 samples, validate on 409 samples\n",
            "1635/1635 [==============================] - 0s 14us/sample - loss: 0.2149 - acc: 0.9291 - val_loss: 0.3887 - val_acc: 0.8509\n",
            "Train on 1635 samples, validate on 409 samples\n",
            "1635/1635 [==============================] - 0s 13us/sample - loss: 0.2175 - acc: 0.9272 - val_loss: 0.3959 - val_acc: 0.8509\n",
            "Train on 1635 samples, validate on 409 samples\n",
            "1635/1635 [==============================] - 0s 14us/sample - loss: 0.2202 - acc: 0.9272 - val_loss: 0.4151 - val_acc: 0.8484\n",
            "Train on 1635 samples, validate on 409 samples\n",
            "1635/1635 [==============================] - 0s 14us/sample - loss: 0.2197 - acc: 0.9260 - val_loss: 0.4132 - val_acc: 0.8582\n",
            "Train on 1635 samples, validate on 409 samples\n",
            "1635/1635 [==============================] - 0s 14us/sample - loss: 0.2155 - acc: 0.9297 - val_loss: 0.4012 - val_acc: 0.8509\n",
            "Train on 1635 samples, validate on 409 samples\n",
            "1635/1635 [==============================] - 0s 12us/sample - loss: 0.2137 - acc: 0.9284 - val_loss: 0.3870 - val_acc: 0.8386\n",
            "Train on 1635 samples, validate on 409 samples\n",
            "1635/1635 [==============================] - 0s 13us/sample - loss: 0.2182 - acc: 0.9254 - val_loss: 0.4148 - val_acc: 0.8533\n",
            "Train on 1635 samples, validate on 409 samples\n",
            "1635/1635 [==============================] - 0s 13us/sample - loss: 0.2136 - acc: 0.9272 - val_loss: 0.4012 - val_acc: 0.8509\n",
            "Train on 1635 samples, validate on 409 samples\n",
            "1635/1635 [==============================] - 0s 17us/sample - loss: 0.2156 - acc: 0.9284 - val_loss: 0.3921 - val_acc: 0.8435\n",
            "Train on 1635 samples, validate on 409 samples\n",
            "1635/1635 [==============================] - 0s 13us/sample - loss: 0.2125 - acc: 0.9284 - val_loss: 0.4067 - val_acc: 0.8509\n",
            "Train on 1635 samples, validate on 409 samples\n",
            "1635/1635 [==============================] - 0s 15us/sample - loss: 0.2134 - acc: 0.9297 - val_loss: 0.4110 - val_acc: 0.8509\n",
            "Train on 1635 samples, validate on 409 samples\n",
            "1635/1635 [==============================] - 0s 13us/sample - loss: 0.2133 - acc: 0.9272 - val_loss: 0.3976 - val_acc: 0.8582\n",
            "Train on 1635 samples, validate on 409 samples\n",
            "1635/1635 [==============================] - 0s 13us/sample - loss: 0.2114 - acc: 0.9303 - val_loss: 0.4176 - val_acc: 0.8509\n",
            "Train on 1635 samples, validate on 409 samples\n",
            "1635/1635 [==============================] - 0s 14us/sample - loss: 0.2121 - acc: 0.9303 - val_loss: 0.3949 - val_acc: 0.8337\n",
            "Train on 1635 samples, validate on 409 samples\n",
            "1635/1635 [==============================] - 0s 14us/sample - loss: 0.2142 - acc: 0.9309 - val_loss: 0.4178 - val_acc: 0.8509\n",
            "Train on 1635 samples, validate on 409 samples\n",
            "1635/1635 [==============================] - 0s 14us/sample - loss: 0.2131 - acc: 0.9321 - val_loss: 0.3873 - val_acc: 0.8460\n",
            "Train on 1635 samples, validate on 409 samples\n",
            "1635/1635 [==============================] - 0s 15us/sample - loss: 0.2117 - acc: 0.9278 - val_loss: 0.3915 - val_acc: 0.8509\n",
            "Train on 1635 samples, validate on 409 samples\n",
            "1635/1635 [==============================] - 0s 16us/sample - loss: 0.2086 - acc: 0.9315 - val_loss: 0.4084 - val_acc: 0.8582\n",
            "Train on 1635 samples, validate on 409 samples\n",
            "1635/1635 [==============================] - 0s 14us/sample - loss: 0.2090 - acc: 0.9327 - val_loss: 0.4248 - val_acc: 0.8557\n",
            "Train on 1635 samples, validate on 409 samples\n",
            "1635/1635 [==============================] - 0s 14us/sample - loss: 0.2131 - acc: 0.9278 - val_loss: 0.4022 - val_acc: 0.8313\n",
            "Train on 1635 samples, validate on 409 samples\n",
            "1635/1635 [==============================] - 0s 14us/sample - loss: 0.2108 - acc: 0.9284 - val_loss: 0.4219 - val_acc: 0.8509\n",
            "Train on 1635 samples, validate on 409 samples\n",
            "1635/1635 [==============================] - 0s 13us/sample - loss: 0.2081 - acc: 0.9272 - val_loss: 0.4027 - val_acc: 0.8435\n",
            "Train on 1635 samples, validate on 409 samples\n",
            "1635/1635 [==============================] - 0s 13us/sample - loss: 0.2120 - acc: 0.9291 - val_loss: 0.4009 - val_acc: 0.8484\n",
            "Train on 1635 samples, validate on 409 samples\n",
            "1635/1635 [==============================] - 0s 13us/sample - loss: 0.2162 - acc: 0.9260 - val_loss: 0.3983 - val_acc: 0.8484\n",
            "Train on 1635 samples, validate on 409 samples\n",
            "1635/1635 [==============================] - 0s 14us/sample - loss: 0.2173 - acc: 0.9229 - val_loss: 0.4637 - val_acc: 0.8582\n",
            "Train on 1635 samples, validate on 409 samples\n",
            "1635/1635 [==============================] - 0s 14us/sample - loss: 0.2218 - acc: 0.9174 - val_loss: 0.3917 - val_acc: 0.8509\n",
            "Train on 1635 samples, validate on 409 samples\n",
            "1635/1635 [==============================] - 0s 14us/sample - loss: 0.2093 - acc: 0.9309 - val_loss: 0.3972 - val_acc: 0.8484\n",
            "Train on 1635 samples, validate on 409 samples\n",
            "1635/1635 [==============================] - 0s 17us/sample - loss: 0.2067 - acc: 0.9284 - val_loss: 0.4013 - val_acc: 0.8435\n",
            "Train on 1635 samples, validate on 409 samples\n",
            "1635/1635 [==============================] - 0s 15us/sample - loss: 0.2145 - acc: 0.9278 - val_loss: 0.4436 - val_acc: 0.8509\n",
            "Train on 1635 samples, validate on 409 samples\n",
            "1635/1635 [==============================] - 0s 16us/sample - loss: 0.2158 - acc: 0.9235 - val_loss: 0.3997 - val_acc: 0.8533\n",
            "Train on 1635 samples, validate on 409 samples\n",
            "1635/1635 [==============================] - 0s 16us/sample - loss: 0.2077 - acc: 0.9278 - val_loss: 0.4039 - val_acc: 0.8533\n",
            "Train on 1635 samples, validate on 409 samples\n",
            "1635/1635 [==============================] - 0s 16us/sample - loss: 0.2051 - acc: 0.9333 - val_loss: 0.3962 - val_acc: 0.8386\n",
            "Train on 1635 samples, validate on 409 samples\n",
            "1635/1635 [==============================] - 0s 13us/sample - loss: 0.2054 - acc: 0.9315 - val_loss: 0.3975 - val_acc: 0.8435\n",
            "Train on 1635 samples, validate on 409 samples\n",
            "1635/1635 [==============================] - 0s 14us/sample - loss: 0.2048 - acc: 0.9315 - val_loss: 0.4154 - val_acc: 0.8509\n",
            "Train on 1635 samples, validate on 409 samples\n",
            "1635/1635 [==============================] - 0s 12us/sample - loss: 0.2028 - acc: 0.9315 - val_loss: 0.3966 - val_acc: 0.8386\n",
            "Train on 1635 samples, validate on 409 samples\n",
            "1635/1635 [==============================] - 0s 15us/sample - loss: 0.2061 - acc: 0.9291 - val_loss: 0.4300 - val_acc: 0.8582\n",
            "Train on 1635 samples, validate on 409 samples\n",
            "1635/1635 [==============================] - 0s 16us/sample - loss: 0.2059 - acc: 0.9272 - val_loss: 0.3950 - val_acc: 0.8435\n",
            "Train on 1635 samples, validate on 409 samples\n",
            "1635/1635 [==============================] - 0s 13us/sample - loss: 0.2105 - acc: 0.9309 - val_loss: 0.3901 - val_acc: 0.8460\n",
            "Train on 1635 samples, validate on 409 samples\n",
            "1635/1635 [==============================] - 0s 13us/sample - loss: 0.2036 - acc: 0.9346 - val_loss: 0.4075 - val_acc: 0.8484\n",
            "Train on 1635 samples, validate on 409 samples\n",
            "1635/1635 [==============================] - 0s 13us/sample - loss: 0.2006 - acc: 0.9321 - val_loss: 0.4096 - val_acc: 0.8411\n",
            "Train on 1635 samples, validate on 409 samples\n",
            "1635/1635 [==============================] - 0s 13us/sample - loss: 0.2004 - acc: 0.9339 - val_loss: 0.4174 - val_acc: 0.8386\n",
            "Train on 1635 samples, validate on 409 samples\n",
            "1635/1635 [==============================] - 0s 14us/sample - loss: 0.2022 - acc: 0.9309 - val_loss: 0.3962 - val_acc: 0.8460\n",
            "Train on 1635 samples, validate on 409 samples\n",
            "1635/1635 [==============================] - 0s 15us/sample - loss: 0.2060 - acc: 0.9321 - val_loss: 0.4070 - val_acc: 0.8435\n",
            "Train on 1635 samples, validate on 409 samples\n",
            "1635/1635 [==============================] - 0s 13us/sample - loss: 0.2029 - acc: 0.9297 - val_loss: 0.3955 - val_acc: 0.8533\n",
            "Train on 1635 samples, validate on 409 samples\n",
            "1635/1635 [==============================] - 0s 14us/sample - loss: 0.2017 - acc: 0.9309 - val_loss: 0.3929 - val_acc: 0.8460\n",
            "Train on 1635 samples, validate on 409 samples\n",
            "1635/1635 [==============================] - 0s 12us/sample - loss: 0.2054 - acc: 0.9248 - val_loss: 0.4203 - val_acc: 0.8533\n",
            "Train on 1635 samples, validate on 409 samples\n",
            "1635/1635 [==============================] - 0s 12us/sample - loss: 0.2006 - acc: 0.9346 - val_loss: 0.4026 - val_acc: 0.8533\n",
            "Train on 1635 samples, validate on 409 samples\n",
            "1635/1635 [==============================] - 0s 15us/sample - loss: 0.2021 - acc: 0.9284 - val_loss: 0.4113 - val_acc: 0.8460\n",
            "Train on 1635 samples, validate on 409 samples\n",
            "1635/1635 [==============================] - 0s 12us/sample - loss: 0.1976 - acc: 0.9346 - val_loss: 0.3987 - val_acc: 0.8460\n",
            "Train on 1635 samples, validate on 409 samples\n",
            "1635/1635 [==============================] - 0s 15us/sample - loss: 0.2017 - acc: 0.9364 - val_loss: 0.4265 - val_acc: 0.8533\n",
            "Train on 1635 samples, validate on 409 samples\n",
            "1635/1635 [==============================] - 0s 15us/sample - loss: 0.1993 - acc: 0.9339 - val_loss: 0.4064 - val_acc: 0.8362\n",
            "Train on 1635 samples, validate on 409 samples\n",
            "1635/1635 [==============================] - 0s 13us/sample - loss: 0.2070 - acc: 0.9254 - val_loss: 0.3958 - val_acc: 0.8411\n",
            "Train on 1635 samples, validate on 409 samples\n",
            "1635/1635 [==============================] - 0s 13us/sample - loss: 0.2047 - acc: 0.9333 - val_loss: 0.4507 - val_acc: 0.8606\n",
            "Train on 1635 samples, validate on 409 samples\n",
            "1635/1635 [==============================] - 0s 13us/sample - loss: 0.2120 - acc: 0.9242 - val_loss: 0.4015 - val_acc: 0.8484\n",
            "Train on 1635 samples, validate on 409 samples\n",
            "1635/1635 [==============================] - 0s 14us/sample - loss: 0.2058 - acc: 0.9321 - val_loss: 0.3893 - val_acc: 0.8337\n",
            "Train on 1635 samples, validate on 409 samples\n",
            "1635/1635 [==============================] - 0s 13us/sample - loss: 0.1998 - acc: 0.9321 - val_loss: 0.4051 - val_acc: 0.8484\n",
            "Train on 1635 samples, validate on 409 samples\n",
            "1635/1635 [==============================] - 0s 13us/sample - loss: 0.2011 - acc: 0.9327 - val_loss: 0.4065 - val_acc: 0.8411\n",
            "Train on 1635 samples, validate on 409 samples\n",
            "1635/1635 [==============================] - 0s 13us/sample - loss: 0.2003 - acc: 0.9339 - val_loss: 0.4017 - val_acc: 0.8460\n",
            "Train on 1635 samples, validate on 409 samples\n",
            "1635/1635 [==============================] - 0s 17us/sample - loss: 0.1969 - acc: 0.9339 - val_loss: 0.3928 - val_acc: 0.8460\n",
            "Train on 1635 samples, validate on 409 samples\n",
            "1635/1635 [==============================] - 0s 15us/sample - loss: 0.1976 - acc: 0.9346 - val_loss: 0.4024 - val_acc: 0.8557\n",
            "Train on 1635 samples, validate on 409 samples\n",
            "1635/1635 [==============================] - 0s 18us/sample - loss: 0.1981 - acc: 0.9339 - val_loss: 0.3993 - val_acc: 0.8533\n",
            "Train on 1635 samples, validate on 409 samples\n",
            "1635/1635 [==============================] - 0s 15us/sample - loss: 0.1964 - acc: 0.9376 - val_loss: 0.4111 - val_acc: 0.8557\n",
            "Train on 1635 samples, validate on 409 samples\n",
            "1635/1635 [==============================] - 0s 16us/sample - loss: 0.1973 - acc: 0.9309 - val_loss: 0.4143 - val_acc: 0.8582\n",
            "Train on 1635 samples, validate on 409 samples\n",
            "1635/1635 [==============================] - 0s 17us/sample - loss: 0.2006 - acc: 0.9315 - val_loss: 0.3913 - val_acc: 0.8362\n",
            "Train on 1635 samples, validate on 409 samples\n",
            "1635/1635 [==============================] - 0s 14us/sample - loss: 0.1973 - acc: 0.9339 - val_loss: 0.3968 - val_acc: 0.8509\n",
            "Train on 1635 samples, validate on 409 samples\n",
            "1635/1635 [==============================] - 0s 13us/sample - loss: 0.1926 - acc: 0.9394 - val_loss: 0.4029 - val_acc: 0.8509\n",
            "Train on 1635 samples, validate on 409 samples\n",
            "1635/1635 [==============================] - 0s 13us/sample - loss: 0.1952 - acc: 0.9370 - val_loss: 0.4051 - val_acc: 0.8582\n",
            "Train on 1635 samples, validate on 409 samples\n",
            "1635/1635 [==============================] - 0s 14us/sample - loss: 0.1958 - acc: 0.9339 - val_loss: 0.3989 - val_acc: 0.8484\n",
            "Train on 1635 samples, validate on 409 samples\n",
            "1635/1635 [==============================] - 0s 12us/sample - loss: 0.1949 - acc: 0.9352 - val_loss: 0.4378 - val_acc: 0.8631\n",
            "Train on 1635 samples, validate on 409 samples\n",
            "1635/1635 [==============================] - 0s 13us/sample - loss: 0.1971 - acc: 0.9321 - val_loss: 0.4034 - val_acc: 0.8533\n",
            "Train on 1635 samples, validate on 409 samples\n",
            "1635/1635 [==============================] - 0s 13us/sample - loss: 0.1935 - acc: 0.9346 - val_loss: 0.4048 - val_acc: 0.8509\n",
            "Train on 1635 samples, validate on 409 samples\n",
            "1635/1635 [==============================] - 0s 15us/sample - loss: 0.1916 - acc: 0.9352 - val_loss: 0.4132 - val_acc: 0.8557\n",
            "Train on 1635 samples, validate on 409 samples\n",
            "1635/1635 [==============================] - 0s 13us/sample - loss: 0.1913 - acc: 0.9376 - val_loss: 0.4065 - val_acc: 0.8509\n",
            "Train on 1635 samples, validate on 409 samples\n",
            "1635/1635 [==============================] - 0s 13us/sample - loss: 0.1944 - acc: 0.9382 - val_loss: 0.4156 - val_acc: 0.8460\n",
            "Train on 1635 samples, validate on 409 samples\n",
            "1635/1635 [==============================] - 0s 12us/sample - loss: 0.1936 - acc: 0.9358 - val_loss: 0.4190 - val_acc: 0.8582\n",
            "Train on 1635 samples, validate on 409 samples\n",
            "1635/1635 [==============================] - 0s 12us/sample - loss: 0.1953 - acc: 0.9352 - val_loss: 0.3951 - val_acc: 0.8362\n",
            "Train on 1635 samples, validate on 409 samples\n",
            "1635/1635 [==============================] - 0s 12us/sample - loss: 0.1968 - acc: 0.9358 - val_loss: 0.4114 - val_acc: 0.8484\n",
            "Train on 1635 samples, validate on 409 samples\n",
            "1635/1635 [==============================] - 0s 13us/sample - loss: 0.1919 - acc: 0.9352 - val_loss: 0.3951 - val_acc: 0.8460\n",
            "Train on 1635 samples, validate on 409 samples\n",
            "1635/1635 [==============================] - 0s 12us/sample - loss: 0.1915 - acc: 0.9346 - val_loss: 0.4323 - val_acc: 0.8582\n",
            "Train on 1635 samples, validate on 409 samples\n",
            "1635/1635 [==============================] - 0s 13us/sample - loss: 0.1918 - acc: 0.9364 - val_loss: 0.3993 - val_acc: 0.8484\n",
            "Train on 1635 samples, validate on 409 samples\n",
            "1635/1635 [==============================] - 0s 14us/sample - loss: 0.1925 - acc: 0.9382 - val_loss: 0.4026 - val_acc: 0.8533\n",
            "Train on 1635 samples, validate on 409 samples\n",
            "1635/1635 [==============================] - 0s 15us/sample - loss: 0.1946 - acc: 0.9339 - val_loss: 0.4305 - val_acc: 0.8582\n",
            "Train on 1635 samples, validate on 409 samples\n",
            "1635/1635 [==============================] - 0s 13us/sample - loss: 0.1929 - acc: 0.9401 - val_loss: 0.4154 - val_acc: 0.8484\n",
            "Train on 1635 samples, validate on 409 samples\n",
            "1635/1635 [==============================] - 0s 14us/sample - loss: 0.1882 - acc: 0.9388 - val_loss: 0.4034 - val_acc: 0.8509\n",
            "Train on 1635 samples, validate on 409 samples\n",
            "1635/1635 [==============================] - 0s 13us/sample - loss: 0.1880 - acc: 0.9407 - val_loss: 0.4130 - val_acc: 0.8509\n",
            "Train on 1635 samples, validate on 409 samples\n",
            "1635/1635 [==============================] - 0s 13us/sample - loss: 0.1913 - acc: 0.9358 - val_loss: 0.4310 - val_acc: 0.8557\n",
            "Train on 1635 samples, validate on 409 samples\n",
            "1635/1635 [==============================] - 0s 14us/sample - loss: 0.1893 - acc: 0.9376 - val_loss: 0.4085 - val_acc: 0.8509\n",
            "Train on 1635 samples, validate on 409 samples\n",
            "1635/1635 [==============================] - 0s 14us/sample - loss: 0.1861 - acc: 0.9419 - val_loss: 0.4222 - val_acc: 0.8557\n",
            "Train on 1635 samples, validate on 409 samples\n",
            "1635/1635 [==============================] - 0s 14us/sample - loss: 0.1857 - acc: 0.9437 - val_loss: 0.4051 - val_acc: 0.8582\n",
            "Train on 1635 samples, validate on 409 samples\n",
            "1635/1635 [==============================] - 0s 13us/sample - loss: 0.1866 - acc: 0.9425 - val_loss: 0.4248 - val_acc: 0.8557\n",
            "Train on 1635 samples, validate on 409 samples\n",
            "1635/1635 [==============================] - 0s 14us/sample - loss: 0.1941 - acc: 0.9358 - val_loss: 0.3940 - val_acc: 0.8411\n",
            "Train on 1635 samples, validate on 409 samples\n",
            "1635/1635 [==============================] - 0s 13us/sample - loss: 0.1934 - acc: 0.9321 - val_loss: 0.3968 - val_acc: 0.8362\n",
            "Train on 1635 samples, validate on 409 samples\n",
            "1635/1635 [==============================] - 0s 19us/sample - loss: 0.2015 - acc: 0.9346 - val_loss: 0.4197 - val_acc: 0.8655\n",
            "Train on 1635 samples, validate on 409 samples\n",
            "1635/1635 [==============================] - 0s 15us/sample - loss: 0.1904 - acc: 0.9401 - val_loss: 0.4309 - val_acc: 0.8655\n",
            "Train on 1635 samples, validate on 409 samples\n",
            "1635/1635 [==============================] - 0s 13us/sample - loss: 0.1846 - acc: 0.9413 - val_loss: 0.4026 - val_acc: 0.8582\n",
            "Train on 1635 samples, validate on 409 samples\n",
            "1635/1635 [==============================] - 0s 13us/sample - loss: 0.1914 - acc: 0.9413 - val_loss: 0.4030 - val_acc: 0.8337\n",
            "Train on 1635 samples, validate on 409 samples\n",
            "1635/1635 [==============================] - 0s 13us/sample - loss: 0.1929 - acc: 0.9382 - val_loss: 0.4272 - val_acc: 0.8680\n",
            "Train on 1635 samples, validate on 409 samples\n",
            "1635/1635 [==============================] - 0s 13us/sample - loss: 0.1878 - acc: 0.9388 - val_loss: 0.4183 - val_acc: 0.8533\n",
            "Train on 1635 samples, validate on 409 samples\n",
            "1635/1635 [==============================] - 0s 14us/sample - loss: 0.1861 - acc: 0.9394 - val_loss: 0.3967 - val_acc: 0.8582\n",
            "Train on 1635 samples, validate on 409 samples\n",
            "1635/1635 [==============================] - 0s 13us/sample - loss: 0.1857 - acc: 0.9431 - val_loss: 0.4104 - val_acc: 0.8557\n",
            "Train on 1635 samples, validate on 409 samples\n",
            "1635/1635 [==============================] - 0s 13us/sample - loss: 0.1820 - acc: 0.9474 - val_loss: 0.4388 - val_acc: 0.8631\n",
            "Train on 1635 samples, validate on 409 samples\n",
            "1635/1635 [==============================] - 0s 17us/sample - loss: 0.1892 - acc: 0.9364 - val_loss: 0.4007 - val_acc: 0.8509\n",
            "Train on 1635 samples, validate on 409 samples\n",
            "1635/1635 [==============================] - 0s 13us/sample - loss: 0.1848 - acc: 0.9425 - val_loss: 0.4217 - val_acc: 0.8631\n",
            "Train on 1635 samples, validate on 409 samples\n",
            "1635/1635 [==============================] - 0s 14us/sample - loss: 0.1840 - acc: 0.9419 - val_loss: 0.4158 - val_acc: 0.8631\n",
            "Train on 1635 samples, validate on 409 samples\n",
            "1635/1635 [==============================] - 0s 13us/sample - loss: 0.1831 - acc: 0.9413 - val_loss: 0.4141 - val_acc: 0.8582\n",
            "Train on 1635 samples, validate on 409 samples\n",
            "1635/1635 [==============================] - 0s 14us/sample - loss: 0.1848 - acc: 0.9407 - val_loss: 0.4164 - val_acc: 0.8631\n",
            "Train on 1635 samples, validate on 409 samples\n",
            "1635/1635 [==============================] - 0s 13us/sample - loss: 0.1819 - acc: 0.9394 - val_loss: 0.4125 - val_acc: 0.8582\n",
            "Train on 1635 samples, validate on 409 samples\n",
            "1635/1635 [==============================] - 0s 14us/sample - loss: 0.1827 - acc: 0.9413 - val_loss: 0.4045 - val_acc: 0.8557\n",
            "Train on 1635 samples, validate on 409 samples\n",
            "1635/1635 [==============================] - 0s 13us/sample - loss: 0.1813 - acc: 0.9431 - val_loss: 0.4195 - val_acc: 0.8606\n",
            "Train on 1635 samples, validate on 409 samples\n",
            "1635/1635 [==============================] - 0s 14us/sample - loss: 0.1806 - acc: 0.9413 - val_loss: 0.4108 - val_acc: 0.8533\n",
            "Train on 1635 samples, validate on 409 samples\n",
            "1635/1635 [==============================] - 0s 16us/sample - loss: 0.1824 - acc: 0.9431 - val_loss: 0.4267 - val_acc: 0.8655\n",
            "Train on 1635 samples, validate on 409 samples\n",
            "1635/1635 [==============================] - 0s 13us/sample - loss: 0.1809 - acc: 0.9443 - val_loss: 0.4211 - val_acc: 0.8557\n",
            "Train on 1635 samples, validate on 409 samples\n",
            "1635/1635 [==============================] - 0s 15us/sample - loss: 0.1807 - acc: 0.9401 - val_loss: 0.4065 - val_acc: 0.8509\n",
            "Train on 1635 samples, validate on 409 samples\n",
            "1635/1635 [==============================] - 0s 18us/sample - loss: 0.1830 - acc: 0.9431 - val_loss: 0.4200 - val_acc: 0.8606\n",
            "Train on 1635 samples, validate on 409 samples\n",
            "1635/1635 [==============================] - 0s 14us/sample - loss: 0.1841 - acc: 0.9401 - val_loss: 0.4208 - val_acc: 0.8631\n",
            "Train on 1635 samples, validate on 409 samples\n",
            "1635/1635 [==============================] - 0s 15us/sample - loss: 0.1821 - acc: 0.9443 - val_loss: 0.4455 - val_acc: 0.8606\n",
            "Train on 1635 samples, validate on 409 samples\n",
            "1635/1635 [==============================] - 0s 15us/sample - loss: 0.1804 - acc: 0.9419 - val_loss: 0.4228 - val_acc: 0.8533\n",
            "Train on 1635 samples, validate on 409 samples\n",
            "1635/1635 [==============================] - 0s 16us/sample - loss: 0.1818 - acc: 0.9419 - val_loss: 0.4112 - val_acc: 0.8484\n",
            "Train on 1635 samples, validate on 409 samples\n",
            "1635/1635 [==============================] - 0s 16us/sample - loss: 0.1793 - acc: 0.9413 - val_loss: 0.4224 - val_acc: 0.8533\n",
            "Train on 1635 samples, validate on 409 samples\n",
            "1635/1635 [==============================] - 0s 12us/sample - loss: 0.1805 - acc: 0.9456 - val_loss: 0.4428 - val_acc: 0.8533\n",
            "Train on 1635 samples, validate on 409 samples\n",
            "1635/1635 [==============================] - 0s 13us/sample - loss: 0.1826 - acc: 0.9431 - val_loss: 0.4244 - val_acc: 0.8533\n",
            "Train on 1635 samples, validate on 409 samples\n",
            "1635/1635 [==============================] - 0s 13us/sample - loss: 0.1836 - acc: 0.9425 - val_loss: 0.4330 - val_acc: 0.8582\n",
            "Train on 1635 samples, validate on 409 samples\n",
            "1635/1635 [==============================] - 0s 14us/sample - loss: 0.1779 - acc: 0.9462 - val_loss: 0.4060 - val_acc: 0.8509\n",
            "Train on 1635 samples, validate on 409 samples\n",
            "1635/1635 [==============================] - 0s 12us/sample - loss: 0.1795 - acc: 0.9474 - val_loss: 0.4129 - val_acc: 0.8557\n",
            "Train on 1635 samples, validate on 409 samples\n",
            "1635/1635 [==============================] - 0s 18us/sample - loss: 0.1798 - acc: 0.9468 - val_loss: 0.4153 - val_acc: 0.8680\n",
            "Train on 1635 samples, validate on 409 samples\n",
            "1635/1635 [==============================] - 0s 16us/sample - loss: 0.1802 - acc: 0.9425 - val_loss: 0.4303 - val_acc: 0.8655\n",
            "Train on 1635 samples, validate on 409 samples\n",
            "1635/1635 [==============================] - 0s 13us/sample - loss: 0.1772 - acc: 0.9468 - val_loss: 0.4008 - val_acc: 0.8460\n",
            "Train on 1635 samples, validate on 409 samples\n",
            "1635/1635 [==============================] - 0s 14us/sample - loss: 0.1911 - acc: 0.9297 - val_loss: 0.4067 - val_acc: 0.8631\n",
            "Train on 1635 samples, validate on 409 samples\n",
            "1635/1635 [==============================] - 0s 14us/sample - loss: 0.1796 - acc: 0.9425 - val_loss: 0.4535 - val_acc: 0.8606\n",
            "Train on 1635 samples, validate on 409 samples\n",
            "1635/1635 [==============================] - 0s 14us/sample - loss: 0.1841 - acc: 0.9382 - val_loss: 0.4076 - val_acc: 0.8582\n",
            "Train on 1635 samples, validate on 409 samples\n",
            "1635/1635 [==============================] - 0s 13us/sample - loss: 0.1859 - acc: 0.9388 - val_loss: 0.4007 - val_acc: 0.8484\n",
            "Train on 1635 samples, validate on 409 samples\n",
            "1635/1635 [==============================] - 0s 13us/sample - loss: 0.1906 - acc: 0.9352 - val_loss: 0.4062 - val_acc: 0.8484\n",
            "Train on 1635 samples, validate on 409 samples\n",
            "1635/1635 [==============================] - 0s 13us/sample - loss: 0.1885 - acc: 0.9370 - val_loss: 0.4205 - val_acc: 0.8557\n",
            "Train on 1635 samples, validate on 409 samples\n",
            "1635/1635 [==============================] - 0s 14us/sample - loss: 0.1803 - acc: 0.9450 - val_loss: 0.4150 - val_acc: 0.8557\n",
            "Train on 1635 samples, validate on 409 samples\n",
            "1635/1635 [==============================] - 0s 15us/sample - loss: 0.1820 - acc: 0.9437 - val_loss: 0.4115 - val_acc: 0.8557\n",
            "Train on 1635 samples, validate on 409 samples\n",
            "1635/1635 [==============================] - 0s 14us/sample - loss: 0.1802 - acc: 0.9407 - val_loss: 0.4193 - val_acc: 0.8557\n",
            "Train on 1635 samples, validate on 409 samples\n",
            "1635/1635 [==============================] - 0s 15us/sample - loss: 0.1759 - acc: 0.9431 - val_loss: 0.4196 - val_acc: 0.8582\n",
            "Train on 1635 samples, validate on 409 samples\n",
            "1635/1635 [==============================] - 0s 13us/sample - loss: 0.1754 - acc: 0.9468 - val_loss: 0.4106 - val_acc: 0.8606\n",
            "Train on 1635 samples, validate on 409 samples\n",
            "1635/1635 [==============================] - 0s 15us/sample - loss: 0.1756 - acc: 0.9456 - val_loss: 0.4148 - val_acc: 0.8582\n",
            "Train on 1635 samples, validate on 409 samples\n",
            "1635/1635 [==============================] - 0s 14us/sample - loss: 0.1748 - acc: 0.9492 - val_loss: 0.4179 - val_acc: 0.8533\n",
            "Train on 1635 samples, validate on 409 samples\n",
            "1635/1635 [==============================] - 0s 13us/sample - loss: 0.1743 - acc: 0.9462 - val_loss: 0.4103 - val_acc: 0.8582\n",
            "Train on 1635 samples, validate on 409 samples\n",
            "1635/1635 [==============================] - 0s 14us/sample - loss: 0.1747 - acc: 0.9498 - val_loss: 0.4217 - val_acc: 0.8557\n",
            "Train on 1635 samples, validate on 409 samples\n",
            "1635/1635 [==============================] - 0s 14us/sample - loss: 0.1729 - acc: 0.9498 - val_loss: 0.4414 - val_acc: 0.8606\n"
          ],
          "name": "stdout"
        }
      ]
    },
    {
      "cell_type": "code",
      "metadata": {
        "id": "vMlUZj2PArIp",
        "colab_type": "code",
        "outputId": "d310b4ae-e8b7-49e4-fc3c-67bde63a2c59",
        "colab": {
          "base_uri": "https://localhost:8080/",
          "height": 643
        }
      },
      "source": [
        "import matplotlib.pyplot as plt\n",
        "import seaborn as sns\n",
        "sns.set()\n",
        "plt.figure(num=None, figsize=(16, 8), dpi=90, facecolor='w', edgecolor='k')\n",
        "plt.plot()\n",
        "plt.plot(train_acc)\n",
        "plt.plot(val_acc)\n",
        "plt.title('model accuracy')\n",
        "plt.ylabel('accuracy')\n",
        "plt.xlabel('epoch')\n",
        "plt.legend(['Train', 'Test'], loc='upper left')\n",
        "plt.show()"
      ],
      "execution_count": 0,
      "outputs": [
        {
          "output_type": "display_data",
          "data": {
            "image/png": "[encoded data removed]",
            "text/plain": [
              "<Figure size 1440x720 with 1 Axes>"
            ]
          },
          "metadata": {
            "tags": []
          }
        }
      ]
    },
    {
      "cell_type": "code",
      "metadata": {
        "id": "eNjPrfOUAy1B",
        "colab_type": "code",
        "outputId": "a0630c05-f5a7-47fe-e733-c018fe6bfd90",
        "colab": {
          "base_uri": "https://localhost:8080/",
          "height": 34
        }
      },
      "source": [
        "y_predict = np.round(model.predict(X_test_norm))\n",
        "y_predict = [i[0] for i in y_predict.tolist()]\n",
        "sum(y_predict == y_test)/len(y_test)"
      ],
      "execution_count": 0,
      "outputs": [
        {
          "output_type": "execute_result",
          "data": {
            "text/plain": [
              "0.8359375"
            ]
          },
          "metadata": {
            "tags": []
          },
          "execution_count": 168
        }
      ]
    },
    {
      "cell_type": "markdown",
      "metadata": {
        "id": "l-RAaCi5GncD",
        "colab_type": "text"
      },
      "source": [
        "# SVM"
      ]
    },
    {
      "cell_type": "code",
      "metadata": {
        "id": "w9seTQDfA3Nx",
        "colab_type": "code",
        "outputId": "b1da5094-a02b-4093-bc75-8f210fefb19a",
        "colab": {
          "base_uri": "https://localhost:8080/",
          "height": 34
        }
      },
      "source": [
        "import numpy as np\n",
        "from sklearn import svm\n",
        "clf = svm.SVC(gamma='scale')\n",
        "clf.fit(X_train_norm,y_train)\n",
        "y_predict = clf.predict(X_val_norm)\n",
        "sum(y_predict == y_val) / len(y_val)"
      ],
      "execution_count": 0,
      "outputs": [
        {
          "output_type": "execute_result",
          "data": {
            "text/plain": [
              "0.8141809290953546"
            ]
          },
          "metadata": {
            "tags": []
          },
          "execution_count": 169
        }
      ]
    },
    {
      "cell_type": "code",
      "metadata": {
        "id": "DD6J_Cc0GMH2",
        "colab_type": "code",
        "outputId": "82fe3527-65c1-4ae1-ddea-ad9dda0fd503",
        "colab": {
          "base_uri": "https://localhost:8080/",
          "height": 34
        }
      },
      "source": [
        "from sklearn.model_selection import cross_val_score\n",
        "accuracy = cross_val_score(clf,X_train_norm,y_train,cv=10)\n",
        "accuracy.mean()"
      ],
      "execution_count": 0,
      "outputs": [
        {
          "output_type": "execute_result",
          "data": {
            "text/plain": [
              "0.8446643224100953"
            ]
          },
          "metadata": {
            "tags": []
          },
          "execution_count": 170
        }
      ]
    },
    {
      "cell_type": "markdown",
      "metadata": {
        "id": "pG3k1F57GjRJ",
        "colab_type": "text"
      },
      "source": [
        "# XGBoost"
      ]
    },
    {
      "cell_type": "code",
      "metadata": {
        "id": "apxtzT-SGb0t",
        "colab_type": "code",
        "outputId": "78912b0a-94be-4848-c476-40b0c22cf642",
        "colab": {
          "base_uri": "https://localhost:8080/",
          "height": 34
        }
      },
      "source": [
        "from xgboost import XGBClassifier\n",
        "clf = XGBClassifier(gamma=1,max_depth=8)\n",
        "accuracy = cross_val_score(clf,X_train_norm,y_train,cv=10)\n",
        "accuracy.mean()"
      ],
      "execution_count": 188,
      "outputs": [
        {
          "output_type": "execute_result",
          "data": {
            "text/plain": [
              "0.8898873685396703"
            ]
          },
          "metadata": {
            "tags": []
          },
          "execution_count": 188
        }
      ]
    },
    {
      "cell_type": "code",
      "metadata": {
        "id": "6mphqhgMGeod",
        "colab_type": "code",
        "outputId": "b81814a7-9f81-433d-97a9-2cd00ed7d442",
        "colab": {
          "base_uri": "https://localhost:8080/",
          "height": 34
        }
      },
      "source": [
        "clf.fit(X_train_norm,y_train)\n",
        "y_predict = clf.predict(X_val_norm)\n",
        "sum(y_predict == y_val) / len(y_val)"
      ],
      "execution_count": 189,
      "outputs": [
        {
          "output_type": "execute_result",
          "data": {
            "text/plain": [
              "0.882640586797066"
            ]
          },
          "metadata": {
            "tags": []
          },
          "execution_count": 189
        }
      ]
    },
    {
      "cell_type": "code",
      "metadata": {
        "id": "235q8AS_ZwLe",
        "colab_type": "code",
        "colab": {
          "base_uri": "https://localhost:8080/",
          "height": 34
        },
        "outputId": "2ce6795f-76e5-4288-b912-c8cda7054e62"
      },
      "source": [
        "df = pd.read_csv('https://raw.githubusercontent.com/plenoi/Clinic/master/Blind.csv')\n",
        "df = df.set_index('hn')\n",
        "df_clean_column = df.drop(['appearance','Wardsize','RHlvsi','depth','nodeyiel','vgmargin','pelvicme','adnmet'],axis = 1)\n",
        "df_clean = df_clean_column.dropna(axis = 0)\n",
        "y_blind = df_clean['pmmet'].values\n",
        "X_blind = df_clean.drop(['pmmet'],axis = 1).values\n",
        "X_blind_norm = scaler.transform(X_blind)\n",
        "# Normal\n",
        "y_predict = clf.predict(X_blind_norm )\n",
        "print(\"Test accuracy : \"+str(sum(y_blind  == y_predict)/len(y_blind)*100))"
      ],
      "execution_count": 190,
      "outputs": [
        {
          "output_type": "stream",
          "text": [
            "Test accuracy : 82.01438848920863\n"
          ],
          "name": "stdout"
        }
      ]
    },
    {
      "cell_type": "code",
      "metadata": {
        "id": "73w6Bgr-MFoI",
        "colab_type": "code",
        "outputId": "816c419f-9633-4e1d-ad55-286444ca689d",
        "colab": {
          "base_uri": "https://localhost:8080/",
          "height": 1000
        }
      },
      "source": [
        "from xgboost import XGBClassifier\n",
        "from sklearn.model_selection import GridSearchCV\n",
        "\n",
        "params = {'n_estimators': [10,50,100,200],\n",
        "          'max_depth':[2,4,8],\n",
        "          'gamma':[0.03125,0.0625,0.125,0.25,0.5,1,2,4,8,16,32],\n",
        "          'learning_rate':[0.001,0.01,0.1],\n",
        "          'minchildweight':[1,2,4,8,16,32]}\n",
        "clf = GridSearchCV(XGBClassifier(random_state=0, solver='liblinear'),params, cv=10)\n",
        "clf.fit(X_train_norm, y_train)\n",
        "print(\"Best params : \" + str(clf.best_params_))\n",
        "print(\"10CV accuracy : \"+str(clf.best_score_*100))"
      ],
      "execution_count": 180,
      "outputs": [
        {
          "output_type": "stream",
          "text": [
            "ERROR:root:Internal Python error in the inspect module.\n",
            "Below is the traceback from this internal error.\n",
            "\n"
          ],
          "name": "stderr"
        },
        {
          "output_type": "stream",
          "text": [
            "Traceback (most recent call last):\n",
            "  File \"/usr/local/lib/python3.6/dist-packages/IPython/core/interactiveshell.py\", line 2882, in run_code\n",
            "    exec(code_obj, self.user_global_ns, self.user_ns)\n",
            "  File \"<ipython-input-180-682705a96628>\", line 10, in <module>\n",
            "    clf.fit(X_train_norm, y_train)\n",
            "  File \"/usr/local/lib/python3.6/dist-packages/sklearn/model_selection/_search.py\", line 688, in fit\n",
            "    self._run_search(evaluate_candidates)\n",
            "  File \"/usr/local/lib/python3.6/dist-packages/sklearn/model_selection/_search.py\", line 1149, in _run_search\n",
            "    evaluate_candidates(ParameterGrid(self.param_grid))\n",
            "  File \"/usr/local/lib/python3.6/dist-packages/sklearn/model_selection/_search.py\", line 667, in evaluate_candidates\n",
            "    cv.split(X, y, groups)))\n",
            "  File \"/usr/local/lib/python3.6/dist-packages/joblib/parallel.py\", line 1006, in __call__\n",
            "    while self.dispatch_one_batch(iterator):\n",
            "  File \"/usr/local/lib/python3.6/dist-packages/joblib/parallel.py\", line 834, in dispatch_one_batch\n",
            "    self._dispatch(tasks)\n",
            "  File \"/usr/local/lib/python3.6/dist-packages/joblib/parallel.py\", line 753, in _dispatch\n",
            "    job = self._backend.apply_async(batch, callback=cb)\n",
            "  File \"/usr/local/lib/python3.6/dist-packages/joblib/_parallel_backends.py\", line 201, in apply_async\n",
            "    result = ImmediateResult(func)\n",
            "  File \"/usr/local/lib/python3.6/dist-packages/joblib/_parallel_backends.py\", line 582, in __init__\n",
            "    self.results = batch()\n",
            "  File \"/usr/local/lib/python3.6/dist-packages/joblib/parallel.py\", line 256, in __call__\n",
            "    for func, args, kwargs in self.items]\n",
            "  File \"/usr/local/lib/python3.6/dist-packages/joblib/parallel.py\", line 256, in <listcomp>\n",
            "    for func, args, kwargs in self.items]\n",
            "  File \"/usr/local/lib/python3.6/dist-packages/sklearn/model_selection/_validation.py\", line 516, in _fit_and_score\n",
            "    estimator.fit(X_train, y_train, **fit_params)\n",
            "  File \"/usr/local/lib/python3.6/dist-packages/xgboost/sklearn.py\", line 732, in fit\n",
            "    callbacks=callbacks)\n",
            "  File \"/usr/local/lib/python3.6/dist-packages/xgboost/training.py\", line 216, in train\n",
            "    xgb_model=xgb_model, callbacks=callbacks)\n",
            "  File \"/usr/local/lib/python3.6/dist-packages/xgboost/training.py\", line 74, in _train_internal\n",
            "    bst.update(dtrain, i, obj)\n",
            "  File \"/usr/local/lib/python3.6/dist-packages/xgboost/core.py\", line 1109, in update\n",
            "    dtrain.handle))\n",
            "KeyboardInterrupt\n",
            "\n",
            "During handling of the above exception, another exception occurred:\n",
            "\n",
            "Traceback (most recent call last):\n",
            "  File \"/usr/local/lib/python3.6/dist-packages/IPython/core/interactiveshell.py\", line 1823, in showtraceback\n",
            "    stb = value._render_traceback_()\n",
            "AttributeError: 'KeyboardInterrupt' object has no attribute '_render_traceback_'\n",
            "\n",
            "During handling of the above exception, another exception occurred:\n",
            "\n",
            "Traceback (most recent call last):\n",
            "  File \"/usr/local/lib/python3.6/dist-packages/IPython/core/ultratb.py\", line 1132, in get_records\n",
            "    return _fixed_getinnerframes(etb, number_of_lines_of_context, tb_offset)\n",
            "  File \"/usr/local/lib/python3.6/dist-packages/IPython/core/ultratb.py\", line 313, in wrapped\n",
            "    return f(*args, **kwargs)\n",
            "  File \"/usr/local/lib/python3.6/dist-packages/IPython/core/ultratb.py\", line 358, in _fixed_getinnerframes\n",
            "    records = fix_frame_records_filenames(inspect.getinnerframes(etb, context))\n",
            "  File \"/usr/lib/python3.6/inspect.py\", line 1490, in getinnerframes\n",
            "    frameinfo = (tb.tb_frame,) + getframeinfo(tb, context)\n",
            "  File \"/usr/lib/python3.6/inspect.py\", line 1448, in getframeinfo\n",
            "    filename = getsourcefile(frame) or getfile(frame)\n",
            "  File \"/usr/lib/python3.6/inspect.py\", line 696, in getsourcefile\n",
            "    if getattr(getmodule(object, filename), '__loader__', None) is not None:\n",
            "  File \"/usr/lib/python3.6/inspect.py\", line 733, in getmodule\n",
            "    if ismodule(module) and hasattr(module, '__file__'):\n",
            "  File \"/usr/local/lib/python3.6/dist-packages/tensorflow/__init__.py\", line 50, in __getattr__\n",
            "    from tensorflow._api.v2 import dtypes\n",
            "  File \"/usr/local/lib/python3.6/dist-packages/tensorflow/__init__.py\", line 44, in _load\n",
            "    from tensorflow._api.v2 import bitwise\n",
            "  File \"/usr/lib/python3.6/importlib/__init__.py\", line 126, in import_module\n",
            "    return _bootstrap._gcd_import(name[level:], package, level)\n",
            "  File \"<frozen importlib._bootstrap>\", line 994, in _gcd_import\n",
            "  File \"<frozen importlib._bootstrap>\", line 971, in _find_and_load\n",
            "  File \"<frozen importlib._bootstrap>\", line 953, in _find_and_load_unlocked\n",
            "ModuleNotFoundError: No module named 'tensorflow_core.keras'\n"
          ],
          "name": "stdout"
        },
        {
          "output_type": "error",
          "ename": "KeyboardInterrupt",
          "evalue": "ignored",
          "traceback": [
            "\u001b[0;31m---------------------------------------------------------------------------\u001b[0m"
          ]
        }
      ]
    },
    {
      "cell_type": "code",
      "metadata": {
        "id": "Sr77nwunJxOS",
        "colab_type": "code",
        "outputId": "8983ef2c-1964-4209-ff8b-5650092a95c8",
        "colab": {
          "base_uri": "https://localhost:8080/",
          "height": 34
        }
      },
      "source": [
        "y_predict = clf.predict(X_test_norm)\n",
        "print(\"Test accuracy : \"+str(sum(y_test == y_predict)/len(y_test)*100))"
      ],
      "execution_count": 0,
      "outputs": [
        {
          "output_type": "stream",
          "text": [
            "Test accuracy : 87.6953125\n"
          ],
          "name": "stdout"
        }
      ]
    }
  ]
}