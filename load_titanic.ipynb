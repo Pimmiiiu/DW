{
  "nbformat": 4,
  "nbformat_minor": 0,
  "metadata": {
    "colab": {
      "name": "load_titanic.ipynb",
      "provenance": [],
      "include_colab_link": true
    },
    "kernelspec": {
      "name": "python3",
      "display_name": "Python 3"
    }
  },
  "cells": [
    {
      "cell_type": "markdown",
      "metadata": {
        "id": "view-in-github",
        "colab_type": "text"
      },
      "source": [
        "<a href=\"https://colab.research.google.com/github/Pimmiiiu/DW/blob/master/load_titanic.ipynb\" target=\"_parent\"><img src=\"https://colab.research.google.com/assets/colab-badge.svg\" alt=\"Open In Colab\"/></a>"
      ]
    },
    {
      "cell_type": "markdown",
      "metadata": {
        "id": "dCIZqWgG3VMU",
        "colab_type": "text"
      },
      "source": [
        "#Load Titanic Data\n",
        "load titanic data from github\n",
        "you must use th link https://raw.githubusercontent.com/Pimmiiiu/DW/master/titanicc.csv\n",
        "pls careful about delimiter,need to make sure that delimiter is not in data"
      ]
    },
    {
      "cell_type": "code",
      "metadata": {
        "id": "hgjsAKydy3te",
        "colab_type": "code",
        "outputId": "3281b457-14d5-49f7-ff76-f36d5fabfb8f",
        "colab": {
          "base_uri": "https://localhost:8080/",
          "height": 34
        }
      },
      "source": [
        "import numpy as np\n",
        "titanics = np.genfromtxt(\"https://raw.githubusercontent.com/Pimmiiiu/DW/master/titanicc.csv\",delimiter = \";\" , dtype = str,missing_values = None)\n",
        "titanics.shape"
      ],
      "execution_count": 2,
      "outputs": [
        {
          "output_type": "execute_result",
          "data": {
            "text/plain": [
              "(1309, 12)"
            ]
          },
          "metadata": {
            "tags": []
          },
          "execution_count": 2
        }
      ]
    },
    {
      "cell_type": "code",
      "metadata": {
        "id": "cTCRPpop0PC5",
        "colab_type": "code",
        "outputId": "9bda4204-2c70-4b16-968b-7b3c0ceeb178",
        "colab": {
          "base_uri": "https://localhost:8080/",
          "height": 238
        }
      },
      "source": [
        "titanics"
      ],
      "execution_count": 3,
      "outputs": [
        {
          "output_type": "execute_result",
          "data": {
            "text/plain": [
              "array([['First', 'Allen, Miss. Elisabeth Walton', 'Female', ...,\n",
              "        'Southampton', '2', 'Yes'],\n",
              "       ['First', 'Allison, Master. Hudson Trevor', 'Male', ...,\n",
              "        'Southampton', '11', 'Yes'],\n",
              "       ['First', 'Allison, Miss. Helen Loraine', 'Female', ...,\n",
              "        'Southampton', '', 'No'],\n",
              "       ...,\n",
              "       ['Third', 'Zakarian, Mr. Mapriededer', 'Male', ..., 'Cherbourg',\n",
              "        '', 'No'],\n",
              "       ['Third', 'Zakarian, Mr. Ortin', 'Male', ..., 'Cherbourg', '',\n",
              "        'No'],\n",
              "       ['Third', 'Zimmerman, Mr. Leo', 'Male', ..., 'Southampton', '',\n",
              "        'No']], dtype='<U82')"
            ]
          },
          "metadata": {
            "tags": []
          },
          "execution_count": 3
        }
      ]
    },
    {
      "cell_type": "code",
      "metadata": {
        "id": "-Kok8IlS4T9Q",
        "colab_type": "code",
        "outputId": "00a0f31f-dc29-454c-be57-2009d60981e9",
        "colab": {
          "base_uri": "https://localhost:8080/",
          "height": 34
        }
      },
      "source": [
        "titanics = np.delete(titanics,[1,6,7,8,9,10],1)\n",
        "titanics[0,:]"
      ],
      "execution_count": 4,
      "outputs": [
        {
          "output_type": "execute_result",
          "data": {
            "text/plain": [
              "array(['First', 'Female', '29.0', '0', '0', 'Yes'], dtype='<U82')"
            ]
          },
          "metadata": {
            "tags": []
          },
          "execution_count": 4
        }
      ]
    },
    {
      "cell_type": "code",
      "metadata": {
        "id": "KIWOm3BT5zEp",
        "colab_type": "code",
        "outputId": "dd2ddcb3-bac7-4aa6-8ccc-7781e1a64d3c",
        "colab": {
          "base_uri": "https://localhost:8080/",
          "height": 34
        }
      },
      "source": [
        "rows,cols = np.where(titanics == None)\n",
        "print(str(len(np.unique(rows)))+\" \"+str(len(np.unique(cols))))"
      ],
      "execution_count": 5,
      "outputs": [
        {
          "output_type": "stream",
          "text": [
            "0 0\n"
          ],
          "name": "stdout"
        }
      ]
    },
    {
      "cell_type": "code",
      "metadata": {
        "id": "vtnJezN161j4",
        "colab_type": "code",
        "outputId": "56896f29-e59d-49ee-d70f-0e422bfa5e30",
        "colab": {
          "base_uri": "https://localhost:8080/",
          "height": 34
        }
      },
      "source": [
        "rows,cols = np.where(titanics == '')\n",
        "print(str(len(np.unique(rows)))+\" \"+str(len(np.unique(cols))))"
      ],
      "execution_count": 6,
      "outputs": [
        {
          "output_type": "stream",
          "text": [
            "263 1\n"
          ],
          "name": "stdout"
        }
      ]
    },
    {
      "cell_type": "code",
      "metadata": {
        "id": "l6cliLJa66wY",
        "colab_type": "code",
        "outputId": "42aa1d56-4f05-4a7a-8c2a-93ce22a06feb",
        "colab": {
          "base_uri": "https://localhost:8080/",
          "height": 34
        }
      },
      "source": [
        "np.unique(cols)"
      ],
      "execution_count": 7,
      "outputs": [
        {
          "output_type": "execute_result",
          "data": {
            "text/plain": [
              "array([2])"
            ]
          },
          "metadata": {
            "tags": []
          },
          "execution_count": 7
        }
      ]
    },
    {
      "cell_type": "code",
      "metadata": {
        "id": "Eu_EcsCD7CfQ",
        "colab_type": "code",
        "outputId": "619ebfb6-f500-4631-d94e-57afb20cddc1",
        "colab": {
          "base_uri": "https://localhost:8080/",
          "height": 34
        }
      },
      "source": [
        "titanics = np.delete(titanics,2,1)\n",
        "titanics[0,:]"
      ],
      "execution_count": 8,
      "outputs": [
        {
          "output_type": "execute_result",
          "data": {
            "text/plain": [
              "array(['First', 'Female', '0', '0', 'Yes'], dtype='<U82')"
            ]
          },
          "metadata": {
            "tags": []
          },
          "execution_count": 8
        }
      ]
    },
    {
      "cell_type": "code",
      "metadata": {
        "id": "x7Bl4eFC7iY4",
        "colab_type": "code",
        "colab": {}
      },
      "source": [
        ""
      ],
      "execution_count": 0,
      "outputs": []
    },
    {
      "cell_type": "code",
      "metadata": {
        "id": "WxHllzi37rv1",
        "colab_type": "code",
        "outputId": "fd6bf8cc-bd91-4f40-b518-dc927edf7c1c",
        "colab": {
          "base_uri": "https://localhost:8080/",
          "height": 34
        }
      },
      "source": [
        "passenger_class = np.unique(titanics[:,0])\n",
        "passenger_class"
      ],
      "execution_count": 9,
      "outputs": [
        {
          "output_type": "execute_result",
          "data": {
            "text/plain": [
              "array(['First', 'Second', 'Third'], dtype='<U82')"
            ]
          },
          "metadata": {
            "tags": []
          },
          "execution_count": 9
        }
      ]
    },
    {
      "cell_type": "code",
      "metadata": {
        "id": "bsSqbMKV77Pn",
        "colab_type": "code",
        "outputId": "7aecccdf-3dff-4894-c662-45c70105d50e",
        "colab": {
          "base_uri": "https://localhost:8080/",
          "height": 34
        }
      },
      "source": [
        "passenger_class_value = [sum(titanics[:,0]==passenger_class[0]),\n",
        "                         sum(titanics[:,0]==passenger_class[1]),\n",
        "                         sum(titanics[:,0]==passenger_class[2]),\n",
        "                        ]\n",
        "passenger_class_value"
      ],
      "execution_count": 10,
      "outputs": [
        {
          "output_type": "execute_result",
          "data": {
            "text/plain": [
              "[323, 277, 709]"
            ]
          },
          "metadata": {
            "tags": []
          },
          "execution_count": 10
        }
      ]
    },
    {
      "cell_type": "code",
      "metadata": {
        "id": "IJjd-0AO8TX3",
        "colab_type": "code",
        "outputId": "10df3a3f-73e6-4456-8369-2446080a953d",
        "colab": {
          "base_uri": "https://localhost:8080/",
          "height": 282
        }
      },
      "source": [
        "import matplotlib.pyplot as plt\n",
        "plt.bar(passenger_class,passenger_class_value)"
      ],
      "execution_count": 11,
      "outputs": [
        {
          "output_type": "execute_result",
          "data": {
            "text/plain": [
              "<BarContainer object of 3 artists>"
            ]
          },
          "metadata": {
            "tags": []
          },
          "execution_count": 11
        },
        {
          "output_type": "display_data",
          "data": {
            "image/png": "[encoded data removed]",
            "text/plain": [
              "<Figure size 432x288 with 1 Axes>"
            ]
          },
          "metadata": {
            "tags": []
          }
        }
      ]
    },
    {
      "cell_type": "markdown",
      "metadata": {
        "id": "tvch5P3V8qiG",
        "colab_type": "text"
      },
      "source": [
        "#EX6"
      ]
    },
    {
      "cell_type": "code",
      "metadata": {
        "id": "WJMNDHfQ8pwu",
        "colab_type": "code",
        "outputId": "d00c6348-c038-4414-d618-3a8941151c19",
        "colab": {
          "base_uri": "https://localhost:8080/",
          "height": 34
        }
      },
      "source": [
        "sex = np.unique(titanics[:,1])\n",
        "sex"
      ],
      "execution_count": 12,
      "outputs": [
        {
          "output_type": "execute_result",
          "data": {
            "text/plain": [
              "array(['Female', 'Male'], dtype='<U82')"
            ]
          },
          "metadata": {
            "tags": []
          },
          "execution_count": 12
        }
      ]
    },
    {
      "cell_type": "code",
      "metadata": {
        "id": "uJeVIorg9DQH",
        "colab_type": "code",
        "outputId": "3dae887a-39aa-42f1-dd90-41eba8ca6e91",
        "colab": {
          "base_uri": "https://localhost:8080/",
          "height": 34
        }
      },
      "source": [
        "sex_value = [sum(titanics[:,1]==sex[0]),\n",
        "             sum(titanics[:,1]==sex[1]),]\n",
        "sex_value"
      ],
      "execution_count": 13,
      "outputs": [
        {
          "output_type": "execute_result",
          "data": {
            "text/plain": [
              "[466, 843]"
            ]
          },
          "metadata": {
            "tags": []
          },
          "execution_count": 13
        }
      ]
    },
    {
      "cell_type": "code",
      "metadata": {
        "id": "LVxYfqgi90-o",
        "colab_type": "code",
        "outputId": "3dd0ccea-0d35-45f0-e4c1-3e02e07015bf",
        "colab": {
          "base_uri": "https://localhost:8080/",
          "height": 34
        }
      },
      "source": [
        "servived = np.unique(titanics[:,4])\n",
        "servived"
      ],
      "execution_count": 14,
      "outputs": [
        {
          "output_type": "execute_result",
          "data": {
            "text/plain": [
              "array(['No', 'Yes'], dtype='<U82')"
            ]
          },
          "metadata": {
            "tags": []
          },
          "execution_count": 14
        }
      ]
    },
    {
      "cell_type": "code",
      "metadata": {
        "id": "AgCfQtC8-bdF",
        "colab_type": "code",
        "outputId": "38758cfa-a56e-448b-ac1b-4e573fab3ece",
        "colab": {
          "base_uri": "https://localhost:8080/",
          "height": 34
        }
      },
      "source": [
        "servived_value = [sum(titanics[:,4]==servived[0]),\n",
        "                  sum(titanics[:,4]==servived[1]),]\n",
        "servived_value"
      ],
      "execution_count": 15,
      "outputs": [
        {
          "output_type": "execute_result",
          "data": {
            "text/plain": [
              "[809, 500]"
            ]
          },
          "metadata": {
            "tags": []
          },
          "execution_count": 15
        }
      ]
    },
    {
      "cell_type": "code",
      "metadata": {
        "id": "aNDjK-4p-sw0",
        "colab_type": "code",
        "outputId": "6b1fdbcc-c55f-4ad8-bda2-a6489d0bc44d",
        "colab": {
          "base_uri": "https://localhost:8080/",
          "height": 265
        }
      },
      "source": [
        "import matplotlib.pyplot as plt\n",
        "sex_g = plt.bar(sex,sex_value)"
      ],
      "execution_count": 16,
      "outputs": [
        {
          "output_type": "display_data",
          "data": {
            "image/png": "[encoded data removed]",
            "text/plain": [
              "<Figure size 432x288 with 1 Axes>"
            ]
          },
          "metadata": {
            "tags": []
          }
        }
      ]
    },
    {
      "cell_type": "code",
      "metadata": {
        "id": "hLryncP6_Dd8",
        "colab_type": "code",
        "outputId": "698784ae-399a-41fb-c081-7bb83b6b3176",
        "colab": {
          "base_uri": "https://localhost:8080/",
          "height": 265
        }
      },
      "source": [
        "import matplotlib.pyplot as plt\n",
        "servived_g = plt.bar(servived,servived_value)"
      ],
      "execution_count": 17,
      "outputs": [
        {
          "output_type": "display_data",
          "data": {
            "image/png": "[encoded data removed]",
            "text/plain": [
              "<Figure size 432x288 with 1 Axes>"
            ]
          },
          "metadata": {
            "tags": []
          }
        }
      ]
    },
    {
      "cell_type": "code",
      "metadata": {
        "id": "QXELZ282CC1s",
        "colab_type": "code",
        "colab": {}
      },
      "source": [
        ""
      ],
      "execution_count": 0,
      "outputs": []
    },
    {
      "cell_type": "code",
      "metadata": {
        "id": "gzBbwykc-4Rt",
        "colab_type": "code",
        "outputId": "327025dc-c038-4f18-f26c-a2278e6024dd",
        "colab": {
          "base_uri": "https://localhost:8080/",
          "height": 211
        }
      },
      "source": [
        "import matplotlib.pyplot as plt\n",
        "fig,axes = plt.subplots(1,2,figsize=(8,3))\n",
        "axes[0].bar(sex,sex_value)\n",
        "axes[1].bar(servived,servived_value)\n",
        "plt.show()\n",
        "               "
      ],
      "execution_count": 18,
      "outputs": [
        {
          "output_type": "display_data",
          "data": {
            "image/png": "[encoded data removed]",
            "text/plain": [
              "<Figure size 576x216 with 2 Axes>"
            ]
          },
          "metadata": {
            "tags": []
          }
        }
      ]
    },
    {
      "cell_type": "markdown",
      "metadata": {
        "id": "NKfe-xiGGV2X",
        "colab_type": "text"
      },
      "source": [
        "#String to Numerical & Label Encoder "
      ]
    },
    {
      "cell_type": "code",
      "metadata": {
        "id": "TiSd9-OBE4f4",
        "colab_type": "code",
        "outputId": "03a9f525-d577-497c-b4ed-793b2761a8b2",
        "colab": {
          "base_uri": "https://localhost:8080/",
          "height": 136
        }
      },
      "source": [
        "titanics[titanics == passenger_class[0]] = 0\n",
        "titanics[titanics == passenger_class[1]] = 1\n",
        "titanics[titanics == passenger_class[2]] = 2\n",
        "titanics[titanics == sex[0]] = 0\n",
        "titanics[titanics == sex[1]] = 1\n",
        "titanics[titanics == servived[0]] = 0\n",
        "titanics[titanics == servived[1]] = 1\n",
        "titanics\n"
      ],
      "execution_count": 19,
      "outputs": [
        {
          "output_type": "execute_result",
          "data": {
            "text/plain": [
              "array([['0', '0', '0', '0', '1'],\n",
              "       ['0', '1', '1', '2', '1'],\n",
              "       ['0', '0', '1', '2', '0'],\n",
              "       ...,\n",
              "       ['2', '1', '0', '0', '0'],\n",
              "       ['2', '1', '0', '0', '0'],\n",
              "       ['2', '1', '0', '0', '0']], dtype='<U82')"
            ]
          },
          "metadata": {
            "tags": []
          },
          "execution_count": 19
        }
      ]
    },
    {
      "cell_type": "code",
      "metadata": {
        "id": "fG8MSswSIxZ8",
        "colab_type": "code",
        "outputId": "92178d06-6ef2-4f04-cd1c-571c7e85d35e",
        "colab": {
          "base_uri": "https://localhost:8080/",
          "height": 34
        }
      },
      "source": [
        "titanics = titanics.astype('float')\n",
        "titanics.dtype"
      ],
      "execution_count": 20,
      "outputs": [
        {
          "output_type": "execute_result",
          "data": {
            "text/plain": [
              "dtype('float64')"
            ]
          },
          "metadata": {
            "tags": []
          },
          "execution_count": 20
        }
      ]
    },
    {
      "cell_type": "code",
      "metadata": {
        "id": "36z1P7VZJCxz",
        "colab_type": "code",
        "outputId": "cdfc6afa-0115-4621-9ccb-b5e1c464d62f",
        "colab": {
          "base_uri": "https://localhost:8080/",
          "height": 34
        }
      },
      "source": [
        "y = titanics[:,-1]\n",
        "x = np.delete(titanics,-1,1)\n",
        "x.shape"
      ],
      "execution_count": 21,
      "outputs": [
        {
          "output_type": "execute_result",
          "data": {
            "text/plain": [
              "(1309, 4)"
            ]
          },
          "metadata": {
            "tags": []
          },
          "execution_count": 21
        }
      ]
    },
    {
      "cell_type": "code",
      "metadata": {
        "id": "LmIGmGsWK7aM",
        "colab_type": "code",
        "outputId": "bbf88ec1-f5ce-45b2-e432-d850b3ad9c29",
        "colab": {
          "base_uri": "https://localhost:8080/",
          "height": 34
        }
      },
      "source": [
        "(np.min(x,1))"
      ],
      "execution_count": 22,
      "outputs": [
        {
          "output_type": "execute_result",
          "data": {
            "text/plain": [
              "array([0., 0., 0., ..., 0., 0., 0.])"
            ]
          },
          "metadata": {
            "tags": []
          },
          "execution_count": 22
        }
      ]
    },
    {
      "cell_type": "code",
      "metadata": {
        "id": "bK7XYKWwPfew",
        "colab_type": "code",
        "outputId": "5968048c-ffb6-43f9-ba6c-b3e94ad2b9be",
        "colab": {
          "base_uri": "https://localhost:8080/",
          "height": 136
        }
      },
      "source": [
        "x"
      ],
      "execution_count": 23,
      "outputs": [
        {
          "output_type": "execute_result",
          "data": {
            "text/plain": [
              "array([[0., 0., 0., 0.],\n",
              "       [0., 1., 1., 2.],\n",
              "       [0., 0., 1., 2.],\n",
              "       ...,\n",
              "       [2., 1., 0., 0.],\n",
              "       [2., 1., 0., 0.],\n",
              "       [2., 1., 0., 0.]])"
            ]
          },
          "metadata": {
            "tags": []
          },
          "execution_count": 23
        }
      ]
    },
    {
      "cell_type": "code",
      "metadata": {
        "id": "9SxI4CDbM254",
        "colab_type": "code",
        "outputId": "1cd36b93-30be-4c40-c3aa-bb42271b8024",
        "colab": {
          "base_uri": "https://localhost:8080/",
          "height": 136
        }
      },
      "source": [
        "x_norm = (x - np.min(x,0)) / (np.max(x,0) - np.min(x,0))\n",
        "x_norm "
      ],
      "execution_count": 24,
      "outputs": [
        {
          "output_type": "execute_result",
          "data": {
            "text/plain": [
              "array([[0.        , 0.        , 0.        , 0.        ],\n",
              "       [0.        , 1.        , 0.125     , 0.22222222],\n",
              "       [0.        , 0.        , 0.125     , 0.22222222],\n",
              "       ...,\n",
              "       [1.        , 1.        , 0.        , 0.        ],\n",
              "       [1.        , 1.        , 0.        , 0.        ],\n",
              "       [1.        , 1.        , 0.        , 0.        ]])"
            ]
          },
          "metadata": {
            "tags": []
          },
          "execution_count": 24
        }
      ]
    },
    {
      "cell_type": "markdown",
      "metadata": {
        "id": "wC4vupDXl1UR",
        "colab_type": "text"
      },
      "source": [
        "#EX7"
      ]
    },
    {
      "cell_type": "code",
      "metadata": {
        "id": "tZkDVKtUOnkA",
        "colab_type": "code",
        "outputId": "f02f63e9-7a42-4949-c202-e7ae341c8875",
        "colab": {
          "base_uri": "https://localhost:8080/",
          "height": 136
        }
      },
      "source": [
        "x_norm = (x - x.min(0)) / (x.max(0) - x.min(0))\n",
        "x_norm "
      ],
      "execution_count": 27,
      "outputs": [
        {
          "output_type": "execute_result",
          "data": {
            "text/plain": [
              "array([[0.        , 0.        , 0.        , 0.        ],\n",
              "       [0.        , 1.        , 0.125     , 0.22222222],\n",
              "       [0.        , 0.        , 0.125     , 0.22222222],\n",
              "       ...,\n",
              "       [1.        , 1.        , 0.        , 0.        ],\n",
              "       [1.        , 1.        , 0.        , 0.        ],\n",
              "       [1.        , 1.        , 0.        , 0.        ]])"
            ]
          },
          "metadata": {
            "tags": []
          },
          "execution_count": 27
        }
      ]
    },
    {
      "cell_type": "markdown",
      "metadata": {
        "id": "1C4M5NOLmV0f",
        "colab_type": "text"
      },
      "source": [
        "#EX8\n"
      ]
    },
    {
      "cell_type": "code",
      "metadata": {
        "id": "Wmkvb96Jom-8",
        "colab_type": "code",
        "colab": {
          "base_uri": "https://localhost:8080/",
          "height": 34
        },
        "outputId": "f92268d6-91a3-4a3f-befb-f38cd12f83ee"
      },
      "source": [
        "y = titanics[:,-1]\n",
        "x = titanics[:,0:4]\n",
        "import numpy as np\n",
        "train_index = np.random.rand(len(y)) > 0.3\n",
        "sum(train_index)"
      ],
      "execution_count": 29,
      "outputs": [
        {
          "output_type": "execute_result",
          "data": {
            "text/plain": [
              "901"
            ]
          },
          "metadata": {
            "tags": []
          },
          "execution_count": 29
        }
      ]
    },
    {
      "cell_type": "code",
      "metadata": {
        "id": "1iRkLyQnTg79",
        "colab_type": "code",
        "colab": {
          "base_uri": "https://localhost:8080/",
          "height": 34
        },
        "outputId": "4e88686f-ca46-45b6-ae60-9d8ccd37f41c"
      },
      "source": [
        "test_index = train_index == False\n",
        "sum(test_index)"
      ],
      "execution_count": 30,
      "outputs": [
        {
          "output_type": "execute_result",
          "data": {
            "text/plain": [
              "408"
            ]
          },
          "metadata": {
            "tags": []
          },
          "execution_count": 30
        }
      ]
    },
    {
      "cell_type": "code",
      "metadata": {
        "id": "EU0BSI1QP75W",
        "colab_type": "code",
        "outputId": "472959dc-29de-42d0-d80c-bf6d83bb161c",
        "colab": {
          "base_uri": "https://localhost:8080/",
          "height": 34
        }
      },
      "source": [
        "x_train = x[train_index]\n",
        "y_train = y[train_index]\n",
        "x_test = x[test_index]\n",
        "y_test = y[test_index]\n",
        "print(\"Number of Class 0 =\"+str(len(y) - sum(y))+\" and class 1 = \"+ str(sum(y)))"
      ],
      "execution_count": 31,
      "outputs": [
        {
          "output_type": "stream",
          "text": [
            "Number of Class 0 =809.0 and class 1 = 500.0\n"
          ],
          "name": "stdout"
        }
      ]
    }
  ]
}