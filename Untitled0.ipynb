{
  "nbformat": 4,
  "nbformat_minor": 0,
  "metadata": {
    "colab": {
      "name": "Untitled0.ipynb",
      "provenance": [],
      "include_colab_link": true
    },
    "kernelspec": {
      "name": "python3",
      "display_name": "Python 3"
    }
  },
  "cells": [
    {
      "cell_type": "markdown",
      "metadata": {
        "id": "view-in-github",
        "colab_type": "text"
      },
      "source": [
        "<a href=\"https://colab.research.google.com/github/Pimmiiiu/DW/blob/master/Untitled0.ipynb\" target=\"_parent\"><img src=\"https://colab.research.google.com/assets/colab-badge.svg\" alt=\"Open In Colab\"/></a>"
      ]
    },
    {
      "cell_type": "code",
      "metadata": {
        "id": "71fDNGI-9aUm",
        "colab_type": "code",
        "colab": {}
      },
      "source": [
        "import pandas as pd\n",
        "import numpy as np"
      ],
      "execution_count": 0,
      "outputs": []
    },
    {
      "cell_type": "code",
      "metadata": {
        "id": "On0yIH5V9dQ3",
        "colab_type": "code",
        "colab": {
          "base_uri": "https://localhost:8080/",
          "height": 227
        },
        "outputId": "9563b232-3c69-4624-c704-495852ece489"
      },
      "source": [
        "df = pd.read_csv('https://raw.githubusercontent.com/plenoi/Clinic/master/ultima_all_clean.csv')\n",
        "df = df.set_index('hn')\n",
        "df.head()"
      ],
      "execution_count": 2,
      "outputs": [
        {
          "output_type": "execute_result",
          "data": {
            "text/html": [
              "<div>\n",
              "<style scoped>\n",
              "    .dataframe tbody tr th:only-of-type {\n",
              "        vertical-align: middle;\n",
              "    }\n",
              "\n",
              "    .dataframe tbody tr th {\n",
              "        vertical-align: top;\n",
              "    }\n",
              "\n",
              "    .dataframe thead th {\n",
              "        text-align: right;\n",
              "    }\n",
              "</style>\n",
              "<table border=\"1\" class=\"dataframe\">\n",
              "  <thead>\n",
              "    <tr style=\"text-align: right;\">\n",
              "      <th></th>\n",
              "      <th>age</th>\n",
              "      <th>parity</th>\n",
              "      <th>hiv</th>\n",
              "      <th>menopaus</th>\n",
              "      <th>disease</th>\n",
              "      <th>surgery</th>\n",
              "      <th>conization</th>\n",
              "      <th>OPDsize</th>\n",
              "      <th>appearance</th>\n",
              "      <th>stage</th>\n",
              "      <th>pchemo</th>\n",
              "      <th>Wardsize</th>\n",
              "      <th>finalhisto</th>\n",
              "      <th>nodeyiel</th>\n",
              "      <th>RHlvsi</th>\n",
              "      <th>depth</th>\n",
              "      <th>size</th>\n",
              "      <th>utmet</th>\n",
              "      <th>vgmargin</th>\n",
              "      <th>vgmet</th>\n",
              "      <th>pelvicme</th>\n",
              "      <th>pmmet</th>\n",
              "      <th>adnmet</th>\n",
              "    </tr>\n",
              "    <tr>\n",
              "      <th>hn</th>\n",
              "      <th></th>\n",
              "      <th></th>\n",
              "      <th></th>\n",
              "      <th></th>\n",
              "      <th></th>\n",
              "      <th></th>\n",
              "      <th></th>\n",
              "      <th></th>\n",
              "      <th></th>\n",
              "      <th></th>\n",
              "      <th></th>\n",
              "      <th></th>\n",
              "      <th></th>\n",
              "      <th></th>\n",
              "      <th></th>\n",
              "      <th></th>\n",
              "      <th></th>\n",
              "      <th></th>\n",
              "      <th></th>\n",
              "      <th></th>\n",
              "      <th></th>\n",
              "      <th></th>\n",
              "      <th></th>\n",
              "    </tr>\n",
              "  </thead>\n",
              "  <tbody>\n",
              "    <tr>\n",
              "      <th>2631840</th>\n",
              "      <td>52</td>\n",
              "      <td>3</td>\n",
              "      <td>0.0</td>\n",
              "      <td>0.0</td>\n",
              "      <td>1</td>\n",
              "      <td>1</td>\n",
              "      <td>0.0</td>\n",
              "      <td>5.0</td>\n",
              "      <td>4.0</td>\n",
              "      <td>5.0</td>\n",
              "      <td>0.0</td>\n",
              "      <td>5.0</td>\n",
              "      <td>3.0</td>\n",
              "      <td>21.0</td>\n",
              "      <td>0.0</td>\n",
              "      <td>3.0</td>\n",
              "      <td>6.0</td>\n",
              "      <td>0.0</td>\n",
              "      <td>0.0</td>\n",
              "      <td>0.0</td>\n",
              "      <td>0.0</td>\n",
              "      <td>0.0</td>\n",
              "      <td>0.0</td>\n",
              "    </tr>\n",
              "    <tr>\n",
              "      <th>2633481</th>\n",
              "      <td>32</td>\n",
              "      <td>2</td>\n",
              "      <td>0.0</td>\n",
              "      <td>0.0</td>\n",
              "      <td>0</td>\n",
              "      <td>1</td>\n",
              "      <td>0.0</td>\n",
              "      <td>5.0</td>\n",
              "      <td>1.0</td>\n",
              "      <td>5.0</td>\n",
              "      <td>0.0</td>\n",
              "      <td>5.0</td>\n",
              "      <td>1.0</td>\n",
              "      <td>11.0</td>\n",
              "      <td>0.0</td>\n",
              "      <td>3.0</td>\n",
              "      <td>5.0</td>\n",
              "      <td>0.0</td>\n",
              "      <td>0.0</td>\n",
              "      <td>0.0</td>\n",
              "      <td>1.0</td>\n",
              "      <td>0.0</td>\n",
              "      <td>2.0</td>\n",
              "    </tr>\n",
              "    <tr>\n",
              "      <th>2634477</th>\n",
              "      <td>52</td>\n",
              "      <td>2</td>\n",
              "      <td>0.0</td>\n",
              "      <td>0.0</td>\n",
              "      <td>0</td>\n",
              "      <td>0</td>\n",
              "      <td>0.0</td>\n",
              "      <td>5.0</td>\n",
              "      <td>NaN</td>\n",
              "      <td>5.0</td>\n",
              "      <td>0.0</td>\n",
              "      <td>5.0</td>\n",
              "      <td>4.0</td>\n",
              "      <td>35.0</td>\n",
              "      <td>6.0</td>\n",
              "      <td>3.0</td>\n",
              "      <td>4.0</td>\n",
              "      <td>0.0</td>\n",
              "      <td>0.0</td>\n",
              "      <td>0.0</td>\n",
              "      <td>0.0</td>\n",
              "      <td>0.0</td>\n",
              "      <td>0.0</td>\n",
              "    </tr>\n",
              "    <tr>\n",
              "      <th>2633633</th>\n",
              "      <td>38</td>\n",
              "      <td>2</td>\n",
              "      <td>0.0</td>\n",
              "      <td>0.0</td>\n",
              "      <td>0</td>\n",
              "      <td>0</td>\n",
              "      <td>0.0</td>\n",
              "      <td>2.0</td>\n",
              "      <td>1.0</td>\n",
              "      <td>4.0</td>\n",
              "      <td>0.0</td>\n",
              "      <td>3.0</td>\n",
              "      <td>3.0</td>\n",
              "      <td>20.0</td>\n",
              "      <td>16.0</td>\n",
              "      <td>3.0</td>\n",
              "      <td>3.8</td>\n",
              "      <td>0.0</td>\n",
              "      <td>0.0</td>\n",
              "      <td>0.0</td>\n",
              "      <td>0.0</td>\n",
              "      <td>0.0</td>\n",
              "      <td>2.0</td>\n",
              "    </tr>\n",
              "    <tr>\n",
              "      <th>2630496</th>\n",
              "      <td>55</td>\n",
              "      <td>3</td>\n",
              "      <td>0.0</td>\n",
              "      <td>1.0</td>\n",
              "      <td>0</td>\n",
              "      <td>0</td>\n",
              "      <td>1.0</td>\n",
              "      <td>0.0</td>\n",
              "      <td>5.0</td>\n",
              "      <td>4.0</td>\n",
              "      <td>0.0</td>\n",
              "      <td>0.0</td>\n",
              "      <td>1.0</td>\n",
              "      <td>17.0</td>\n",
              "      <td>9.0</td>\n",
              "      <td>3.0</td>\n",
              "      <td>0.0</td>\n",
              "      <td>0.0</td>\n",
              "      <td>0.0</td>\n",
              "      <td>0.0</td>\n",
              "      <td>1.0</td>\n",
              "      <td>0.0</td>\n",
              "      <td>0.0</td>\n",
              "    </tr>\n",
              "  </tbody>\n",
              "</table>\n",
              "</div>"
            ],
            "text/plain": [
              "         age  parity  hiv  menopaus  ...  vgmet  pelvicme  pmmet  adnmet\n",
              "hn                                   ...                                \n",
              "2631840   52       3  0.0       0.0  ...    0.0       0.0    0.0     0.0\n",
              "2633481   32       2  0.0       0.0  ...    0.0       1.0    0.0     2.0\n",
              "2634477   52       2  0.0       0.0  ...    0.0       0.0    0.0     0.0\n",
              "2633633   38       2  0.0       0.0  ...    0.0       0.0    0.0     2.0\n",
              "2630496   55       3  0.0       1.0  ...    0.0       1.0    0.0     0.0\n",
              "\n",
              "[5 rows x 23 columns]"
            ]
          },
          "metadata": {
            "tags": []
          },
          "execution_count": 2
        }
      ]
    },
    {
      "cell_type": "markdown",
      "metadata": {
        "id": "UHkkzmCi9jDt",
        "colab_type": "text"
      },
      "source": [
        "# 2. Data Pre-Processing"
      ]
    },
    {
      "cell_type": "markdown",
      "metadata": {
        "id": "Km01v9-t9jNF",
        "colab_type": "text"
      },
      "source": [
        "Remove Missing Value and Unnecessary Column"
      ]
    },
    {
      "cell_type": "code",
      "metadata": {
        "id": "nz90fTNK9rox",
        "colab_type": "code",
        "colab": {
          "base_uri": "https://localhost:8080/",
          "height": 443
        },
        "outputId": "e8c04d00-0ee1-4835-8ddc-221e7fb70788"
      },
      "source": [
        "df.isnull().sum(axis=0)"
      ],
      "execution_count": 5,
      "outputs": [
        {
          "output_type": "execute_result",
          "data": {
            "text/plain": [
              "age             0\n",
              "parity          0\n",
              "hiv             4\n",
              "menopaus        1\n",
              "disease         0\n",
              "surgery         0\n",
              "conization      5\n",
              "OPDsize        17\n",
              "appearance    101\n",
              "stage          24\n",
              "pchemo          1\n",
              "Wardsize      145\n",
              "finalhisto     10\n",
              "nodeyiel       12\n",
              "RHlvsi        366\n",
              "depth         489\n",
              "size          114\n",
              "utmet          98\n",
              "vgmargin       96\n",
              "vgmet          97\n",
              "pelvicme        1\n",
              "pmmet          94\n",
              "adnmet          7\n",
              "dtype: int64"
            ]
          },
          "metadata": {
            "tags": []
          },
          "execution_count": 5
        }
      ]
    },
    {
      "cell_type": "code",
      "metadata": {
        "id": "Z_6SlITa9sLs",
        "colab_type": "code",
        "colab": {}
      },
      "source": [
        "df_clean_column = df.drop(['appearance','Wardsize','RHlvsi','depth','nodeyiel','vgmargin','pelvicme','adnmet'],axis = 1)"
      ],
      "execution_count": 0,
      "outputs": []
    },
    {
      "cell_type": "markdown",
      "metadata": {
        "id": "v06zveXY9wiZ",
        "colab_type": "text"
      },
      "source": [
        "Remove Row with Missing Value"
      ]
    },
    {
      "cell_type": "code",
      "metadata": {
        "id": "yDeKGaIx9u5c",
        "colab_type": "code",
        "colab": {}
      },
      "source": [
        "df_clean = df_clean_column.dropna(axis = 0)"
      ],
      "execution_count": 0,
      "outputs": []
    },
    {
      "cell_type": "markdown",
      "metadata": {
        "id": "7k5Hm4ur92UV",
        "colab_type": "text"
      },
      "source": [
        "Check Total Final Data"
      ]
    },
    {
      "cell_type": "code",
      "metadata": {
        "id": "QFpihT_x914d",
        "colab_type": "code",
        "colab": {
          "base_uri": "https://localhost:8080/",
          "height": 34
        },
        "outputId": "69a5c05e-9e76-4666-fe3e-8e2ff4ec4fc4"
      },
      "source": [
        "df_clean.shape"
      ],
      "execution_count": 8,
      "outputs": [
        {
          "output_type": "execute_result",
          "data": {
            "text/plain": [
              "(1555, 15)"
            ]
          },
          "metadata": {
            "tags": []
          },
          "execution_count": 8
        }
      ]
    },
    {
      "cell_type": "markdown",
      "metadata": {
        "id": "UyBvSSts98dM",
        "colab_type": "text"
      },
      "source": [
        "Define Class"
      ]
    },
    {
      "cell_type": "code",
      "metadata": {
        "id": "-NsO0Iwj948c",
        "colab_type": "code",
        "colab": {}
      },
      "source": [
        "y = df_clean['pmmet'].values\n",
        "X = df_clean.drop(['pmmet'],axis = 1).values"
      ],
      "execution_count": 0,
      "outputs": []
    },
    {
      "cell_type": "markdown",
      "metadata": {
        "id": "UjX4aza2-BV8",
        "colab_type": "text"
      },
      "source": [
        "Check number of sample for each Class"
      ]
    },
    {
      "cell_type": "code",
      "metadata": {
        "id": "j83-_hx19-tk",
        "colab_type": "code",
        "colab": {
          "base_uri": "https://localhost:8080/",
          "height": 34
        },
        "outputId": "f496a010-35d6-47b1-c0e8-4d30a7ab2dfa"
      },
      "source": [
        "allclass = np.unique(y)\n",
        "allclassnumber = [sum(y==eachclass) for eachclass in allclass]\n",
        "allclassnumber"
      ],
      "execution_count": 10,
      "outputs": [
        {
          "output_type": "execute_result",
          "data": {
            "text/plain": [
              "[1278, 277]"
            ]
          },
          "metadata": {
            "tags": []
          },
          "execution_count": 10
        }
      ]
    },
    {
      "cell_type": "code",
      "metadata": {
        "id": "uKvlKqjN-E6E",
        "colab_type": "code",
        "colab": {
          "base_uri": "https://localhost:8080/",
          "height": 90
        },
        "outputId": "9cc71821-8c7f-4fc6-de98-36d637145757"
      },
      "source": [
        "from imblearn.over_sampling import SMOTE\n",
        "sm = SMOTE(random_state=1)\n",
        "X_res, y_res = sm.fit_resample(X, y)\n",
        "\n",
        "allclass = np.unique(y_res)\n",
        "allclassnumber = [sum(y_res==eachclass) for eachclass in allclass]\n",
        "allclassnumber"
      ],
      "execution_count": 11,
      "outputs": [
        {
          "output_type": "stream",
          "text": [
            "/usr/local/lib/python3.6/dist-packages/sklearn/externals/six.py:31: DeprecationWarning: The module is deprecated in version 0.21 and will be removed in version 0.23 since we've dropped support for Python 2.7. Please rely on the official version of six (https://pypi.org/project/six/).\n",
            "  \"(https://pypi.org/project/six/).\", DeprecationWarning)\n"
          ],
          "name": "stderr"
        },
        {
          "output_type": "execute_result",
          "data": {
            "text/plain": [
              "[1278, 1278]"
            ]
          },
          "metadata": {
            "tags": []
          },
          "execution_count": 11
        }
      ]
    },
    {
      "cell_type": "code",
      "metadata": {
        "id": "03GRatE1-HcM",
        "colab_type": "code",
        "colab": {}
      },
      "source": [
        "from sklearn.model_selection import train_test_split\n",
        "X_train, X_test, y_train, y_test = train_test_split(X_res, y_res, test_size=0.2, random_state=1)"
      ],
      "execution_count": 0,
      "outputs": []
    },
    {
      "cell_type": "code",
      "metadata": {
        "id": "HT4Tz0v1-JwV",
        "colab_type": "code",
        "colab": {}
      },
      "source": [
        "X_train, X_val, y_train, y_val = train_test_split(X_train, y_train, test_size=0.2, random_state=1)"
      ],
      "execution_count": 0,
      "outputs": []
    },
    {
      "cell_type": "code",
      "metadata": {
        "id": "x0nnBCdp-LTc",
        "colab_type": "code",
        "colab": {}
      },
      "source": [
        "from sklearn.preprocessing import MinMaxScaler\n",
        "scaler = MinMaxScaler(feature_range=(0, 1))\n",
        "scaler.fit(X_train)\n",
        "X_train_norm =  scaler.transform(X_train)\n",
        "X_val_norm = scaler.transform(X_val)\n",
        "X_test_norm = scaler.transform(X_test)"
      ],
      "execution_count": 0,
      "outputs": []
    },
    {
      "cell_type": "markdown",
      "metadata": {
        "id": "N8MtlV1k-PRE",
        "colab_type": "text"
      },
      "source": [
        "# 3. Choose Model"
      ]
    },
    {
      "cell_type": "code",
      "metadata": {
        "id": "CNuz7vtf_sCU",
        "colab_type": "code",
        "colab": {
          "base_uri": "https://localhost:8080/",
          "height": 52
        },
        "outputId": "bb2628d9-cdc2-48bf-c94b-6c482e24ff55"
      },
      "source": [
        "from sklearn.linear_model import LogisticRegression\n",
        "from sklearn.model_selection import GridSearchCV\n",
        "\n",
        "params = {'C': [1, 2, 4, 8, 16]}\n",
        "clf = GridSearchCV(LogisticRegression(random_state=0, solver='liblinear'),params, cv=10)\n",
        "clf.fit(X_train_norm, y_train)\n",
        "print(\"Best params : \" + str(clf.best_params_))\n",
        "print(\"10CV accuracy : \"+str(clf.best_score_*100))"
      ],
      "execution_count": 17,
      "outputs": [
        {
          "output_type": "stream",
          "text": [
            "Best params : {'C': 4}\n",
            "10CV accuracy : 78.47094801223241\n"
          ],
          "name": "stdout"
        }
      ]
    },
    {
      "cell_type": "code",
      "metadata": {
        "id": "7ZLdJCgu_ukC",
        "colab_type": "code",
        "colab": {
          "base_uri": "https://localhost:8080/",
          "height": 34
        },
        "outputId": "c854a8b2-d005-4655-90e9-61d74b1dc5b6"
      },
      "source": [
        "y_predict = clf.predict(X_test_norm)\n",
        "print(\"Test accuracy : \"+str(sum(y_test == y_predict)/len(y_test)*100))"
      ],
      "execution_count": 18,
      "outputs": [
        {
          "output_type": "stream",
          "text": [
            "Test accuracy : 73.6328125\n"
          ],
          "name": "stdout"
        }
      ]
    },
    {
      "cell_type": "code",
      "metadata": {
        "id": "FGmrz1fY_w6i",
        "colab_type": "code",
        "colab": {
          "base_uri": "https://localhost:8080/",
          "height": 287
        },
        "outputId": "a63bd074-e11e-4a98-d798-4567de0335b4"
      },
      "source": [
        "#!pip install matplotlib==3.1.0\n",
        "from sklearn.metrics import confusion_matrix\n",
        "import matplotlib.pyplot as plt\n",
        "import seaborn as sns\n",
        "target_names = ['negative', 'positive']\n",
        "C = confusion_matrix(y_test,y_predict) \n",
        "C = C / C.astype(np.float).sum(axis=1)*100\n",
        "sns.heatmap(C,annot=True, fmt=\".2f\",cmap=\"GnBu\",xticklabels=target_names, yticklabels=target_names)\n",
        "plt.ylabel(\"True Label\")\n",
        "plt.xlabel(\"Predicted Label\")\n",
        "plt.show()"
      ],
      "execution_count": 24,
      "outputs": [
        {
          "output_type": "display_data",
          "data": {
            "image/png": "[encoded data removed]",
            "text/plain": [
              "<Figure size 432x288 with 2 Axes>"
            ]
          },
          "metadata": {
            "tags": []
          }
        }
      ]
    },
    {
      "cell_type": "code",
      "metadata": {
        "id": "lsOi3pZk__rK",
        "colab_type": "code",
        "colab": {}
      },
      "source": [
        "#!pip install tensorflow==2.0.0-beta1\n",
        "import tensorflow as tf"
      ],
      "execution_count": 0,
      "outputs": []
    },
    {
      "cell_type": "code",
      "metadata": {
        "id": "kebCd075ANn2",
        "colab_type": "code",
        "colab": {
          "base_uri": "https://localhost:8080/",
          "height": 410
        },
        "outputId": "9ed4efe7-7dc1-4177-9405-6f5a5968b612"
      },
      "source": [
        "tf.reset_default_graph() # Clear Model\n",
        "np.random.seed(1) # Fix Randomness\n",
        "tf.random.set_random_seed(1) # Fix Randomness\n",
        "model = tf.keras.models.Sequential([\n",
        "  tf.keras.layers.Dense(16, activation='relu', input_shape=(14,)),\n",
        "  tf.keras.layers.Dense(8, activation='relu'),\n",
        "  tf.keras.layers.Dense(4, activation='relu'),\n",
        "  tf.keras.layers.Dense(2, activation='relu'),\n",
        "  tf.keras.layers.Dense(1, activation='sigmoid')    \n",
        "])\n",
        "model.summary()"
      ],
      "execution_count": 26,
      "outputs": [
        {
          "output_type": "stream",
          "text": [
            "WARNING:tensorflow:From /usr/local/lib/python3.6/dist-packages/tensorflow_core/python/ops/resource_variable_ops.py:1630: calling BaseResourceVariable.__init__ (from tensorflow.python.ops.resource_variable_ops) with constraint is deprecated and will be removed in a future version.\n",
            "Instructions for updating:\n",
            "If using Keras pass *_constraint arguments to layers.\n",
            "Model: \"sequential\"\n",
            "_________________________________________________________________\n",
            "Layer (type)                 Output Shape              Param #   \n",
            "=================================================================\n",
            "dense (Dense)                (None, 16)                240       \n",
            "_________________________________________________________________\n",
            "dense_1 (Dense)              (None, 8)                 136       \n",
            "_________________________________________________________________\n",
            "dense_2 (Dense)              (None, 4)                 36        \n",
            "_________________________________________________________________\n",
            "dense_3 (Dense)              (None, 2)                 10        \n",
            "_________________________________________________________________\n",
            "dense_4 (Dense)              (None, 1)                 3         \n",
            "=================================================================\n",
            "Total params: 425\n",
            "Trainable params: 425\n",
            "Non-trainable params: 0\n",
            "_________________________________________________________________\n"
          ],
          "name": "stdout"
        }
      ]
    },
    {
      "cell_type": "code",
      "metadata": {
        "id": "glmWAt8HAmip",
        "colab_type": "code",
        "colab": {
          "base_uri": "https://localhost:8080/",
          "height": 70
        },
        "outputId": "3a7c95cc-9c8a-4c7c-d7a7-e7e29ef92785"
      },
      "source": [
        "model.compile(optimizer='adam', loss='binary_crossentropy', metrics=['accuracy'])"
      ],
      "execution_count": 27,
      "outputs": [
        {
          "output_type": "stream",
          "text": [
            "WARNING:tensorflow:From /usr/local/lib/python3.6/dist-packages/tensorflow_core/python/ops/nn_impl.py:183: where (from tensorflow.python.ops.array_ops) is deprecated and will be removed in a future version.\n",
            "Instructions for updating:\n",
            "Use tf.where in 2.0, which has the same broadcast rule as np.where\n"
          ],
          "name": "stdout"
        }
      ]
    },
    {
      "cell_type": "code",
      "metadata": {
        "id": "htnvy9KrAqxB",
        "colab_type": "code",
        "colab": {
          "base_uri": "https://localhost:8080/",
          "height": 1000
        },
        "outputId": "0bb5a400-f370-46e0-dd2a-1ffe0d4b1ab2"
      },
      "source": [
        "train_acc = list()\n",
        "val_acc = list()\n",
        "for i in range(0,300):\n",
        "  history = model.fit(X_train_norm, y_train, epochs= 1, batch_size = 200, validation_data= (X_val_norm, y_val))\n",
        "  tmp_avg = np.mean(history.history['acc'])\n",
        "  tmp_avg_val = np.mean(history.history['val_acc'])\n",
        "  train_acc.append(tmp_avg)\n",
        "  val_acc.append(tmp_avg_val)"
      ],
      "execution_count": 43,
      "outputs": [
        {
          "output_type": "stream",
          "text": [
            "Train on 1635 samples, validate on 409 samples\n",
            "1635/1635 [==============================] - 0s 16us/sample - loss: 0.1520 - acc: 0.9517 - val_loss: 0.8005 - val_acc: 0.8044\n",
            "Train on 1635 samples, validate on 409 samples\n",
            "1635/1635 [==============================] - 0s 15us/sample - loss: 0.1564 - acc: 0.9492 - val_loss: 0.7637 - val_acc: 0.8093\n",
            "Train on 1635 samples, validate on 409 samples\n",
            "1635/1635 [==============================] - 0s 16us/sample - loss: 0.1524 - acc: 0.9480 - val_loss: 0.7550 - val_acc: 0.8044\n",
            "Train on 1635 samples, validate on 409 samples\n",
            "1635/1635 [==============================] - 0s 14us/sample - loss: 0.1524 - acc: 0.9511 - val_loss: 0.7952 - val_acc: 0.8093\n",
            "Train on 1635 samples, validate on 409 samples\n",
            "1635/1635 [==============================] - 0s 15us/sample - loss: 0.1539 - acc: 0.9468 - val_loss: 0.7227 - val_acc: 0.8044\n",
            "Train on 1635 samples, validate on 409 samples\n",
            "1635/1635 [==============================] - 0s 15us/sample - loss: 0.1598 - acc: 0.9462 - val_loss: 0.7128 - val_acc: 0.8215\n",
            "Train on 1635 samples, validate on 409 samples\n",
            "1635/1635 [==============================] - 0s 15us/sample - loss: 0.1664 - acc: 0.9419 - val_loss: 0.7855 - val_acc: 0.8117\n",
            "Train on 1635 samples, validate on 409 samples\n",
            "1635/1635 [==============================] - 0s 15us/sample - loss: 0.1683 - acc: 0.9394 - val_loss: 0.8777 - val_acc: 0.8166\n",
            "Train on 1635 samples, validate on 409 samples\n",
            "1635/1635 [==============================] - 0s 16us/sample - loss: 0.1817 - acc: 0.9346 - val_loss: 0.7101 - val_acc: 0.8068\n",
            "Train on 1635 samples, validate on 409 samples\n",
            "1635/1635 [==============================] - 0s 20us/sample - loss: 0.1682 - acc: 0.9382 - val_loss: 0.7066 - val_acc: 0.8093\n",
            "Train on 1635 samples, validate on 409 samples\n",
            "1635/1635 [==============================] - 0s 18us/sample - loss: 0.1691 - acc: 0.9401 - val_loss: 0.8536 - val_acc: 0.8166\n",
            "Train on 1635 samples, validate on 409 samples\n",
            "1635/1635 [==============================] - 0s 17us/sample - loss: 0.1648 - acc: 0.9456 - val_loss: 0.7013 - val_acc: 0.8166\n",
            "Train on 1635 samples, validate on 409 samples\n",
            "1635/1635 [==============================] - 0s 16us/sample - loss: 0.1582 - acc: 0.9431 - val_loss: 0.8414 - val_acc: 0.8191\n",
            "Train on 1635 samples, validate on 409 samples\n",
            "1635/1635 [==============================] - 0s 15us/sample - loss: 0.1588 - acc: 0.9456 - val_loss: 0.7562 - val_acc: 0.8068\n",
            "Train on 1635 samples, validate on 409 samples\n",
            "1635/1635 [==============================] - 0s 15us/sample - loss: 0.1565 - acc: 0.9486 - val_loss: 0.7425 - val_acc: 0.8020\n",
            "Train on 1635 samples, validate on 409 samples\n",
            "1635/1635 [==============================] - 0s 15us/sample - loss: 0.1559 - acc: 0.9480 - val_loss: 0.8003 - val_acc: 0.8093\n",
            "Train on 1635 samples, validate on 409 samples\n",
            "1635/1635 [==============================] - 0s 15us/sample - loss: 0.1558 - acc: 0.9419 - val_loss: 0.7410 - val_acc: 0.8044\n",
            "Train on 1635 samples, validate on 409 samples\n",
            "1635/1635 [==============================] - 0s 16us/sample - loss: 0.1563 - acc: 0.9480 - val_loss: 0.7626 - val_acc: 0.8142\n",
            "Train on 1635 samples, validate on 409 samples\n",
            "1635/1635 [==============================] - 0s 15us/sample - loss: 0.1550 - acc: 0.9492 - val_loss: 0.7585 - val_acc: 0.8093\n",
            "Train on 1635 samples, validate on 409 samples\n",
            "1635/1635 [==============================] - 0s 14us/sample - loss: 0.1554 - acc: 0.9456 - val_loss: 0.8048 - val_acc: 0.8142\n",
            "Train on 1635 samples, validate on 409 samples\n",
            "1635/1635 [==============================] - 0s 14us/sample - loss: 0.1543 - acc: 0.9480 - val_loss: 0.7718 - val_acc: 0.8093\n",
            "Train on 1635 samples, validate on 409 samples\n",
            "1635/1635 [==============================] - 0s 19us/sample - loss: 0.1557 - acc: 0.9498 - val_loss: 0.7448 - val_acc: 0.8068\n",
            "Train on 1635 samples, validate on 409 samples\n",
            "1635/1635 [==============================] - 0s 14us/sample - loss: 0.1568 - acc: 0.9492 - val_loss: 0.7483 - val_acc: 0.8044\n",
            "Train on 1635 samples, validate on 409 samples\n",
            "1635/1635 [==============================] - 0s 16us/sample - loss: 0.1575 - acc: 0.9456 - val_loss: 0.7805 - val_acc: 0.8215\n",
            "Train on 1635 samples, validate on 409 samples\n",
            "1635/1635 [==============================] - 0s 15us/sample - loss: 0.1547 - acc: 0.9492 - val_loss: 0.7735 - val_acc: 0.8044\n",
            "Train on 1635 samples, validate on 409 samples\n",
            "1635/1635 [==============================] - 0s 15us/sample - loss: 0.1573 - acc: 0.9468 - val_loss: 0.8003 - val_acc: 0.8142\n",
            "Train on 1635 samples, validate on 409 samples\n",
            "1635/1635 [==============================] - 0s 15us/sample - loss: 0.1545 - acc: 0.9468 - val_loss: 0.7184 - val_acc: 0.8117\n",
            "Train on 1635 samples, validate on 409 samples\n",
            "1635/1635 [==============================] - 0s 13us/sample - loss: 0.1735 - acc: 0.9376 - val_loss: 0.7840 - val_acc: 0.8044\n",
            "Train on 1635 samples, validate on 409 samples\n",
            "1635/1635 [==============================] - 0s 14us/sample - loss: 0.1619 - acc: 0.9456 - val_loss: 0.8194 - val_acc: 0.7995\n",
            "Train on 1635 samples, validate on 409 samples\n",
            "1635/1635 [==============================] - 0s 14us/sample - loss: 0.1621 - acc: 0.9413 - val_loss: 0.8087 - val_acc: 0.8166\n",
            "Train on 1635 samples, validate on 409 samples\n",
            "1635/1635 [==============================] - 0s 13us/sample - loss: 0.1592 - acc: 0.9468 - val_loss: 0.7358 - val_acc: 0.8142\n",
            "Train on 1635 samples, validate on 409 samples\n",
            "1635/1635 [==============================] - 0s 14us/sample - loss: 0.1547 - acc: 0.9450 - val_loss: 0.7812 - val_acc: 0.8068\n",
            "Train on 1635 samples, validate on 409 samples\n",
            "1635/1635 [==============================] - 0s 16us/sample - loss: 0.1520 - acc: 0.9498 - val_loss: 0.7894 - val_acc: 0.8093\n",
            "Train on 1635 samples, validate on 409 samples\n",
            "1635/1635 [==============================] - 0s 15us/sample - loss: 0.1518 - acc: 0.9498 - val_loss: 0.7557 - val_acc: 0.8215\n",
            "Train on 1635 samples, validate on 409 samples\n",
            "1635/1635 [==============================] - 0s 15us/sample - loss: 0.1565 - acc: 0.9492 - val_loss: 0.7841 - val_acc: 0.8117\n",
            "Train on 1635 samples, validate on 409 samples\n",
            "1635/1635 [==============================] - 0s 15us/sample - loss: 0.1519 - acc: 0.9474 - val_loss: 0.7786 - val_acc: 0.8093\n",
            "Train on 1635 samples, validate on 409 samples\n",
            "1635/1635 [==============================] - 0s 15us/sample - loss: 0.1519 - acc: 0.9474 - val_loss: 0.7598 - val_acc: 0.8044\n",
            "Train on 1635 samples, validate on 409 samples\n",
            "1635/1635 [==============================] - 0s 14us/sample - loss: 0.1544 - acc: 0.9474 - val_loss: 0.7738 - val_acc: 0.8142\n",
            "Train on 1635 samples, validate on 409 samples\n",
            "1635/1635 [==============================] - 0s 13us/sample - loss: 0.1539 - acc: 0.9492 - val_loss: 0.7327 - val_acc: 0.8020\n",
            "Train on 1635 samples, validate on 409 samples\n",
            "1635/1635 [==============================] - 0s 15us/sample - loss: 0.1554 - acc: 0.9517 - val_loss: 0.8102 - val_acc: 0.8068\n",
            "Train on 1635 samples, validate on 409 samples\n",
            "1635/1635 [==============================] - 0s 15us/sample - loss: 0.1602 - acc: 0.9456 - val_loss: 0.8311 - val_acc: 0.8068\n",
            "Train on 1635 samples, validate on 409 samples\n",
            "1635/1635 [==============================] - 0s 15us/sample - loss: 0.1556 - acc: 0.9492 - val_loss: 0.7918 - val_acc: 0.8093\n",
            "Train on 1635 samples, validate on 409 samples\n",
            "1635/1635 [==============================] - 0s 14us/sample - loss: 0.1537 - acc: 0.9480 - val_loss: 0.7488 - val_acc: 0.8117\n",
            "Train on 1635 samples, validate on 409 samples\n",
            "1635/1635 [==============================] - 0s 14us/sample - loss: 0.1534 - acc: 0.9498 - val_loss: 0.8604 - val_acc: 0.8093\n",
            "Train on 1635 samples, validate on 409 samples\n",
            "1635/1635 [==============================] - 0s 14us/sample - loss: 0.1599 - acc: 0.9437 - val_loss: 0.7858 - val_acc: 0.8044\n",
            "Train on 1635 samples, validate on 409 samples\n",
            "1635/1635 [==============================] - 0s 15us/sample - loss: 0.1524 - acc: 0.9498 - val_loss: 0.7594 - val_acc: 0.8117\n",
            "Train on 1635 samples, validate on 409 samples\n",
            "1635/1635 [==============================] - 0s 16us/sample - loss: 0.1552 - acc: 0.9498 - val_loss: 0.7901 - val_acc: 0.8020\n",
            "Train on 1635 samples, validate on 409 samples\n",
            "1635/1635 [==============================] - 0s 16us/sample - loss: 0.1555 - acc: 0.9511 - val_loss: 0.8433 - val_acc: 0.8020\n",
            "Train on 1635 samples, validate on 409 samples\n",
            "1635/1635 [==============================] - 0s 16us/sample - loss: 0.1553 - acc: 0.9492 - val_loss: 0.7720 - val_acc: 0.8166\n",
            "Train on 1635 samples, validate on 409 samples\n",
            "1635/1635 [==============================] - 0s 14us/sample - loss: 0.1536 - acc: 0.9498 - val_loss: 0.7309 - val_acc: 0.8093\n",
            "Train on 1635 samples, validate on 409 samples\n",
            "1635/1635 [==============================] - 0s 16us/sample - loss: 0.1569 - acc: 0.9456 - val_loss: 0.7892 - val_acc: 0.8044\n",
            "Train on 1635 samples, validate on 409 samples\n",
            "1635/1635 [==============================] - 0s 14us/sample - loss: 0.1526 - acc: 0.9468 - val_loss: 0.8033 - val_acc: 0.8093\n",
            "Train on 1635 samples, validate on 409 samples\n",
            "1635/1635 [==============================] - 0s 13us/sample - loss: 0.1541 - acc: 0.9486 - val_loss: 0.8055 - val_acc: 0.8044\n",
            "Train on 1635 samples, validate on 409 samples\n",
            "1635/1635 [==============================] - 0s 16us/sample - loss: 0.1505 - acc: 0.9480 - val_loss: 0.7586 - val_acc: 0.8068\n",
            "Train on 1635 samples, validate on 409 samples\n",
            "1635/1635 [==============================] - 0s 14us/sample - loss: 0.1531 - acc: 0.9474 - val_loss: 0.8100 - val_acc: 0.8044\n",
            "Train on 1635 samples, validate on 409 samples\n",
            "1635/1635 [==============================] - 0s 22us/sample - loss: 0.1533 - acc: 0.9498 - val_loss: 0.7733 - val_acc: 0.8093\n",
            "Train on 1635 samples, validate on 409 samples\n",
            "1635/1635 [==============================] - 0s 15us/sample - loss: 0.1531 - acc: 0.9480 - val_loss: 0.7947 - val_acc: 0.8044\n",
            "Train on 1635 samples, validate on 409 samples\n",
            "1635/1635 [==============================] - 0s 16us/sample - loss: 0.1514 - acc: 0.9523 - val_loss: 0.7811 - val_acc: 0.8142\n",
            "Train on 1635 samples, validate on 409 samples\n",
            "1635/1635 [==============================] - 0s 14us/sample - loss: 0.1520 - acc: 0.9480 - val_loss: 0.8207 - val_acc: 0.8117\n",
            "Train on 1635 samples, validate on 409 samples\n",
            "1635/1635 [==============================] - 0s 14us/sample - loss: 0.1548 - acc: 0.9480 - val_loss: 0.7586 - val_acc: 0.8093\n",
            "Train on 1635 samples, validate on 409 samples\n",
            "1635/1635 [==============================] - 0s 14us/sample - loss: 0.1502 - acc: 0.9492 - val_loss: 0.8520 - val_acc: 0.8020\n",
            "Train on 1635 samples, validate on 409 samples\n",
            "1635/1635 [==============================] - 0s 13us/sample - loss: 0.1524 - acc: 0.9498 - val_loss: 0.7748 - val_acc: 0.8020\n",
            "Train on 1635 samples, validate on 409 samples\n",
            "1635/1635 [==============================] - 0s 15us/sample - loss: 0.1525 - acc: 0.9529 - val_loss: 0.7760 - val_acc: 0.8044\n",
            "Train on 1635 samples, validate on 409 samples\n",
            "1635/1635 [==============================] - 0s 14us/sample - loss: 0.1501 - acc: 0.9505 - val_loss: 0.8364 - val_acc: 0.8117\n",
            "Train on 1635 samples, validate on 409 samples\n",
            "1635/1635 [==============================] - 0s 16us/sample - loss: 0.1568 - acc: 0.9474 - val_loss: 0.7495 - val_acc: 0.8093\n",
            "Train on 1635 samples, validate on 409 samples\n",
            "1635/1635 [==============================] - 0s 14us/sample - loss: 0.1619 - acc: 0.9462 - val_loss: 0.8484 - val_acc: 0.8093\n",
            "Train on 1635 samples, validate on 409 samples\n",
            "1635/1635 [==============================] - 0s 13us/sample - loss: 0.1624 - acc: 0.9450 - val_loss: 0.7888 - val_acc: 0.8142\n",
            "Train on 1635 samples, validate on 409 samples\n",
            "1635/1635 [==============================] - 0s 14us/sample - loss: 0.1587 - acc: 0.9431 - val_loss: 0.8282 - val_acc: 0.8142\n",
            "Train on 1635 samples, validate on 409 samples\n",
            "1635/1635 [==============================] - 0s 14us/sample - loss: 0.1557 - acc: 0.9498 - val_loss: 0.8080 - val_acc: 0.8044\n",
            "Train on 1635 samples, validate on 409 samples\n",
            "1635/1635 [==============================] - 0s 16us/sample - loss: 0.1502 - acc: 0.9480 - val_loss: 0.7226 - val_acc: 0.8044\n",
            "Train on 1635 samples, validate on 409 samples\n",
            "1635/1635 [==============================] - 0s 14us/sample - loss: 0.1697 - acc: 0.9431 - val_loss: 0.8201 - val_acc: 0.8166\n",
            "Train on 1635 samples, validate on 409 samples\n",
            "1635/1635 [==============================] - 0s 15us/sample - loss: 0.1612 - acc: 0.9437 - val_loss: 0.8049 - val_acc: 0.8215\n",
            "Train on 1635 samples, validate on 409 samples\n",
            "1635/1635 [==============================] - 0s 14us/sample - loss: 0.1554 - acc: 0.9486 - val_loss: 0.8069 - val_acc: 0.8117\n",
            "Train on 1635 samples, validate on 409 samples\n",
            "1635/1635 [==============================] - 0s 13us/sample - loss: 0.1550 - acc: 0.9474 - val_loss: 0.7638 - val_acc: 0.7995\n",
            "Train on 1635 samples, validate on 409 samples\n",
            "1635/1635 [==============================] - 0s 14us/sample - loss: 0.1584 - acc: 0.9450 - val_loss: 0.8069 - val_acc: 0.8068\n",
            "Train on 1635 samples, validate on 409 samples\n",
            "1635/1635 [==============================] - 0s 14us/sample - loss: 0.1548 - acc: 0.9450 - val_loss: 0.8178 - val_acc: 0.8117\n",
            "Train on 1635 samples, validate on 409 samples\n",
            "1635/1635 [==============================] - 0s 14us/sample - loss: 0.1528 - acc: 0.9492 - val_loss: 0.8309 - val_acc: 0.8068\n",
            "Train on 1635 samples, validate on 409 samples\n",
            "1635/1635 [==============================] - 0s 13us/sample - loss: 0.1522 - acc: 0.9505 - val_loss: 0.8175 - val_acc: 0.8093\n",
            "Train on 1635 samples, validate on 409 samples\n",
            "1635/1635 [==============================] - 0s 13us/sample - loss: 0.1580 - acc: 0.9474 - val_loss: 0.7898 - val_acc: 0.8142\n",
            "Train on 1635 samples, validate on 409 samples\n",
            "1635/1635 [==============================] - 0s 14us/sample - loss: 0.1528 - acc: 0.9486 - val_loss: 0.7298 - val_acc: 0.8142\n",
            "Train on 1635 samples, validate on 409 samples\n",
            "1635/1635 [==============================] - 0s 14us/sample - loss: 0.1896 - acc: 0.9266 - val_loss: 0.8304 - val_acc: 0.8068\n",
            "Train on 1635 samples, validate on 409 samples\n",
            "1635/1635 [==============================] - 0s 14us/sample - loss: 0.1895 - acc: 0.9327 - val_loss: 0.9568 - val_acc: 0.8215\n",
            "Train on 1635 samples, validate on 409 samples\n",
            "1635/1635 [==============================] - 0s 16us/sample - loss: 0.1923 - acc: 0.9272 - val_loss: 0.7578 - val_acc: 0.8166\n",
            "Train on 1635 samples, validate on 409 samples\n",
            "1635/1635 [==============================] - 0s 18us/sample - loss: 0.1735 - acc: 0.9394 - val_loss: 0.7662 - val_acc: 0.8093\n",
            "Train on 1635 samples, validate on 409 samples\n",
            "1635/1635 [==============================] - 0s 17us/sample - loss: 0.1574 - acc: 0.9468 - val_loss: 0.8894 - val_acc: 0.8142\n",
            "Train on 1635 samples, validate on 409 samples\n",
            "1635/1635 [==============================] - 0s 18us/sample - loss: 0.1575 - acc: 0.9450 - val_loss: 0.7579 - val_acc: 0.8093\n",
            "Train on 1635 samples, validate on 409 samples\n",
            "1635/1635 [==============================] - 0s 15us/sample - loss: 0.1534 - acc: 0.9480 - val_loss: 0.7866 - val_acc: 0.8068\n",
            "Train on 1635 samples, validate on 409 samples\n",
            "1635/1635 [==============================] - 0s 15us/sample - loss: 0.1534 - acc: 0.9456 - val_loss: 0.7953 - val_acc: 0.7971\n",
            "Train on 1635 samples, validate on 409 samples\n",
            "1635/1635 [==============================] - 0s 14us/sample - loss: 0.1508 - acc: 0.9541 - val_loss: 0.8731 - val_acc: 0.8166\n",
            "Train on 1635 samples, validate on 409 samples\n",
            "1635/1635 [==============================] - 0s 14us/sample - loss: 0.1640 - acc: 0.9425 - val_loss: 0.7566 - val_acc: 0.8117\n",
            "Train on 1635 samples, validate on 409 samples\n",
            "1635/1635 [==============================] - 0s 16us/sample - loss: 0.1575 - acc: 0.9474 - val_loss: 0.7860 - val_acc: 0.8142\n",
            "Train on 1635 samples, validate on 409 samples\n",
            "1635/1635 [==============================] - 0s 18us/sample - loss: 0.1541 - acc: 0.9511 - val_loss: 0.8144 - val_acc: 0.7995\n",
            "Train on 1635 samples, validate on 409 samples\n",
            "1635/1635 [==============================] - 0s 18us/sample - loss: 0.1491 - acc: 0.9505 - val_loss: 0.8501 - val_acc: 0.8068\n",
            "Train on 1635 samples, validate on 409 samples\n",
            "1635/1635 [==============================] - 0s 20us/sample - loss: 0.1548 - acc: 0.9474 - val_loss: 0.8273 - val_acc: 0.8117\n",
            "Train on 1635 samples, validate on 409 samples\n",
            "1635/1635 [==============================] - 0s 14us/sample - loss: 0.1524 - acc: 0.9498 - val_loss: 0.7668 - val_acc: 0.8093\n",
            "Train on 1635 samples, validate on 409 samples\n",
            "1635/1635 [==============================] - 0s 15us/sample - loss: 0.1557 - acc: 0.9474 - val_loss: 0.8160 - val_acc: 0.7995\n",
            "Train on 1635 samples, validate on 409 samples\n",
            "1635/1635 [==============================] - 0s 15us/sample - loss: 0.1605 - acc: 0.9462 - val_loss: 0.8613 - val_acc: 0.8068\n",
            "Train on 1635 samples, validate on 409 samples\n",
            "1635/1635 [==============================] - 0s 14us/sample - loss: 0.1578 - acc: 0.9462 - val_loss: 0.7874 - val_acc: 0.8068\n",
            "Train on 1635 samples, validate on 409 samples\n",
            "1635/1635 [==============================] - 0s 16us/sample - loss: 0.1558 - acc: 0.9474 - val_loss: 0.8462 - val_acc: 0.8166\n",
            "Train on 1635 samples, validate on 409 samples\n",
            "1635/1635 [==============================] - 0s 17us/sample - loss: 0.1531 - acc: 0.9492 - val_loss: 0.8446 - val_acc: 0.8191\n",
            "Train on 1635 samples, validate on 409 samples\n",
            "1635/1635 [==============================] - 0s 17us/sample - loss: 0.1607 - acc: 0.9443 - val_loss: 0.8131 - val_acc: 0.8020\n",
            "Train on 1635 samples, validate on 409 samples\n",
            "1635/1635 [==============================] - 0s 13us/sample - loss: 0.1593 - acc: 0.9437 - val_loss: 0.8061 - val_acc: 0.8068\n",
            "Train on 1635 samples, validate on 409 samples\n",
            "1635/1635 [==============================] - 0s 15us/sample - loss: 0.1511 - acc: 0.9505 - val_loss: 0.8036 - val_acc: 0.8117\n",
            "Train on 1635 samples, validate on 409 samples\n",
            "1635/1635 [==============================] - 0s 16us/sample - loss: 0.1486 - acc: 0.9492 - val_loss: 0.7775 - val_acc: 0.7971\n",
            "Train on 1635 samples, validate on 409 samples\n",
            "1635/1635 [==============================] - 0s 20us/sample - loss: 0.1516 - acc: 0.9505 - val_loss: 0.8650 - val_acc: 0.8044\n",
            "Train on 1635 samples, validate on 409 samples\n",
            "1635/1635 [==============================] - 0s 19us/sample - loss: 0.1494 - acc: 0.9492 - val_loss: 0.7586 - val_acc: 0.8117\n",
            "Train on 1635 samples, validate on 409 samples\n",
            "1635/1635 [==============================] - 0s 14us/sample - loss: 0.1574 - acc: 0.9450 - val_loss: 0.8154 - val_acc: 0.7946\n",
            "Train on 1635 samples, validate on 409 samples\n",
            "1635/1635 [==============================] - 0s 14us/sample - loss: 0.1484 - acc: 0.9529 - val_loss: 0.8330 - val_acc: 0.8093\n",
            "Train on 1635 samples, validate on 409 samples\n",
            "1635/1635 [==============================] - 0s 13us/sample - loss: 0.1520 - acc: 0.9492 - val_loss: 0.7874 - val_acc: 0.8117\n",
            "Train on 1635 samples, validate on 409 samples\n",
            "1635/1635 [==============================] - 0s 14us/sample - loss: 0.1643 - acc: 0.9474 - val_loss: 0.7725 - val_acc: 0.8117\n",
            "Train on 1635 samples, validate on 409 samples\n",
            "1635/1635 [==============================] - 0s 12us/sample - loss: 0.1649 - acc: 0.9419 - val_loss: 0.8784 - val_acc: 0.8117\n",
            "Train on 1635 samples, validate on 409 samples\n",
            "1635/1635 [==============================] - 0s 14us/sample - loss: 0.1659 - acc: 0.9413 - val_loss: 0.8818 - val_acc: 0.8117\n",
            "Train on 1635 samples, validate on 409 samples\n",
            "1635/1635 [==============================] - 0s 12us/sample - loss: 0.1580 - acc: 0.9468 - val_loss: 0.7644 - val_acc: 0.8117\n",
            "Train on 1635 samples, validate on 409 samples\n",
            "1635/1635 [==============================] - 0s 12us/sample - loss: 0.1499 - acc: 0.9486 - val_loss: 0.8376 - val_acc: 0.8093\n",
            "Train on 1635 samples, validate on 409 samples\n",
            "1635/1635 [==============================] - 0s 14us/sample - loss: 0.1486 - acc: 0.9529 - val_loss: 0.8239 - val_acc: 0.8068\n",
            "Train on 1635 samples, validate on 409 samples\n",
            "1635/1635 [==============================] - 0s 13us/sample - loss: 0.1478 - acc: 0.9517 - val_loss: 0.8159 - val_acc: 0.8068\n",
            "Train on 1635 samples, validate on 409 samples\n",
            "1635/1635 [==============================] - 0s 14us/sample - loss: 0.1487 - acc: 0.9523 - val_loss: 0.7907 - val_acc: 0.8020\n",
            "Train on 1635 samples, validate on 409 samples\n",
            "1635/1635 [==============================] - 0s 13us/sample - loss: 0.1486 - acc: 0.9547 - val_loss: 0.8752 - val_acc: 0.8068\n",
            "Train on 1635 samples, validate on 409 samples\n",
            "1635/1635 [==============================] - 0s 16us/sample - loss: 0.1627 - acc: 0.9407 - val_loss: 0.8539 - val_acc: 0.8044\n",
            "Train on 1635 samples, validate on 409 samples\n",
            "1635/1635 [==============================] - 0s 13us/sample - loss: 0.1522 - acc: 0.9498 - val_loss: 0.7797 - val_acc: 0.7971\n",
            "Train on 1635 samples, validate on 409 samples\n",
            "1635/1635 [==============================] - 0s 14us/sample - loss: 0.1491 - acc: 0.9511 - val_loss: 0.8240 - val_acc: 0.8093\n",
            "Train on 1635 samples, validate on 409 samples\n",
            "1635/1635 [==============================] - 0s 15us/sample - loss: 0.1481 - acc: 0.9511 - val_loss: 0.8501 - val_acc: 0.8117\n",
            "Train on 1635 samples, validate on 409 samples\n",
            "1635/1635 [==============================] - 0s 16us/sample - loss: 0.1488 - acc: 0.9511 - val_loss: 0.7910 - val_acc: 0.8117\n",
            "Train on 1635 samples, validate on 409 samples\n",
            "1635/1635 [==============================] - 0s 13us/sample - loss: 0.1500 - acc: 0.9511 - val_loss: 0.8282 - val_acc: 0.8068\n",
            "Train on 1635 samples, validate on 409 samples\n",
            "1635/1635 [==============================] - 0s 14us/sample - loss: 0.1492 - acc: 0.9492 - val_loss: 0.8428 - val_acc: 0.8044\n",
            "Train on 1635 samples, validate on 409 samples\n",
            "1635/1635 [==============================] - 0s 14us/sample - loss: 0.1501 - acc: 0.9523 - val_loss: 0.7889 - val_acc: 0.8068\n",
            "Train on 1635 samples, validate on 409 samples\n",
            "1635/1635 [==============================] - 0s 13us/sample - loss: 0.1506 - acc: 0.9523 - val_loss: 0.9019 - val_acc: 0.8044\n",
            "Train on 1635 samples, validate on 409 samples\n",
            "1635/1635 [==============================] - 0s 13us/sample - loss: 0.1587 - acc: 0.9480 - val_loss: 0.8768 - val_acc: 0.8117\n",
            "Train on 1635 samples, validate on 409 samples\n",
            "1635/1635 [==============================] - 0s 15us/sample - loss: 0.1572 - acc: 0.9468 - val_loss: 0.8165 - val_acc: 0.8093\n",
            "Train on 1635 samples, validate on 409 samples\n",
            "1635/1635 [==============================] - 0s 15us/sample - loss: 0.1485 - acc: 0.9492 - val_loss: 0.7862 - val_acc: 0.8068\n",
            "Train on 1635 samples, validate on 409 samples\n",
            "1635/1635 [==============================] - 0s 15us/sample - loss: 0.1489 - acc: 0.9498 - val_loss: 0.8417 - val_acc: 0.8068\n",
            "Train on 1635 samples, validate on 409 samples\n",
            "1635/1635 [==============================] - 0s 13us/sample - loss: 0.1496 - acc: 0.9517 - val_loss: 0.8601 - val_acc: 0.8044\n",
            "Train on 1635 samples, validate on 409 samples\n",
            "1635/1635 [==============================] - 0s 13us/sample - loss: 0.1477 - acc: 0.9505 - val_loss: 0.8448 - val_acc: 0.8093\n",
            "Train on 1635 samples, validate on 409 samples\n",
            "1635/1635 [==============================] - 0s 13us/sample - loss: 0.1614 - acc: 0.9437 - val_loss: 0.8015 - val_acc: 0.8117\n",
            "Train on 1635 samples, validate on 409 samples\n",
            "1635/1635 [==============================] - 0s 13us/sample - loss: 0.1529 - acc: 0.9474 - val_loss: 0.8013 - val_acc: 0.8020\n",
            "Train on 1635 samples, validate on 409 samples\n",
            "1635/1635 [==============================] - 0s 14us/sample - loss: 0.1613 - acc: 0.9474 - val_loss: 0.9146 - val_acc: 0.8093\n",
            "Train on 1635 samples, validate on 409 samples\n",
            "1635/1635 [==============================] - 0s 13us/sample - loss: 0.1536 - acc: 0.9474 - val_loss: 0.8726 - val_acc: 0.8093\n",
            "Train on 1635 samples, validate on 409 samples\n",
            "1635/1635 [==============================] - 0s 14us/sample - loss: 0.1506 - acc: 0.9498 - val_loss: 0.7908 - val_acc: 0.7995\n",
            "Train on 1635 samples, validate on 409 samples\n",
            "1635/1635 [==============================] - 0s 13us/sample - loss: 0.1540 - acc: 0.9492 - val_loss: 0.8097 - val_acc: 0.8044\n",
            "Train on 1635 samples, validate on 409 samples\n",
            "1635/1635 [==============================] - 0s 13us/sample - loss: 0.1524 - acc: 0.9486 - val_loss: 0.9226 - val_acc: 0.8215\n",
            "Train on 1635 samples, validate on 409 samples\n",
            "1635/1635 [==============================] - 0s 15us/sample - loss: 0.1565 - acc: 0.9431 - val_loss: 0.8044 - val_acc: 0.8020\n",
            "Train on 1635 samples, validate on 409 samples\n",
            "1635/1635 [==============================] - 0s 18us/sample - loss: 0.1477 - acc: 0.9529 - val_loss: 0.8478 - val_acc: 0.8117\n",
            "Train on 1635 samples, validate on 409 samples\n",
            "1635/1635 [==============================] - 0s 14us/sample - loss: 0.1454 - acc: 0.9523 - val_loss: 0.7961 - val_acc: 0.8068\n",
            "Train on 1635 samples, validate on 409 samples\n",
            "1635/1635 [==============================] - 0s 15us/sample - loss: 0.1505 - acc: 0.9505 - val_loss: 0.8035 - val_acc: 0.7995\n",
            "Train on 1635 samples, validate on 409 samples\n",
            "1635/1635 [==============================] - 0s 16us/sample - loss: 0.1657 - acc: 0.9462 - val_loss: 0.9163 - val_acc: 0.8166\n",
            "Train on 1635 samples, validate on 409 samples\n",
            "1635/1635 [==============================] - 0s 15us/sample - loss: 0.1680 - acc: 0.9358 - val_loss: 0.8133 - val_acc: 0.7946\n",
            "Train on 1635 samples, validate on 409 samples\n",
            "1635/1635 [==============================] - 0s 16us/sample - loss: 0.1642 - acc: 0.9401 - val_loss: 0.7395 - val_acc: 0.7971\n",
            "Train on 1635 samples, validate on 409 samples\n",
            "1635/1635 [==============================] - 0s 15us/sample - loss: 0.1662 - acc: 0.9388 - val_loss: 0.9204 - val_acc: 0.8215\n",
            "Train on 1635 samples, validate on 409 samples\n",
            "1635/1635 [==============================] - 0s 15us/sample - loss: 0.1608 - acc: 0.9425 - val_loss: 0.8110 - val_acc: 0.8068\n",
            "Train on 1635 samples, validate on 409 samples\n",
            "1635/1635 [==============================] - 0s 12us/sample - loss: 0.1506 - acc: 0.9523 - val_loss: 0.8251 - val_acc: 0.7971\n",
            "Train on 1635 samples, validate on 409 samples\n",
            "1635/1635 [==============================] - 0s 12us/sample - loss: 0.1478 - acc: 0.9529 - val_loss: 0.8476 - val_acc: 0.8044\n",
            "Train on 1635 samples, validate on 409 samples\n",
            "1635/1635 [==============================] - 0s 17us/sample - loss: 0.1472 - acc: 0.9511 - val_loss: 0.8939 - val_acc: 0.8068\n",
            "Train on 1635 samples, validate on 409 samples\n",
            "1635/1635 [==============================] - 0s 12us/sample - loss: 0.1522 - acc: 0.9517 - val_loss: 0.7900 - val_acc: 0.8068\n",
            "Train on 1635 samples, validate on 409 samples\n",
            "1635/1635 [==============================] - 0s 13us/sample - loss: 0.1463 - acc: 0.9554 - val_loss: 0.8441 - val_acc: 0.8044\n",
            "Train on 1635 samples, validate on 409 samples\n",
            "1635/1635 [==============================] - 0s 13us/sample - loss: 0.1459 - acc: 0.9523 - val_loss: 0.8070 - val_acc: 0.8044\n",
            "Train on 1635 samples, validate on 409 samples\n",
            "1635/1635 [==============================] - 0s 13us/sample - loss: 0.1448 - acc: 0.9560 - val_loss: 0.8792 - val_acc: 0.8093\n",
            "Train on 1635 samples, validate on 409 samples\n",
            "1635/1635 [==============================] - 0s 13us/sample - loss: 0.1501 - acc: 0.9535 - val_loss: 0.8464 - val_acc: 0.8093\n",
            "Train on 1635 samples, validate on 409 samples\n",
            "1635/1635 [==============================] - 0s 13us/sample - loss: 0.1495 - acc: 0.9498 - val_loss: 0.7653 - val_acc: 0.8191\n",
            "Train on 1635 samples, validate on 409 samples\n",
            "1635/1635 [==============================] - 0s 14us/sample - loss: 0.1550 - acc: 0.9474 - val_loss: 0.8557 - val_acc: 0.8044\n",
            "Train on 1635 samples, validate on 409 samples\n",
            "1635/1635 [==============================] - 0s 13us/sample - loss: 0.1505 - acc: 0.9535 - val_loss: 0.8981 - val_acc: 0.8093\n",
            "Train on 1635 samples, validate on 409 samples\n",
            "1635/1635 [==============================] - 0s 13us/sample - loss: 0.1521 - acc: 0.9505 - val_loss: 0.8039 - val_acc: 0.8093\n",
            "Train on 1635 samples, validate on 409 samples\n",
            "1635/1635 [==============================] - 0s 13us/sample - loss: 0.1495 - acc: 0.9523 - val_loss: 0.8235 - val_acc: 0.8020\n",
            "Train on 1635 samples, validate on 409 samples\n",
            "1635/1635 [==============================] - 0s 14us/sample - loss: 0.1497 - acc: 0.9505 - val_loss: 0.8306 - val_acc: 0.8142\n",
            "Train on 1635 samples, validate on 409 samples\n",
            "1635/1635 [==============================] - 0s 14us/sample - loss: 0.1462 - acc: 0.9529 - val_loss: 0.8268 - val_acc: 0.8020\n",
            "Train on 1635 samples, validate on 409 samples\n",
            "1635/1635 [==============================] - 0s 15us/sample - loss: 0.1446 - acc: 0.9560 - val_loss: 0.8783 - val_acc: 0.8093\n",
            "Train on 1635 samples, validate on 409 samples\n",
            "1635/1635 [==============================] - 0s 13us/sample - loss: 0.1493 - acc: 0.9486 - val_loss: 0.8045 - val_acc: 0.8117\n",
            "Train on 1635 samples, validate on 409 samples\n",
            "1635/1635 [==============================] - 0s 14us/sample - loss: 0.1532 - acc: 0.9511 - val_loss: 0.8626 - val_acc: 0.8020\n",
            "Train on 1635 samples, validate on 409 samples\n",
            "1635/1635 [==============================] - 0s 12us/sample - loss: 0.1488 - acc: 0.9541 - val_loss: 0.9056 - val_acc: 0.8068\n",
            "Train on 1635 samples, validate on 409 samples\n",
            "1635/1635 [==============================] - 0s 13us/sample - loss: 0.1510 - acc: 0.9505 - val_loss: 0.8140 - val_acc: 0.8142\n",
            "Train on 1635 samples, validate on 409 samples\n",
            "1635/1635 [==============================] - 0s 13us/sample - loss: 0.1472 - acc: 0.9547 - val_loss: 0.8523 - val_acc: 0.8020\n",
            "Train on 1635 samples, validate on 409 samples\n",
            "1635/1635 [==============================] - 0s 17us/sample - loss: 0.1463 - acc: 0.9554 - val_loss: 0.8342 - val_acc: 0.8068\n",
            "Train on 1635 samples, validate on 409 samples\n",
            "1635/1635 [==============================] - 0s 13us/sample - loss: 0.1454 - acc: 0.9535 - val_loss: 0.8218 - val_acc: 0.8044\n",
            "Train on 1635 samples, validate on 409 samples\n",
            "1635/1635 [==============================] - 0s 15us/sample - loss: 0.1469 - acc: 0.9535 - val_loss: 0.8753 - val_acc: 0.8117\n",
            "Train on 1635 samples, validate on 409 samples\n",
            "1635/1635 [==============================] - 0s 15us/sample - loss: 0.1487 - acc: 0.9572 - val_loss: 0.8501 - val_acc: 0.8044\n",
            "Train on 1635 samples, validate on 409 samples\n",
            "1635/1635 [==============================] - 0s 13us/sample - loss: 0.1485 - acc: 0.9511 - val_loss: 0.8220 - val_acc: 0.8044\n",
            "Train on 1635 samples, validate on 409 samples\n",
            "1635/1635 [==============================] - 0s 12us/sample - loss: 0.1478 - acc: 0.9480 - val_loss: 0.8091 - val_acc: 0.7995\n",
            "Train on 1635 samples, validate on 409 samples\n",
            "1635/1635 [==============================] - 0s 12us/sample - loss: 0.1496 - acc: 0.9523 - val_loss: 0.9474 - val_acc: 0.8142\n",
            "Train on 1635 samples, validate on 409 samples\n",
            "1635/1635 [==============================] - 0s 12us/sample - loss: 0.1505 - acc: 0.9505 - val_loss: 0.8190 - val_acc: 0.8068\n",
            "Train on 1635 samples, validate on 409 samples\n",
            "1635/1635 [==============================] - 0s 12us/sample - loss: 0.1461 - acc: 0.9505 - val_loss: 0.8211 - val_acc: 0.7971\n",
            "Train on 1635 samples, validate on 409 samples\n",
            "1635/1635 [==============================] - 0s 13us/sample - loss: 0.1472 - acc: 0.9541 - val_loss: 0.8805 - val_acc: 0.8093\n",
            "Train on 1635 samples, validate on 409 samples\n",
            "1635/1635 [==============================] - 0s 17us/sample - loss: 0.1536 - acc: 0.9480 - val_loss: 0.8472 - val_acc: 0.8093\n",
            "Train on 1635 samples, validate on 409 samples\n",
            "1635/1635 [==============================] - 0s 14us/sample - loss: 0.1457 - acc: 0.9529 - val_loss: 0.8229 - val_acc: 0.8117\n",
            "Train on 1635 samples, validate on 409 samples\n",
            "1635/1635 [==============================] - 0s 13us/sample - loss: 0.1484 - acc: 0.9529 - val_loss: 0.8827 - val_acc: 0.8117\n",
            "Train on 1635 samples, validate on 409 samples\n",
            "1635/1635 [==============================] - 0s 14us/sample - loss: 0.1479 - acc: 0.9492 - val_loss: 0.8879 - val_acc: 0.8117\n",
            "Train on 1635 samples, validate on 409 samples\n",
            "1635/1635 [==============================] - 0s 15us/sample - loss: 0.1471 - acc: 0.9492 - val_loss: 0.7820 - val_acc: 0.8117\n",
            "Train on 1635 samples, validate on 409 samples\n",
            "1635/1635 [==============================] - 0s 12us/sample - loss: 0.1555 - acc: 0.9474 - val_loss: 0.8651 - val_acc: 0.8068\n",
            "Train on 1635 samples, validate on 409 samples\n",
            "1635/1635 [==============================] - 0s 14us/sample - loss: 0.1457 - acc: 0.9511 - val_loss: 0.8769 - val_acc: 0.8093\n",
            "Train on 1635 samples, validate on 409 samples\n",
            "1635/1635 [==============================] - 0s 14us/sample - loss: 0.1484 - acc: 0.9523 - val_loss: 0.8761 - val_acc: 0.8093\n",
            "Train on 1635 samples, validate on 409 samples\n",
            "1635/1635 [==============================] - 0s 14us/sample - loss: 0.1511 - acc: 0.9511 - val_loss: 0.7971 - val_acc: 0.8093\n",
            "Train on 1635 samples, validate on 409 samples\n",
            "1635/1635 [==============================] - 0s 13us/sample - loss: 0.1514 - acc: 0.9505 - val_loss: 0.8042 - val_acc: 0.8142\n",
            "Train on 1635 samples, validate on 409 samples\n",
            "1635/1635 [==============================] - 0s 13us/sample - loss: 0.1573 - acc: 0.9480 - val_loss: 0.8931 - val_acc: 0.8240\n",
            "Train on 1635 samples, validate on 409 samples\n",
            "1635/1635 [==============================] - 0s 13us/sample - loss: 0.1519 - acc: 0.9554 - val_loss: 0.9196 - val_acc: 0.8142\n",
            "Train on 1635 samples, validate on 409 samples\n",
            "1635/1635 [==============================] - 0s 13us/sample - loss: 0.1588 - acc: 0.9443 - val_loss: 0.8450 - val_acc: 0.8142\n",
            "Train on 1635 samples, validate on 409 samples\n",
            "1635/1635 [==============================] - 0s 14us/sample - loss: 0.1511 - acc: 0.9468 - val_loss: 0.8235 - val_acc: 0.8068\n",
            "Train on 1635 samples, validate on 409 samples\n",
            "1635/1635 [==============================] - 0s 13us/sample - loss: 0.1533 - acc: 0.9511 - val_loss: 0.8264 - val_acc: 0.8117\n",
            "Train on 1635 samples, validate on 409 samples\n",
            "1635/1635 [==============================] - 0s 12us/sample - loss: 0.1507 - acc: 0.9498 - val_loss: 0.8882 - val_acc: 0.8093\n",
            "Train on 1635 samples, validate on 409 samples\n",
            "1635/1635 [==============================] - 0s 15us/sample - loss: 0.1462 - acc: 0.9541 - val_loss: 0.8341 - val_acc: 0.7971\n",
            "Train on 1635 samples, validate on 409 samples\n",
            "1635/1635 [==============================] - 0s 13us/sample - loss: 0.1459 - acc: 0.9523 - val_loss: 0.8702 - val_acc: 0.8068\n",
            "Train on 1635 samples, validate on 409 samples\n",
            "1635/1635 [==============================] - 0s 13us/sample - loss: 0.1480 - acc: 0.9498 - val_loss: 0.8149 - val_acc: 0.7995\n",
            "Train on 1635 samples, validate on 409 samples\n",
            "1635/1635 [==============================] - 0s 12us/sample - loss: 0.1611 - acc: 0.9474 - val_loss: 0.8012 - val_acc: 0.8093\n",
            "Train on 1635 samples, validate on 409 samples\n",
            "1635/1635 [==============================] - 0s 15us/sample - loss: 0.1521 - acc: 0.9498 - val_loss: 0.8281 - val_acc: 0.8093\n",
            "Train on 1635 samples, validate on 409 samples\n",
            "1635/1635 [==============================] - 0s 14us/sample - loss: 0.1542 - acc: 0.9505 - val_loss: 0.8975 - val_acc: 0.8117\n",
            "Train on 1635 samples, validate on 409 samples\n",
            "1635/1635 [==============================] - 0s 14us/sample - loss: 0.1555 - acc: 0.9462 - val_loss: 0.8749 - val_acc: 0.8117\n",
            "Train on 1635 samples, validate on 409 samples\n",
            "1635/1635 [==============================] - 0s 14us/sample - loss: 0.1591 - acc: 0.9450 - val_loss: 0.7685 - val_acc: 0.8117\n",
            "Train on 1635 samples, validate on 409 samples\n",
            "1635/1635 [==============================] - 0s 14us/sample - loss: 0.1524 - acc: 0.9468 - val_loss: 0.8692 - val_acc: 0.8142\n",
            "Train on 1635 samples, validate on 409 samples\n",
            "1635/1635 [==============================] - 0s 15us/sample - loss: 0.1489 - acc: 0.9498 - val_loss: 0.8405 - val_acc: 0.8093\n",
            "Train on 1635 samples, validate on 409 samples\n",
            "1635/1635 [==============================] - 0s 13us/sample - loss: 0.1479 - acc: 0.9505 - val_loss: 0.8619 - val_acc: 0.8044\n",
            "Train on 1635 samples, validate on 409 samples\n",
            "1635/1635 [==============================] - 0s 14us/sample - loss: 0.1495 - acc: 0.9535 - val_loss: 0.8736 - val_acc: 0.8093\n",
            "Train on 1635 samples, validate on 409 samples\n",
            "1635/1635 [==============================] - 0s 14us/sample - loss: 0.1493 - acc: 0.9480 - val_loss: 0.8236 - val_acc: 0.8044\n",
            "Train on 1635 samples, validate on 409 samples\n",
            "1635/1635 [==============================] - 0s 14us/sample - loss: 0.1518 - acc: 0.9511 - val_loss: 0.8156 - val_acc: 0.8068\n",
            "Train on 1635 samples, validate on 409 samples\n",
            "1635/1635 [==============================] - 0s 14us/sample - loss: 0.1545 - acc: 0.9474 - val_loss: 0.9196 - val_acc: 0.8117\n",
            "Train on 1635 samples, validate on 409 samples\n",
            "1635/1635 [==============================] - 0s 15us/sample - loss: 0.1494 - acc: 0.9529 - val_loss: 0.8510 - val_acc: 0.8044\n",
            "Train on 1635 samples, validate on 409 samples\n",
            "1635/1635 [==============================] - 0s 14us/sample - loss: 0.1451 - acc: 0.9560 - val_loss: 0.8611 - val_acc: 0.8093\n",
            "Train on 1635 samples, validate on 409 samples\n",
            "1635/1635 [==============================] - 0s 15us/sample - loss: 0.1495 - acc: 0.9541 - val_loss: 0.9577 - val_acc: 0.8117\n",
            "Train on 1635 samples, validate on 409 samples\n",
            "1635/1635 [==============================] - 0s 15us/sample - loss: 0.1554 - acc: 0.9474 - val_loss: 0.8943 - val_acc: 0.8142\n",
            "Train on 1635 samples, validate on 409 samples\n",
            "1635/1635 [==============================] - 0s 15us/sample - loss: 0.1535 - acc: 0.9498 - val_loss: 0.7689 - val_acc: 0.8142\n",
            "Train on 1635 samples, validate on 409 samples\n",
            "1635/1635 [==============================] - 0s 14us/sample - loss: 0.1615 - acc: 0.9450 - val_loss: 0.9253 - val_acc: 0.8117\n",
            "Train on 1635 samples, validate on 409 samples\n",
            "1635/1635 [==============================] - 0s 16us/sample - loss: 0.1530 - acc: 0.9511 - val_loss: 0.9500 - val_acc: 0.8142\n",
            "Train on 1635 samples, validate on 409 samples\n",
            "1635/1635 [==============================] - 0s 13us/sample - loss: 0.1658 - acc: 0.9401 - val_loss: 0.8031 - val_acc: 0.8093\n",
            "Train on 1635 samples, validate on 409 samples\n",
            "1635/1635 [==============================] - 0s 18us/sample - loss: 0.1582 - acc: 0.9431 - val_loss: 0.8137 - val_acc: 0.7995\n",
            "Train on 1635 samples, validate on 409 samples\n",
            "1635/1635 [==============================] - 0s 15us/sample - loss: 0.1487 - acc: 0.9511 - val_loss: 0.9212 - val_acc: 0.8117\n",
            "Train on 1635 samples, validate on 409 samples\n",
            "1635/1635 [==============================] - 0s 16us/sample - loss: 0.1477 - acc: 0.9523 - val_loss: 0.8768 - val_acc: 0.8068\n",
            "Train on 1635 samples, validate on 409 samples\n",
            "1635/1635 [==============================] - 0s 15us/sample - loss: 0.1510 - acc: 0.9486 - val_loss: 0.8609 - val_acc: 0.8068\n",
            "Train on 1635 samples, validate on 409 samples\n",
            "1635/1635 [==============================] - 0s 17us/sample - loss: 0.1515 - acc: 0.9517 - val_loss: 0.8379 - val_acc: 0.8117\n",
            "Train on 1635 samples, validate on 409 samples\n",
            "1635/1635 [==============================] - 0s 14us/sample - loss: 0.1453 - acc: 0.9529 - val_loss: 0.8330 - val_acc: 0.8117\n",
            "Train on 1635 samples, validate on 409 samples\n",
            "1635/1635 [==============================] - 0s 13us/sample - loss: 0.1432 - acc: 0.9560 - val_loss: 0.9333 - val_acc: 0.8093\n",
            "Train on 1635 samples, validate on 409 samples\n",
            "1635/1635 [==============================] - 0s 14us/sample - loss: 0.1465 - acc: 0.9547 - val_loss: 0.8268 - val_acc: 0.8093\n",
            "Train on 1635 samples, validate on 409 samples\n",
            "1635/1635 [==============================] - 0s 18us/sample - loss: 0.1488 - acc: 0.9505 - val_loss: 0.8322 - val_acc: 0.8068\n",
            "Train on 1635 samples, validate on 409 samples\n",
            "1635/1635 [==============================] - 0s 16us/sample - loss: 0.1469 - acc: 0.9529 - val_loss: 0.8094 - val_acc: 0.8068\n",
            "Train on 1635 samples, validate on 409 samples\n",
            "1635/1635 [==============================] - 0s 16us/sample - loss: 0.1545 - acc: 0.9498 - val_loss: 0.9435 - val_acc: 0.8117\n",
            "Train on 1635 samples, validate on 409 samples\n",
            "1635/1635 [==============================] - 0s 16us/sample - loss: 0.1531 - acc: 0.9505 - val_loss: 0.7994 - val_acc: 0.8093\n",
            "Train on 1635 samples, validate on 409 samples\n",
            "1635/1635 [==============================] - 0s 17us/sample - loss: 0.1533 - acc: 0.9468 - val_loss: 0.8844 - val_acc: 0.8117\n",
            "Train on 1635 samples, validate on 409 samples\n",
            "1635/1635 [==============================] - 0s 17us/sample - loss: 0.1505 - acc: 0.9498 - val_loss: 0.8907 - val_acc: 0.8044\n",
            "Train on 1635 samples, validate on 409 samples\n",
            "1635/1635 [==============================] - 0s 17us/sample - loss: 0.1517 - acc: 0.9498 - val_loss: 0.8373 - val_acc: 0.8093\n",
            "Train on 1635 samples, validate on 409 samples\n",
            "1635/1635 [==============================] - 0s 16us/sample - loss: 0.1494 - acc: 0.9529 - val_loss: 0.9364 - val_acc: 0.8166\n",
            "Train on 1635 samples, validate on 409 samples\n",
            "1635/1635 [==============================] - 0s 16us/sample - loss: 0.1556 - acc: 0.9492 - val_loss: 0.8053 - val_acc: 0.7995\n",
            "Train on 1635 samples, validate on 409 samples\n",
            "1635/1635 [==============================] - 0s 21us/sample - loss: 0.1551 - acc: 0.9468 - val_loss: 0.8341 - val_acc: 0.8117\n",
            "Train on 1635 samples, validate on 409 samples\n",
            "1635/1635 [==============================] - 0s 24us/sample - loss: 0.1461 - acc: 0.9547 - val_loss: 0.9397 - val_acc: 0.8142\n",
            "Train on 1635 samples, validate on 409 samples\n",
            "1635/1635 [==============================] - 0s 13us/sample - loss: 0.1593 - acc: 0.9450 - val_loss: 0.7976 - val_acc: 0.8117\n",
            "Train on 1635 samples, validate on 409 samples\n",
            "1635/1635 [==============================] - 0s 15us/sample - loss: 0.1545 - acc: 0.9480 - val_loss: 0.8971 - val_acc: 0.8093\n",
            "Train on 1635 samples, validate on 409 samples\n",
            "1635/1635 [==============================] - 0s 14us/sample - loss: 0.1513 - acc: 0.9492 - val_loss: 0.8571 - val_acc: 0.8142\n",
            "Train on 1635 samples, validate on 409 samples\n",
            "1635/1635 [==============================] - 0s 17us/sample - loss: 0.1499 - acc: 0.9498 - val_loss: 0.8508 - val_acc: 0.7995\n",
            "Train on 1635 samples, validate on 409 samples\n",
            "1635/1635 [==============================] - 0s 14us/sample - loss: 0.1477 - acc: 0.9498 - val_loss: 0.8268 - val_acc: 0.8068\n",
            "Train on 1635 samples, validate on 409 samples\n",
            "1635/1635 [==============================] - 0s 15us/sample - loss: 0.1531 - acc: 0.9505 - val_loss: 0.9036 - val_acc: 0.8093\n",
            "Train on 1635 samples, validate on 409 samples\n",
            "1635/1635 [==============================] - 0s 16us/sample - loss: 0.1457 - acc: 0.9529 - val_loss: 0.9208 - val_acc: 0.8093\n",
            "Train on 1635 samples, validate on 409 samples\n",
            "1635/1635 [==============================] - 0s 19us/sample - loss: 0.1465 - acc: 0.9560 - val_loss: 0.8292 - val_acc: 0.7995\n",
            "Train on 1635 samples, validate on 409 samples\n",
            "1635/1635 [==============================] - 0s 14us/sample - loss: 0.1489 - acc: 0.9535 - val_loss: 0.8049 - val_acc: 0.8166\n",
            "Train on 1635 samples, validate on 409 samples\n",
            "1635/1635 [==============================] - 0s 17us/sample - loss: 0.1539 - acc: 0.9474 - val_loss: 0.8854 - val_acc: 0.8117\n",
            "Train on 1635 samples, validate on 409 samples\n",
            "1635/1635 [==============================] - 0s 15us/sample - loss: 0.1475 - acc: 0.9511 - val_loss: 0.8524 - val_acc: 0.8093\n",
            "Train on 1635 samples, validate on 409 samples\n",
            "1635/1635 [==============================] - 0s 13us/sample - loss: 0.1485 - acc: 0.9505 - val_loss: 0.9009 - val_acc: 0.8044\n",
            "Train on 1635 samples, validate on 409 samples\n",
            "1635/1635 [==============================] - 0s 15us/sample - loss: 0.1453 - acc: 0.9517 - val_loss: 0.9404 - val_acc: 0.8166\n",
            "Train on 1635 samples, validate on 409 samples\n",
            "1635/1635 [==============================] - 0s 12us/sample - loss: 0.1483 - acc: 0.9517 - val_loss: 0.8477 - val_acc: 0.7995\n",
            "Train on 1635 samples, validate on 409 samples\n",
            "1635/1635 [==============================] - 0s 12us/sample - loss: 0.1476 - acc: 0.9529 - val_loss: 0.8551 - val_acc: 0.8020\n",
            "Train on 1635 samples, validate on 409 samples\n",
            "1635/1635 [==============================] - 0s 13us/sample - loss: 0.1507 - acc: 0.9486 - val_loss: 0.8609 - val_acc: 0.8044\n",
            "Train on 1635 samples, validate on 409 samples\n",
            "1635/1635 [==============================] - 0s 13us/sample - loss: 0.1534 - acc: 0.9480 - val_loss: 0.9146 - val_acc: 0.8068\n",
            "Train on 1635 samples, validate on 409 samples\n",
            "1635/1635 [==============================] - 0s 15us/sample - loss: 0.1463 - acc: 0.9511 - val_loss: 0.8583 - val_acc: 0.8044\n",
            "Train on 1635 samples, validate on 409 samples\n",
            "1635/1635 [==============================] - 0s 15us/sample - loss: 0.1480 - acc: 0.9523 - val_loss: 0.9623 - val_acc: 0.8068\n",
            "Train on 1635 samples, validate on 409 samples\n",
            "1635/1635 [==============================] - 0s 14us/sample - loss: 0.1581 - acc: 0.9431 - val_loss: 0.8386 - val_acc: 0.8142\n",
            "Train on 1635 samples, validate on 409 samples\n",
            "1635/1635 [==============================] - 0s 16us/sample - loss: 0.1450 - acc: 0.9511 - val_loss: 0.8218 - val_acc: 0.8142\n",
            "Train on 1635 samples, validate on 409 samples\n",
            "1635/1635 [==============================] - 0s 13us/sample - loss: 0.1459 - acc: 0.9511 - val_loss: 0.9698 - val_acc: 0.8240\n",
            "Train on 1635 samples, validate on 409 samples\n",
            "1635/1635 [==============================] - 0s 14us/sample - loss: 0.1505 - acc: 0.9492 - val_loss: 0.8500 - val_acc: 0.8068\n",
            "Train on 1635 samples, validate on 409 samples\n",
            "1635/1635 [==============================] - 0s 13us/sample - loss: 0.1434 - acc: 0.9523 - val_loss: 0.8469 - val_acc: 0.8093\n",
            "Train on 1635 samples, validate on 409 samples\n",
            "1635/1635 [==============================] - 0s 12us/sample - loss: 0.1453 - acc: 0.9529 - val_loss: 0.8965 - val_acc: 0.8117\n",
            "Train on 1635 samples, validate on 409 samples\n",
            "1635/1635 [==============================] - 0s 14us/sample - loss: 0.1452 - acc: 0.9492 - val_loss: 0.8442 - val_acc: 0.8117\n",
            "Train on 1635 samples, validate on 409 samples\n",
            "1635/1635 [==============================] - 0s 15us/sample - loss: 0.1446 - acc: 0.9547 - val_loss: 0.8557 - val_acc: 0.8166\n",
            "Train on 1635 samples, validate on 409 samples\n",
            "1635/1635 [==============================] - 0s 13us/sample - loss: 0.1479 - acc: 0.9535 - val_loss: 0.9322 - val_acc: 0.8068\n",
            "Train on 1635 samples, validate on 409 samples\n",
            "1635/1635 [==============================] - 0s 18us/sample - loss: 0.1440 - acc: 0.9541 - val_loss: 0.8460 - val_acc: 0.8044\n",
            "Train on 1635 samples, validate on 409 samples\n",
            "1635/1635 [==============================] - 0s 15us/sample - loss: 0.1454 - acc: 0.9517 - val_loss: 0.8730 - val_acc: 0.8044\n",
            "Train on 1635 samples, validate on 409 samples\n",
            "1635/1635 [==============================] - 0s 14us/sample - loss: 0.1469 - acc: 0.9517 - val_loss: 0.8782 - val_acc: 0.8093\n",
            "Train on 1635 samples, validate on 409 samples\n",
            "1635/1635 [==============================] - 0s 14us/sample - loss: 0.1479 - acc: 0.9486 - val_loss: 0.9602 - val_acc: 0.8117\n",
            "Train on 1635 samples, validate on 409 samples\n",
            "1635/1635 [==============================] - 0s 14us/sample - loss: 0.1576 - acc: 0.9431 - val_loss: 0.9234 - val_acc: 0.8142\n",
            "Train on 1635 samples, validate on 409 samples\n",
            "1635/1635 [==============================] - 0s 15us/sample - loss: 0.1525 - acc: 0.9480 - val_loss: 0.7988 - val_acc: 0.8068\n",
            "Train on 1635 samples, validate on 409 samples\n",
            "1635/1635 [==============================] - 0s 14us/sample - loss: 0.1655 - acc: 0.9401 - val_loss: 0.8893 - val_acc: 0.8093\n",
            "Train on 1635 samples, validate on 409 samples\n",
            "1635/1635 [==============================] - 0s 14us/sample - loss: 0.1467 - acc: 0.9523 - val_loss: 0.9361 - val_acc: 0.8093\n",
            "Train on 1635 samples, validate on 409 samples\n",
            "1635/1635 [==============================] - 0s 14us/sample - loss: 0.1461 - acc: 0.9529 - val_loss: 0.8817 - val_acc: 0.8117\n",
            "Train on 1635 samples, validate on 409 samples\n",
            "1635/1635 [==============================] - 0s 13us/sample - loss: 0.1424 - acc: 0.9596 - val_loss: 0.8609 - val_acc: 0.8044\n",
            "Train on 1635 samples, validate on 409 samples\n",
            "1635/1635 [==============================] - 0s 14us/sample - loss: 0.1442 - acc: 0.9547 - val_loss: 0.8732 - val_acc: 0.8093\n",
            "Train on 1635 samples, validate on 409 samples\n",
            "1635/1635 [==============================] - 0s 18us/sample - loss: 0.1445 - acc: 0.9535 - val_loss: 0.8421 - val_acc: 0.8044\n",
            "Train on 1635 samples, validate on 409 samples\n",
            "1635/1635 [==============================] - 0s 14us/sample - loss: 0.1445 - acc: 0.9529 - val_loss: 0.8701 - val_acc: 0.8191\n",
            "Train on 1635 samples, validate on 409 samples\n",
            "1635/1635 [==============================] - 0s 17us/sample - loss: 0.1471 - acc: 0.9560 - val_loss: 0.9244 - val_acc: 0.8093\n",
            "Train on 1635 samples, validate on 409 samples\n",
            "1635/1635 [==============================] - 0s 15us/sample - loss: 0.1454 - acc: 0.9492 - val_loss: 0.8702 - val_acc: 0.8068\n",
            "Train on 1635 samples, validate on 409 samples\n",
            "1635/1635 [==============================] - 0s 16us/sample - loss: 0.1438 - acc: 0.9541 - val_loss: 0.8614 - val_acc: 0.8117\n",
            "Train on 1635 samples, validate on 409 samples\n",
            "1635/1635 [==============================] - 0s 17us/sample - loss: 0.1420 - acc: 0.9554 - val_loss: 0.8885 - val_acc: 0.8093\n",
            "Train on 1635 samples, validate on 409 samples\n",
            "1635/1635 [==============================] - 0s 13us/sample - loss: 0.1428 - acc: 0.9566 - val_loss: 0.9001 - val_acc: 0.8093\n",
            "Train on 1635 samples, validate on 409 samples\n",
            "1635/1635 [==============================] - 0s 14us/sample - loss: 0.1519 - acc: 0.9480 - val_loss: 0.8305 - val_acc: 0.7995\n",
            "Train on 1635 samples, validate on 409 samples\n",
            "1635/1635 [==============================] - 0s 15us/sample - loss: 0.1521 - acc: 0.9505 - val_loss: 0.8577 - val_acc: 0.8020\n",
            "Train on 1635 samples, validate on 409 samples\n",
            "1635/1635 [==============================] - 0s 17us/sample - loss: 0.1536 - acc: 0.9517 - val_loss: 0.9244 - val_acc: 0.8068\n",
            "Train on 1635 samples, validate on 409 samples\n",
            "1635/1635 [==============================] - 0s 17us/sample - loss: 0.1523 - acc: 0.9468 - val_loss: 0.9159 - val_acc: 0.8044\n",
            "Train on 1635 samples, validate on 409 samples\n",
            "1635/1635 [==============================] - 0s 16us/sample - loss: 0.1456 - acc: 0.9498 - val_loss: 0.8751 - val_acc: 0.8020\n",
            "Train on 1635 samples, validate on 409 samples\n",
            "1635/1635 [==============================] - 0s 18us/sample - loss: 0.1440 - acc: 0.9535 - val_loss: 0.9090 - val_acc: 0.8166\n",
            "Train on 1635 samples, validate on 409 samples\n",
            "1635/1635 [==============================] - 0s 15us/sample - loss: 0.1545 - acc: 0.9431 - val_loss: 0.8451 - val_acc: 0.8093\n",
            "Train on 1635 samples, validate on 409 samples\n",
            "1635/1635 [==============================] - 0s 15us/sample - loss: 0.1506 - acc: 0.9511 - val_loss: 0.8471 - val_acc: 0.8093\n",
            "Train on 1635 samples, validate on 409 samples\n",
            "1635/1635 [==============================] - 0s 14us/sample - loss: 0.1479 - acc: 0.9492 - val_loss: 0.8481 - val_acc: 0.8191\n",
            "Train on 1635 samples, validate on 409 samples\n",
            "1635/1635 [==============================] - 0s 17us/sample - loss: 0.1409 - acc: 0.9560 - val_loss: 0.9520 - val_acc: 0.8142\n",
            "Train on 1635 samples, validate on 409 samples\n",
            "1635/1635 [==============================] - 0s 20us/sample - loss: 0.1472 - acc: 0.9505 - val_loss: 0.8707 - val_acc: 0.8068\n",
            "Train on 1635 samples, validate on 409 samples\n",
            "1635/1635 [==============================] - 0s 16us/sample - loss: 0.1413 - acc: 0.9541 - val_loss: 0.8980 - val_acc: 0.8117\n",
            "Train on 1635 samples, validate on 409 samples\n",
            "1635/1635 [==============================] - 0s 16us/sample - loss: 0.1395 - acc: 0.9584 - val_loss: 0.9110 - val_acc: 0.8240\n",
            "Train on 1635 samples, validate on 409 samples\n",
            "1635/1635 [==============================] - 0s 14us/sample - loss: 0.1452 - acc: 0.9523 - val_loss: 0.8492 - val_acc: 0.8044\n",
            "Train on 1635 samples, validate on 409 samples\n",
            "1635/1635 [==============================] - 0s 15us/sample - loss: 0.1436 - acc: 0.9517 - val_loss: 0.8780 - val_acc: 0.8166\n",
            "Train on 1635 samples, validate on 409 samples\n",
            "1635/1635 [==============================] - 0s 15us/sample - loss: 0.1415 - acc: 0.9535 - val_loss: 0.8903 - val_acc: 0.8142\n"
          ],
          "name": "stdout"
        }
      ]
    },
    {
      "cell_type": "code",
      "metadata": {
        "id": "vMlUZj2PArIp",
        "colab_type": "code",
        "colab": {
          "base_uri": "https://localhost:8080/",
          "height": 643
        },
        "outputId": "50359679-8b00-42a5-c777-e0e8d99317f6"
      },
      "source": [
        "import matplotlib.pyplot as plt\n",
        "import seaborn as sns\n",
        "sns.set()\n",
        "plt.figure(num=None, figsize=(16, 8), dpi=90, facecolor='w', edgecolor='k')\n",
        "plt.plot()\n",
        "plt.plot(train_acc)\n",
        "plt.plot(val_acc)\n",
        "plt.title('model accuracy')\n",
        "plt.ylabel('accuracy')\n",
        "plt.xlabel('epoch')\n",
        "plt.legend(['Train', 'Test'], loc='upper left')\n",
        "plt.show()"
      ],
      "execution_count": 44,
      "outputs": [
        {
          "output_type": "display_data",
          "data": {
            "image/png": "[encoded data removed]",
            "text/plain": [
              "<Figure size 1440x720 with 1 Axes>"
            ]
          },
          "metadata": {
            "tags": []
          }
        }
      ]
    },
    {
      "cell_type": "code",
      "metadata": {
        "id": "eNjPrfOUAy1B",
        "colab_type": "code",
        "colab": {
          "base_uri": "https://localhost:8080/",
          "height": 34
        },
        "outputId": "106c4349-afe9-4a77-c77e-1f4fb4028513"
      },
      "source": [
        "y_predict = np.round(model.predict(X_test_norm))\n",
        "y_predict = [i[0] for i in y_predict.tolist()]\n",
        "sum(y_predict == y_test)/len(y_test)"
      ],
      "execution_count": 45,
      "outputs": [
        {
          "output_type": "execute_result",
          "data": {
            "text/plain": [
              "0.8515625"
            ]
          },
          "metadata": {
            "tags": []
          },
          "execution_count": 45
        }
      ]
    },
    {
      "cell_type": "code",
      "metadata": {
        "id": "w9seTQDfA3Nx",
        "colab_type": "code",
        "colab": {}
      },
      "source": [
        ""
      ],
      "execution_count": 0,
      "outputs": []
    }
  ]
}