{
  "nbformat": 4,
  "nbformat_minor": 0,
  "metadata": {
    "colab": {
      "name": "python2.ipynb",
      "provenance": [],
      "collapsed_sections": [],
      "include_colab_link": true
    },
    "kernelspec": {
      "name": "python3",
      "display_name": "Python 3"
    }
  },
  "cells": [
    {
      "cell_type": "markdown",
      "metadata": {
        "id": "view-in-github",
        "colab_type": "text"
      },
      "source": [
        "<a href=\"https://colab.research.google.com/github/Pimmiiiu/DW/blob/master/python2.ipynb\" target=\"_parent\"><img src=\"https://colab.research.google.com/assets/colab-badge.svg\" alt=\"Open In Colab\"/></a>"
      ]
    },
    {
      "cell_type": "markdown",
      "metadata": {
        "id": "GjbOd4m7iTZk",
        "colab_type": "text"
      },
      "source": [
        "#Hello PyThon\n",
        "##Hello PyThon\n",
        "###Hello Python\n",
        "This is my first python"
      ]
    },
    {
      "cell_type": "code",
      "metadata": {
        "id": "MMMMMeDWh3w4",
        "colab_type": "code",
        "outputId": "fb474b03-219b-4870-b691-00fac11c0b09",
        "colab": {
          "base_uri": "https://localhost:8080/",
          "height": 34
        }
      },
      "source": [
        "print(\"Hello World\")"
      ],
      "execution_count": 0,
      "outputs": [
        {
          "output_type": "stream",
          "text": [
            "Hello World\n"
          ],
          "name": "stdout"
        }
      ]
    },
    {
      "cell_type": "markdown",
      "metadata": {
        "id": "T9KkIdtYjMY7",
        "colab_type": "text"
      },
      "source": [
        "#declare Variable\n",
        "How to declare variable in python"
      ]
    },
    {
      "cell_type": "code",
      "metadata": {
        "id": "ln5U2Ploi5Co",
        "colab_type": "code",
        "outputId": "f05b3620-716a-441a-978a-a3e46334254d",
        "colab": {
          "base_uri": "https://localhost:8080/",
          "height": 34
        }
      },
      "source": [
        "score = 100\n",
        "name =\"Pukjira\"\n",
        "print(\" Name is \"+ name + \" Score is \" + str(score))"
      ],
      "execution_count": 0,
      "outputs": [
        {
          "output_type": "stream",
          "text": [
            " Name is Pukjira Score is 100\n"
          ],
          "name": "stdout"
        }
      ]
    },
    {
      "cell_type": "code",
      "metadata": {
        "id": "f1QqmDT-kDqa",
        "colab_type": "code",
        "outputId": "c68584fd-d295-433b-c9c7-e49c992b2c81",
        "colab": {
          "base_uri": "https://localhost:8080/",
          "height": 34
        }
      },
      "source": [
        "a = 2\n",
        "b = 3\n",
        "c = a * b\n",
        "print(c)"
      ],
      "execution_count": 0,
      "outputs": [
        {
          "output_type": "stream",
          "text": [
            "6\n"
          ],
          "name": "stdout"
        }
      ]
    },
    {
      "cell_type": "markdown",
      "metadata": {
        "id": "kA1yDwbFmu7g",
        "colab_type": "text"
      },
      "source": [
        "#List\n",
        "How to use list python\n"
      ]
    },
    {
      "cell_type": "code",
      "metadata": {
        "id": "03u7-B0ImmJK",
        "colab_type": "code",
        "outputId": "91c6b19a-4b6b-418e-9a02-24a8f615668e",
        "colab": {
          "base_uri": "https://localhost:8080/",
          "height": 34
        }
      },
      "source": [
        "mylist = []\n",
        "mylist.append(\"Pukjira\")\n",
        "mylist.append(500)\n",
        "mylist"
      ],
      "execution_count": 0,
      "outputs": [
        {
          "output_type": "execute_result",
          "data": {
            "text/plain": [
              "['Pukjira', 500]"
            ]
          },
          "metadata": {
            "tags": []
          },
          "execution_count": 9
        }
      ]
    },
    {
      "cell_type": "markdown",
      "metadata": {
        "id": "lQQjRnr1nJeX",
        "colab_type": "text"
      },
      "source": [
        "How to count Data in list"
      ]
    },
    {
      "cell_type": "code",
      "metadata": {
        "id": "nwN1qJApnGzc",
        "colab_type": "code",
        "outputId": "ddc5712b-5279-47a2-d34a-ce5588996c8a",
        "colab": {
          "base_uri": "https://localhost:8080/",
          "height": 34
        }
      },
      "source": [
        "len(mylist)"
      ],
      "execution_count": 0,
      "outputs": [
        {
          "output_type": "execute_result",
          "data": {
            "text/plain": [
              "2"
            ]
          },
          "metadata": {
            "tags": []
          },
          "execution_count": 5
        }
      ]
    },
    {
      "cell_type": "markdown",
      "metadata": {
        "id": "D7jh3AZ5nwTX",
        "colab_type": "text"
      },
      "source": [
        "#If Else \n"
      ]
    },
    {
      "cell_type": "code",
      "metadata": {
        "id": "5zVDwlqbn03I",
        "colab_type": "code",
        "outputId": "f90b725c-2110-4c53-8183-0d4d13e2c13b",
        "colab": {
          "base_uri": "https://localhost:8080/",
          "height": 34
        }
      },
      "source": [
        "if mylist[1] < 100 :\n",
        "  name = mylist[0]\n",
        "  score = mylist[1]\n",
        "  print(name + \" \" + str(score))\n",
        "elif mylist[1] >= 100 :\n",
        "  print(\"Passssss\")\n",
        "elif mylist[1] > 500 :\n",
        "  print(\"A\")"
      ],
      "execution_count": 0,
      "outputs": [
        {
          "output_type": "stream",
          "text": [
            "Passssss\n"
          ],
          "name": "stdout"
        }
      ]
    },
    {
      "cell_type": "code",
      "metadata": {
        "id": "EsfcqDI9oJeu",
        "colab_type": "code",
        "outputId": "5aa97bbe-df86-45af-8e35-05b58979dd4a",
        "colab": {
          "base_uri": "https://localhost:8080/",
          "height": 34
        }
      },
      "source": [
        "score = 5\n",
        "if score < 2 :\n",
        "  print(\"C\")\n",
        "elif score <= 4 :\n",
        "  print(\"B\")\n",
        "elif score >= 5:\n",
        "  print(\"A\")"
      ],
      "execution_count": 0,
      "outputs": [
        {
          "output_type": "stream",
          "text": [
            "A\n"
          ],
          "name": "stdout"
        }
      ]
    },
    {
      "cell_type": "markdown",
      "metadata": {
        "id": "O_8uWBa9p7X5",
        "colab_type": "text"
      },
      "source": [
        "#For loop"
      ]
    },
    {
      "cell_type": "code",
      "metadata": {
        "id": "-7lJvhKdp_JF",
        "colab_type": "code",
        "outputId": "f89b8e6c-b0f1-4a4a-872d-1217e1c753d8",
        "colab": {
          "base_uri": "https://localhost:8080/",
          "height": 204
        }
      },
      "source": [
        "summation = 0\n",
        "for i in range(0,10) :\n",
        "  print(str(i))\n",
        "  summation = summation + 1\n",
        "print(\"The summation result is \" + str(summation))\n"
      ],
      "execution_count": 0,
      "outputs": [
        {
          "output_type": "stream",
          "text": [
            "0\n",
            "1\n",
            "2\n",
            "3\n",
            "4\n",
            "5\n",
            "6\n",
            "7\n",
            "8\n",
            "9\n",
            "The summation result is 10\n"
          ],
          "name": "stdout"
        }
      ]
    },
    {
      "cell_type": "code",
      "metadata": {
        "id": "tkfHATVyrBr9",
        "colab_type": "code",
        "outputId": "67605e04-197b-4538-834b-682866a66bab",
        "colab": {
          "base_uri": "https://localhost:8080/",
          "height": 170
        }
      },
      "source": [
        "summation = []\n",
        "for i in range(1,10) :\n",
        "  summation.append(i)\n",
        "  \n",
        "for i in summation :\n",
        "  print(str(i))"
      ],
      "execution_count": 0,
      "outputs": [
        {
          "output_type": "stream",
          "text": [
            "1\n",
            "2\n",
            "3\n",
            "4\n",
            "5\n",
            "6\n",
            "7\n",
            "8\n",
            "9\n"
          ],
          "name": "stdout"
        }
      ]
    },
    {
      "cell_type": "code",
      "metadata": {
        "id": "yjfI9fcOsR0F",
        "colab_type": "code",
        "outputId": "f6495d28-7ed6-43ce-d49a-052dc963c63d",
        "colab": {
          "base_uri": "https://localhost:8080/",
          "height": 187
        }
      },
      "source": [
        "summation = []\n",
        "for i in range(0,10) :\n",
        "  a = i * 2\n",
        "  summation.append(a)\n",
        "  print(str(a))"
      ],
      "execution_count": 0,
      "outputs": [
        {
          "output_type": "stream",
          "text": [
            "0\n",
            "2\n",
            "4\n",
            "6\n",
            "8\n",
            "10\n",
            "12\n",
            "14\n",
            "16\n",
            "18\n"
          ],
          "name": "stdout"
        }
      ]
    },
    {
      "cell_type": "markdown",
      "metadata": {
        "id": "bcBBrI0tvUUU",
        "colab_type": "text"
      },
      "source": [
        "#Numpy"
      ]
    },
    {
      "cell_type": "code",
      "metadata": {
        "id": "WiF6MCrpvXrQ",
        "colab_type": "code",
        "colab": {}
      },
      "source": [
        "import numpy as np"
      ],
      "execution_count": 0,
      "outputs": []
    },
    {
      "cell_type": "code",
      "metadata": {
        "id": "N2LYopEOvgfs",
        "colab_type": "code",
        "outputId": "41164089-9966-49d3-d552-2a94624fe4c8",
        "colab": {
          "base_uri": "https://localhost:8080/",
          "height": 34
        }
      },
      "source": [
        "l = [1,2,3,4]\n",
        "np_array = np.array(l)\n",
        "type(np_array)\n"
      ],
      "execution_count": 0,
      "outputs": [
        {
          "output_type": "execute_result",
          "data": {
            "text/plain": [
              "numpy.ndarray"
            ]
          },
          "metadata": {
            "tags": []
          },
          "execution_count": 6
        }
      ]
    },
    {
      "cell_type": "markdown",
      "metadata": {
        "id": "5o6mbdXzwueo",
        "colab_type": "text"
      },
      "source": [
        "creat Matrix in array format"
      ]
    },
    {
      "cell_type": "code",
      "metadata": {
        "id": "B2eEOJlHwTTm",
        "colab_type": "code",
        "colab": {}
      },
      "source": [
        "np_matrix = np.array([[1,2],[3,4],[5,6]])"
      ],
      "execution_count": 0,
      "outputs": []
    },
    {
      "cell_type": "code",
      "metadata": {
        "id": "d-KzBq5Iw_an",
        "colab_type": "code",
        "outputId": "b12901e4-9e2b-4dd7-e942-902eeffd5bf0",
        "colab": {
          "base_uri": "https://localhost:8080/",
          "height": 68
        }
      },
      "source": [
        "np_matrix"
      ],
      "execution_count": 4,
      "outputs": [
        {
          "output_type": "execute_result",
          "data": {
            "text/plain": [
              "array([[1, 2],\n",
              "       [3, 4],\n",
              "       [5, 6]])"
            ]
          },
          "metadata": {
            "tags": []
          },
          "execution_count": 4
        }
      ]
    },
    {
      "cell_type": "markdown",
      "metadata": {
        "id": "KJflynQgxDd4",
        "colab_type": "text"
      },
      "source": [
        "Check the dimension of this matrix"
      ]
    },
    {
      "cell_type": "code",
      "metadata": {
        "id": "IUsMPnUexBnI",
        "colab_type": "code",
        "outputId": "5d651704-5ce8-47ff-e1d3-7b62bd6c7aed",
        "colab": {
          "base_uri": "https://localhost:8080/",
          "height": 34
        }
      },
      "source": [
        "np.size(np_matrix,0)"
      ],
      "execution_count": 0,
      "outputs": [
        {
          "output_type": "execute_result",
          "data": {
            "text/plain": [
              "3"
            ]
          },
          "metadata": {
            "tags": []
          },
          "execution_count": 44
        }
      ]
    },
    {
      "cell_type": "code",
      "metadata": {
        "id": "Wcb7o-HKxRrW",
        "colab_type": "code",
        "outputId": "aa21ad50-91de-4241-c542-8605e9e4a83a",
        "colab": {
          "base_uri": "https://localhost:8080/",
          "height": 34
        }
      },
      "source": [
        "np.size(np_matrix,1)"
      ],
      "execution_count": 0,
      "outputs": [
        {
          "output_type": "execute_result",
          "data": {
            "text/plain": [
              "2"
            ]
          },
          "metadata": {
            "tags": []
          },
          "execution_count": 45
        }
      ]
    },
    {
      "cell_type": "markdown",
      "metadata": {
        "id": "5n4PyzuFxYCX",
        "colab_type": "text"
      },
      "source": [
        "Check other matrix proerties"
      ]
    },
    {
      "cell_type": "code",
      "metadata": {
        "id": "cmFeGEG6xWdO",
        "colab_type": "code",
        "outputId": "a05ff144-1d57-4688-b8ad-4282b82ab3ce",
        "colab": {
          "base_uri": "https://localhost:8080/",
          "height": 34
        }
      },
      "source": [
        "np_matrix.shape"
      ],
      "execution_count": 0,
      "outputs": [
        {
          "output_type": "execute_result",
          "data": {
            "text/plain": [
              "(3, 2)"
            ]
          },
          "metadata": {
            "tags": []
          },
          "execution_count": 46
        }
      ]
    },
    {
      "cell_type": "code",
      "metadata": {
        "id": "b4pzLRubxled",
        "colab_type": "code",
        "outputId": "7bdb1ef6-91ae-4161-8dba-8506a982317a",
        "colab": {
          "base_uri": "https://localhost:8080/",
          "height": 34
        }
      },
      "source": [
        "np_matrix.ndim"
      ],
      "execution_count": 0,
      "outputs": [
        {
          "output_type": "execute_result",
          "data": {
            "text/plain": [
              "2"
            ]
          },
          "metadata": {
            "tags": []
          },
          "execution_count": 47
        }
      ]
    },
    {
      "cell_type": "code",
      "metadata": {
        "id": "AW5sv4yFxppt",
        "colab_type": "code",
        "outputId": "427962db-94d2-4aca-f486-7b2eeffcd192",
        "colab": {
          "base_uri": "https://localhost:8080/",
          "height": 34
        }
      },
      "source": [
        "np_matrix.size"
      ],
      "execution_count": 0,
      "outputs": [
        {
          "output_type": "execute_result",
          "data": {
            "text/plain": [
              "6"
            ]
          },
          "metadata": {
            "tags": []
          },
          "execution_count": 48
        }
      ]
    },
    {
      "cell_type": "markdown",
      "metadata": {
        "id": "tI9d7Ng0xuuX",
        "colab_type": "text"
      },
      "source": [
        "create Matrix with Mix Data Type"
      ]
    },
    {
      "cell_type": "code",
      "metadata": {
        "id": "WAft-J_txs7t",
        "colab_type": "code",
        "colab": {}
      },
      "source": [
        "np_mix_matrix = np.array([['one',2],['three',4],['five',6]])"
      ],
      "execution_count": 0,
      "outputs": []
    },
    {
      "cell_type": "code",
      "metadata": {
        "id": "wWig_8x3yIp9",
        "colab_type": "code",
        "outputId": "d49c0df4-2b8e-43ac-b3a1-e2c02fc2c9fc",
        "colab": {
          "base_uri": "https://localhost:8080/",
          "height": 68
        }
      },
      "source": [
        "np_mix_matrix"
      ],
      "execution_count": 0,
      "outputs": [
        {
          "output_type": "execute_result",
          "data": {
            "text/plain": [
              "array([['one', '2'],\n",
              "       ['three', '4'],\n",
              "       ['five', '6']], dtype='<U5')"
            ]
          },
          "metadata": {
            "tags": []
          },
          "execution_count": 51
        }
      ]
    },
    {
      "cell_type": "markdown",
      "metadata": {
        "id": "5Ql7V3drycye",
        "colab_type": "text"
      },
      "source": [
        "Random matrix of size = (5,5)\n"
      ]
    },
    {
      "cell_type": "code",
      "metadata": {
        "id": "wKSBUfPRyi62",
        "colab_type": "code",
        "outputId": "071e7acf-c1b1-4f5e-d1e4-0d8a6389d9dd",
        "colab": {
          "base_uri": "https://localhost:8080/",
          "height": 102
        }
      },
      "source": [
        "np.random.rand(5,5)"
      ],
      "execution_count": 0,
      "outputs": [
        {
          "output_type": "execute_result",
          "data": {
            "text/plain": [
              "array([[0.30152584, 0.18563855, 0.33803532, 0.39556245, 0.46383095],\n",
              "       [0.93901183, 0.87518267, 0.35933851, 0.41559911, 0.09234557],\n",
              "       [0.47698698, 0.33635849, 0.15404649, 0.41292343, 0.76737335],\n",
              "       [0.6161004 , 0.80052245, 0.75863691, 0.55225536, 0.68218009],\n",
              "       [0.67028248, 0.0188938 , 0.19192909, 0.91002375, 0.21024172]])"
            ]
          },
          "metadata": {
            "tags": []
          },
          "execution_count": 52
        }
      ]
    },
    {
      "cell_type": "markdown",
      "metadata": {
        "id": "yhqH3xJozEmm",
        "colab_type": "text"
      },
      "source": [
        "Random matrix of size = 3,3 having value between 0 to 4"
      ]
    },
    {
      "cell_type": "code",
      "metadata": {
        "id": "fcgqLcwJyuZO",
        "colab_type": "code",
        "outputId": "caac3311-9f71-4729-bbed-39aeae18e105",
        "colab": {
          "base_uri": "https://localhost:8080/",
          "height": 68
        }
      },
      "source": [
        "np.random.randint(5,size = (3,3))"
      ],
      "execution_count": 0,
      "outputs": [
        {
          "output_type": "execute_result",
          "data": {
            "text/plain": [
              "array([[3, 2, 1],\n",
              "       [2, 2, 2],\n",
              "       [4, 1, 2]])"
            ]
          },
          "metadata": {
            "tags": []
          },
          "execution_count": 55
        }
      ]
    },
    {
      "cell_type": "code",
      "metadata": {
        "id": "7M6eyKylzXrt",
        "colab_type": "code",
        "outputId": "89acf885-2057-4677-84c5-21e69f2da1ab",
        "colab": {
          "base_uri": "https://localhost:8080/",
          "height": 187
        }
      },
      "source": [
        "np.random.randint(2,size = (10,5))"
      ],
      "execution_count": 0,
      "outputs": [
        {
          "output_type": "execute_result",
          "data": {
            "text/plain": [
              "array([[1, 1, 0, 0, 1],\n",
              "       [1, 0, 0, 1, 0],\n",
              "       [0, 0, 0, 0, 1],\n",
              "       [0, 0, 0, 0, 1],\n",
              "       [0, 0, 1, 1, 0],\n",
              "       [0, 1, 1, 0, 0],\n",
              "       [0, 0, 0, 1, 1],\n",
              "       [0, 0, 1, 0, 0],\n",
              "       [0, 0, 0, 1, 0],\n",
              "       [0, 0, 1, 0, 1]])"
            ]
          },
          "metadata": {
            "tags": []
          },
          "execution_count": 58
        }
      ]
    },
    {
      "cell_type": "code",
      "metadata": {
        "id": "m7mDtayiz6U1",
        "colab_type": "code",
        "outputId": "0c3ac114-476e-4f35-8261-93bb8f1f2dbb",
        "colab": {
          "base_uri": "https://localhost:8080/",
          "height": 51
        }
      },
      "source": [
        "np.zeros([0,3])"
      ],
      "execution_count": 0,
      "outputs": [
        {
          "output_type": "execute_result",
          "data": {
            "text/plain": [
              "array([[0., 0., 0.],\n",
              "       [0., 0., 0.]])"
            ]
          },
          "metadata": {
            "tags": []
          },
          "execution_count": 59
        }
      ]
    },
    {
      "cell_type": "code",
      "metadata": {
        "id": "xh7sLzeM0A8V",
        "colab_type": "code",
        "outputId": "f9331800-016b-4211-e4fd-27e92196f530",
        "colab": {
          "base_uri": "https://localhost:8080/",
          "height": 34
        }
      },
      "source": [
        "np.empty([2])"
      ],
      "execution_count": 0,
      "outputs": [
        {
          "output_type": "execute_result",
          "data": {
            "text/plain": [
              "array([7.74860419e-304, 7.74860419e-304])"
            ]
          },
          "metadata": {
            "tags": []
          },
          "execution_count": 88
        }
      ]
    },
    {
      "cell_type": "markdown",
      "metadata": {
        "id": "ExevPMgi4boQ",
        "colab_type": "text"
      },
      "source": [
        "#EX 1 "
      ]
    },
    {
      "cell_type": "code",
      "metadata": {
        "id": "52ZSirLy0Wcd",
        "colab_type": "code",
        "outputId": "faf38f19-421a-4e8d-ed78-0532fdda0aa9",
        "colab": {
          "base_uri": "https://localhost:8080/",
          "height": 187
        }
      },
      "source": [
        "a = np.random.rand(10,5)\n",
        "b = np.random.randint(2,size = (10))\n",
        "a[:,4] = b\n",
        "a"
      ],
      "execution_count": 0,
      "outputs": [
        {
          "output_type": "execute_result",
          "data": {
            "text/plain": [
              "array([[0.50650412, 0.55814445, 0.37081948, 0.66074408, 1.        ],\n",
              "       [0.05422235, 0.90687007, 0.99588008, 0.71874176, 1.        ],\n",
              "       [0.9835244 , 0.08279498, 0.08328305, 0.79224835, 0.        ],\n",
              "       [0.86979757, 0.77384752, 0.56856975, 0.34248259, 0.        ],\n",
              "       [0.61483107, 0.76790444, 0.5289868 , 0.97373026, 0.        ],\n",
              "       [0.2483852 , 0.08928755, 0.76653947, 0.55827518, 0.        ],\n",
              "       [0.16746259, 0.13671579, 0.68680776, 0.03512438, 0.        ],\n",
              "       [0.88959454, 0.55660042, 0.75151943, 0.96280163, 1.        ],\n",
              "       [0.67393293, 0.14000505, 0.98631172, 0.92642796, 0.        ],\n",
              "       [0.75023848, 0.14167033, 0.98456912, 0.7021096 , 1.        ]])"
            ]
          },
          "metadata": {
            "tags": []
          },
          "execution_count": 103
        }
      ]
    },
    {
      "cell_type": "markdown",
      "metadata": {
        "id": "SeU3uRG34dc4",
        "colab_type": "text"
      },
      "source": [
        "#EX 2"
      ]
    },
    {
      "cell_type": "code",
      "metadata": {
        "id": "GhvSrHz80YIy",
        "colab_type": "code",
        "outputId": "c452b60a-d902-47a4-d191-537ddb3cff3c",
        "colab": {
          "base_uri": "https://localhost:8080/",
          "height": 187
        }
      },
      "source": [
        "np_mat = np.random.rand(10,5)\n",
        "np_mat"
      ],
      "execution_count": 0,
      "outputs": [
        {
          "output_type": "execute_result",
          "data": {
            "text/plain": [
              "array([[0.32723319, 0.87954464, 0.79726936, 0.27156608, 0.77727412],\n",
              "       [0.58809845, 0.76079966, 0.71473632, 0.76740488, 0.88013158],\n",
              "       [0.86271822, 0.88893991, 0.65004494, 0.58077892, 0.16308633],\n",
              "       [0.93413525, 0.61815425, 0.02352248, 0.51228244, 0.09712516],\n",
              "       [0.06476505, 0.04735218, 0.23285031, 0.85909544, 0.79351475],\n",
              "       [0.47423523, 0.73127133, 0.35854921, 0.99568261, 0.83019311],\n",
              "       [0.98108297, 0.97965713, 0.83810659, 0.68918721, 0.06914085],\n",
              "       [0.05000627, 0.48539428, 0.86220101, 0.08208341, 0.61490863],\n",
              "       [0.89284008, 0.54064124, 0.42760135, 0.65718893, 0.6270378 ],\n",
              "       [0.9880533 , 0.71752261, 0.5829916 , 0.94320951, 0.67552987]])"
            ]
          },
          "metadata": {
            "tags": []
          },
          "execution_count": 121
        }
      ]
    },
    {
      "cell_type": "code",
      "metadata": {
        "id": "sO4n7NnI5QHH",
        "colab_type": "code",
        "outputId": "f64a63a5-6b19-43ce-849f-d9dd68bf967c",
        "colab": {
          "base_uri": "https://localhost:8080/",
          "height": 34
        }
      },
      "source": [
        "np_mat2 = np.random.randint(3,size = (10))\n",
        "np_mat2"
      ],
      "execution_count": 0,
      "outputs": [
        {
          "output_type": "execute_result",
          "data": {
            "text/plain": [
              "array([0, 1, 1, 0, 0, 1, 2, 2, 2, 2])"
            ]
          },
          "metadata": {
            "tags": []
          },
          "execution_count": 122
        }
      ]
    },
    {
      "cell_type": "code",
      "metadata": {
        "id": "xnITRyF-6bmn",
        "colab_type": "code",
        "outputId": "be605ab6-776e-48eb-a692-20d142a7e21b",
        "colab": {
          "base_uri": "https://localhost:8080/",
          "height": 34
        }
      },
      "source": [
        "result = np.where(np_mat2 == 2 )\n",
        "result"
      ],
      "execution_count": 0,
      "outputs": [
        {
          "output_type": "execute_result",
          "data": {
            "text/plain": [
              "(array([6, 7, 8, 9]),)"
            ]
          },
          "metadata": {
            "tags": []
          },
          "execution_count": 123
        }
      ]
    },
    {
      "cell_type": "code",
      "metadata": {
        "id": "F1jbLjwl6zxR",
        "colab_type": "code",
        "outputId": "9c7b715c-451f-4eee-9da8-f2193afa77a1",
        "colab": {
          "base_uri": "https://localhost:8080/",
          "height": 85
        }
      },
      "source": [
        "np_mat[result,:]"
      ],
      "execution_count": 0,
      "outputs": [
        {
          "output_type": "execute_result",
          "data": {
            "text/plain": [
              "array([[[0.98108297, 0.97965713, 0.83810659, 0.68918721, 0.06914085],\n",
              "        [0.05000627, 0.48539428, 0.86220101, 0.08208341, 0.61490863],\n",
              "        [0.89284008, 0.54064124, 0.42760135, 0.65718893, 0.6270378 ],\n",
              "        [0.9880533 , 0.71752261, 0.5829916 , 0.94320951, 0.67552987]]])"
            ]
          },
          "metadata": {
            "tags": []
          },
          "execution_count": 124
        }
      ]
    },
    {
      "cell_type": "markdown",
      "metadata": {
        "id": "PwDMGNoKxNbg",
        "colab_type": "text"
      },
      "source": [
        "##Min Max Mean  "
      ]
    },
    {
      "cell_type": "code",
      "metadata": {
        "id": "66SnjlgUxW5U",
        "colab_type": "code",
        "colab": {}
      },
      "source": [
        "import numpy as np"
      ],
      "execution_count": 0,
      "outputs": []
    },
    {
      "cell_type": "code",
      "metadata": {
        "id": "PI1zczbsxmag",
        "colab_type": "code",
        "colab": {}
      },
      "source": [
        "np_m = np.array([[10,9],[30,9],[8,30]])"
      ],
      "execution_count": 0,
      "outputs": []
    },
    {
      "cell_type": "code",
      "metadata": {
        "id": "nG02eKuJxQzO",
        "colab_type": "code",
        "outputId": "f87301af-539b-43fe-b51c-96c6e28fd636",
        "colab": {
          "base_uri": "https://localhost:8080/",
          "height": 34
        }
      },
      "source": [
        "np.max(np_m,0)"
      ],
      "execution_count": 0,
      "outputs": [
        {
          "output_type": "execute_result",
          "data": {
            "text/plain": [
              "array([10,  9])"
            ]
          },
          "metadata": {
            "tags": []
          },
          "execution_count": 228
        }
      ]
    },
    {
      "cell_type": "code",
      "metadata": {
        "id": "2KGI2kybyMQ6",
        "colab_type": "code",
        "outputId": "1dca7aa9-8ed4-4a3e-c9ac-91570a182029",
        "colab": {
          "base_uri": "https://localhost:8080/",
          "height": 34
        }
      },
      "source": [
        "np.min(np_m,1)"
      ],
      "execution_count": 0,
      "outputs": [
        {
          "output_type": "execute_result",
          "data": {
            "text/plain": [
              "array([1, 3, 8])"
            ]
          },
          "metadata": {
            "tags": []
          },
          "execution_count": 53
        }
      ]
    },
    {
      "cell_type": "code",
      "metadata": {
        "id": "vzT3HvvhzZ4R",
        "colab_type": "code",
        "colab": {}
      },
      "source": [
        "np_m = np.array([2,3,4,5])"
      ],
      "execution_count": 0,
      "outputs": []
    },
    {
      "cell_type": "code",
      "metadata": {
        "id": "D7enBmEYzoLO",
        "colab_type": "code",
        "outputId": "8009ff69-5598-47f9-e5cd-ce302d234b90",
        "colab": {
          "base_uri": "https://localhost:8080/",
          "height": 34
        }
      },
      "source": [
        "np.size(np_m,0)"
      ],
      "execution_count": 0,
      "outputs": [
        {
          "output_type": "execute_result",
          "data": {
            "text/plain": [
              "4"
            ]
          },
          "metadata": {
            "tags": []
          },
          "execution_count": 231
        }
      ]
    },
    {
      "cell_type": "code",
      "metadata": {
        "id": "gUDLUW1TyoCx",
        "colab_type": "code",
        "outputId": "74959352-9d66-48f1-b94a-399d87dc48ea",
        "colab": {
          "base_uri": "https://localhost:8080/",
          "height": 34
        }
      },
      "source": [
        "np.mean(np_m)"
      ],
      "execution_count": 0,
      "outputs": [
        {
          "output_type": "execute_result",
          "data": {
            "text/plain": [
              "3.5"
            ]
          },
          "metadata": {
            "tags": []
          },
          "execution_count": 232
        }
      ]
    },
    {
      "cell_type": "code",
      "metadata": {
        "id": "b9OAEPMvzywb",
        "colab_type": "code",
        "outputId": "146e40f1-ce72-4579-f21c-c75ed2edb12e",
        "colab": {
          "base_uri": "https://localhost:8080/",
          "height": 34
        }
      },
      "source": [
        "np.min(np_m,0)"
      ],
      "execution_count": 0,
      "outputs": [
        {
          "output_type": "execute_result",
          "data": {
            "text/plain": [
              "2"
            ]
          },
          "metadata": {
            "tags": []
          },
          "execution_count": 233
        }
      ]
    },
    {
      "cell_type": "code",
      "metadata": {
        "id": "8EIhlhSwz3vI",
        "colab_type": "code",
        "outputId": "a0284e35-74e5-49ef-fb12-dc12c0979098",
        "colab": {
          "base_uri": "https://localhost:8080/",
          "height": 34
        }
      },
      "source": [
        "np.max(np_m,0)"
      ],
      "execution_count": 0,
      "outputs": [
        {
          "output_type": "execute_result",
          "data": {
            "text/plain": [
              "5"
            ]
          },
          "metadata": {
            "tags": []
          },
          "execution_count": 38
        }
      ]
    },
    {
      "cell_type": "code",
      "metadata": {
        "id": "q9YYVMdL0GWs",
        "colab_type": "code",
        "outputId": "8a6a1e24-6659-483c-8b33-dd10d218057e",
        "colab": {
          "base_uri": "https://localhost:8080/",
          "height": 34
        }
      },
      "source": [
        "np.median(np_m)"
      ],
      "execution_count": 0,
      "outputs": [
        {
          "output_type": "execute_result",
          "data": {
            "text/plain": [
              "3.5"
            ]
          },
          "metadata": {
            "tags": []
          },
          "execution_count": 234
        }
      ]
    },
    {
      "cell_type": "markdown",
      "metadata": {
        "id": "VcDNSV6M1XY9",
        "colab_type": "text"
      },
      "source": [
        "#EX argmax/min"
      ]
    },
    {
      "cell_type": "code",
      "metadata": {
        "id": "D8ns4cHN1WtU",
        "colab_type": "code",
        "outputId": "a2ce4eba-bc54-486d-d77e-2d5902a71a9d",
        "colab": {
          "base_uri": "https://localhost:8080/",
          "height": 85
        }
      },
      "source": [
        "ar1 = np.random.randint(0,100,(4,5))\n",
        "print(ar1)"
      ],
      "execution_count": 0,
      "outputs": [
        {
          "output_type": "stream",
          "text": [
            "[[65 89 37 92 29]\n",
            " [71 58 10 16 32]\n",
            " [27 65 33 38 34]\n",
            " [24 43 50 72 47]]\n"
          ],
          "name": "stdout"
        }
      ]
    },
    {
      "cell_type": "code",
      "metadata": {
        "id": "BFM5kN8q1eOP",
        "colab_type": "code",
        "outputId": "609a07f8-dec9-4fd3-c85c-56833f8568ad",
        "colab": {
          "base_uri": "https://localhost:8080/",
          "height": 34
        }
      },
      "source": [
        "print(np.max(ar1,1))"
      ],
      "execution_count": 0,
      "outputs": [
        {
          "output_type": "stream",
          "text": [
            "[92 71 65 72]\n"
          ],
          "name": "stdout"
        }
      ]
    },
    {
      "cell_type": "code",
      "metadata": {
        "id": "DhlpBCH71kiW",
        "colab_type": "code",
        "outputId": "c568de35-243d-45f8-d765-65189f6f0bc0",
        "colab": {
          "base_uri": "https://localhost:8080/",
          "height": 34
        }
      },
      "source": [
        "print(np.min(ar1,0))"
      ],
      "execution_count": 0,
      "outputs": [
        {
          "output_type": "stream",
          "text": [
            "[66 47  8 26 50]\n"
          ],
          "name": "stdout"
        }
      ]
    },
    {
      "cell_type": "code",
      "metadata": {
        "id": "DlFe9TfLJvhw",
        "colab_type": "code",
        "outputId": "cbdc5844-7742-4ad3-f986-57c01135e1eb",
        "colab": {
          "base_uri": "https://localhost:8080/",
          "height": 34
        }
      },
      "source": [
        "np.argmax(np_m,0)"
      ],
      "execution_count": 0,
      "outputs": [
        {
          "output_type": "execute_result",
          "data": {
            "text/plain": [
              "array([1, 2])"
            ]
          },
          "metadata": {
            "tags": []
          },
          "execution_count": 253
        }
      ]
    },
    {
      "cell_type": "markdown",
      "metadata": {
        "id": "k_mo8PD-2we0",
        "colab_type": "text"
      },
      "source": [
        "#arange\n"
      ]
    },
    {
      "cell_type": "markdown",
      "metadata": {
        "id": "GWyJiVJ429M7",
        "colab_type": "text"
      },
      "source": [
        "np.arange(10) // 0-9 "
      ]
    },
    {
      "cell_type": "code",
      "metadata": {
        "id": "P0eVvmQm1ny-",
        "colab_type": "code",
        "outputId": "34d38508-7c14-4c07-8f81-c92570e48f11",
        "colab": {
          "base_uri": "https://localhost:8080/",
          "height": 34
        }
      },
      "source": [
        "np.arange(15)"
      ],
      "execution_count": 0,
      "outputs": [
        {
          "output_type": "execute_result",
          "data": {
            "text/plain": [
              "array([ 0,  1,  2,  3,  4,  5,  6,  7,  8,  9, 10, 11, 12, 13, 14])"
            ]
          },
          "metadata": {
            "tags": []
          },
          "execution_count": 268
        }
      ]
    },
    {
      "cell_type": "markdown",
      "metadata": {
        "id": "8JLYkp413HE4",
        "colab_type": "text"
      },
      "source": [
        "np.arange(5,10) // เริ่มต้น 5 \n",
        "5 >= X > 10"
      ]
    },
    {
      "cell_type": "code",
      "metadata": {
        "id": "DruDUlDo22Dh",
        "colab_type": "code",
        "outputId": "1b953751-f807-4a46-f473-0917ad6f4bf4",
        "colab": {
          "base_uri": "https://localhost:8080/",
          "height": 34
        }
      },
      "source": [
        "np.arange(5,15)"
      ],
      "execution_count": 0,
      "outputs": [
        {
          "output_type": "execute_result",
          "data": {
            "text/plain": [
              "array([ 5,  6,  7,  8,  9, 10, 11, 12, 13, 14])"
            ]
          },
          "metadata": {
            "tags": []
          },
          "execution_count": 269
        }
      ]
    },
    {
      "cell_type": "markdown",
      "metadata": {
        "id": "MNcLbHUS3ce1",
        "colab_type": "text"
      },
      "source": [
        "np.arange(5,10,2) // เริ่มต้น 5 (5 >= X > 10)\n",
        "ห่างกันทีละ 2 "
      ]
    },
    {
      "cell_type": "code",
      "metadata": {
        "id": "SqTJJPbM3dOL",
        "colab_type": "code",
        "outputId": "36eb4417-0b0f-4c43-e325-c495ec2d8e83",
        "colab": {
          "base_uri": "https://localhost:8080/",
          "height": 34
        }
      },
      "source": [
        "np.arange(5,10,2)"
      ],
      "execution_count": 0,
      "outputs": [
        {
          "output_type": "execute_result",
          "data": {
            "text/plain": [
              "array([5, 7, 9])"
            ]
          },
          "metadata": {
            "tags": []
          },
          "execution_count": 90
        }
      ]
    },
    {
      "cell_type": "markdown",
      "metadata": {
        "id": "X43YpcyX3vsl",
        "colab_type": "text"
      },
      "source": [
        "#linspace"
      ]
    },
    {
      "cell_type": "code",
      "metadata": {
        "id": "KAJqMUuK36sg",
        "colab_type": "code",
        "outputId": "48a08d95-5b47-4284-ca51-d34db5c6589e",
        "colab": {
          "base_uri": "https://localhost:8080/",
          "height": 187
        }
      },
      "source": [
        "np.linspace(5,10)"
      ],
      "execution_count": 0,
      "outputs": [
        {
          "output_type": "execute_result",
          "data": {
            "text/plain": [
              "array([ 5.        ,  5.10204082,  5.20408163,  5.30612245,  5.40816327,\n",
              "        5.51020408,  5.6122449 ,  5.71428571,  5.81632653,  5.91836735,\n",
              "        6.02040816,  6.12244898,  6.2244898 ,  6.32653061,  6.42857143,\n",
              "        6.53061224,  6.63265306,  6.73469388,  6.83673469,  6.93877551,\n",
              "        7.04081633,  7.14285714,  7.24489796,  7.34693878,  7.44897959,\n",
              "        7.55102041,  7.65306122,  7.75510204,  7.85714286,  7.95918367,\n",
              "        8.06122449,  8.16326531,  8.26530612,  8.36734694,  8.46938776,\n",
              "        8.57142857,  8.67346939,  8.7755102 ,  8.87755102,  8.97959184,\n",
              "        9.08163265,  9.18367347,  9.28571429,  9.3877551 ,  9.48979592,\n",
              "        9.59183673,  9.69387755,  9.79591837,  9.89795918, 10.        ])"
            ]
          },
          "metadata": {
            "tags": []
          },
          "execution_count": 93
        }
      ]
    },
    {
      "cell_type": "code",
      "metadata": {
        "id": "paCOyxdM3vNY",
        "colab_type": "code",
        "outputId": "c23c379d-5085-4538-b03e-c94fa0a47183",
        "colab": {
          "base_uri": "https://localhost:8080/",
          "height": 34
        }
      },
      "source": [
        "np.linspace(5,10,4)"
      ],
      "execution_count": 0,
      "outputs": [
        {
          "output_type": "execute_result",
          "data": {
            "text/plain": [
              "array([ 5.        ,  6.66666667,  8.33333333, 10.        ])"
            ]
          },
          "metadata": {
            "tags": []
          },
          "execution_count": 277
        }
      ]
    },
    {
      "cell_type": "markdown",
      "metadata": {
        "id": "yIXWQrNt4P16",
        "colab_type": "text"
      },
      "source": [
        "np.linspace(5,10,15) \n",
        "//มีทั้งหมด 15 ตัว // เลขตั้งแต่ 5 - 10"
      ]
    },
    {
      "cell_type": "code",
      "metadata": {
        "id": "QL9_WsD64Hdr",
        "colab_type": "code",
        "outputId": "cfb1db4b-439e-4686-dc27-01a0a9e0ffbc",
        "colab": {
          "base_uri": "https://localhost:8080/",
          "height": 68
        }
      },
      "source": [
        "np.linspace(5,10,15)"
      ],
      "execution_count": 0,
      "outputs": [
        {
          "output_type": "execute_result",
          "data": {
            "text/plain": [
              "array([ 5.        ,  5.35714286,  5.71428571,  6.07142857,  6.42857143,\n",
              "        6.78571429,  7.14285714,  7.5       ,  7.85714286,  8.21428571,\n",
              "        8.57142857,  8.92857143,  9.28571429,  9.64285714, 10.        ])"
            ]
          },
          "metadata": {
            "tags": []
          },
          "execution_count": 97
        }
      ]
    },
    {
      "cell_type": "markdown",
      "metadata": {
        "id": "KvuXn0TN4mtT",
        "colab_type": "text"
      },
      "source": [
        "#EX3"
      ]
    },
    {
      "cell_type": "code",
      "metadata": {
        "id": "0RYmzKQu4qgi",
        "colab_type": "code",
        "outputId": "a15045db-b5df-4623-bad4-82da21ca0d99",
        "colab": {
          "base_uri": "https://localhost:8080/",
          "height": 269
        }
      },
      "source": [
        "import matplotlib.pyplot as plt\n",
        "plt.plot([0, 3, 6, 9, 12], [1, -1, 1, -1,1])\n",
        "plt.show()"
      ],
      "execution_count": 0,
      "outputs": [
        {
          "output_type": "display_data",
          "data": {
            "image/png": "[encoded data removed]",
            "text/plain": [
              "<Figure size 432x288 with 1 Axes>"
            ]
          },
          "metadata": {
            "tags": []
          }
        }
      ]
    },
    {
      "cell_type": "code",
      "metadata": {
        "id": "GnsmwxSj6enU",
        "colab_type": "code",
        "outputId": "502f6094-9859-4ef3-cd51-7815fe4ca557",
        "colab": {
          "base_uri": "https://localhost:8080/",
          "height": 269
        }
      },
      "source": [
        "import matplotlib.pyplot as plt\n",
        "fig, ax1 = plt.subplots(1, 1)\n",
        "t = np.linspace(0.0, 12.0, 100)\n",
        "s = np.cos(1 * np.pi * t) + 1\n",
        "plt.plot(t,s)\n",
        "plt.show()\n",
        "\n"
      ],
      "execution_count": 0,
      "outputs": [
        {
          "output_type": "display_data",
          "data": {
            "image/png": "[encoded data removed]",
            "text/plain": [
              "<Figure size 432x288 with 1 Axes>"
            ]
          },
          "metadata": {
            "tags": []
          }
        }
      ]
    },
    {
      "cell_type": "code",
      "metadata": {
        "id": "Dg6Eg8Gh8VDZ",
        "colab_type": "code",
        "outputId": "64d3912a-6d32-4045-b7ca-05f9b4ad2515",
        "colab": {
          "base_uri": "https://localhost:8080/",
          "height": 269
        }
      },
      "source": [
        "np_m = np.array([[1,1],[3,4],[6,1],[9,-1],[12,1]])\n",
        "y = np.max(np_m,1)\n",
        "x = np.min(np_m,1)\n",
        "import matplotlib.pyplot as plt\n",
        "plt.plot(x,y)\n",
        "plt.show()"
      ],
      "execution_count": 0,
      "outputs": [
        {
          "output_type": "display_data",
          "data": {
            "image/png": "[encoded data removed]",
            "text/plain": [
              "<Figure size 432x288 with 1 Axes>"
            ]
          },
          "metadata": {
            "tags": []
          }
        }
      ]
    },
    {
      "cell_type": "code",
      "metadata": {
        "id": "MrnzmXMGFU5a",
        "colab_type": "code",
        "outputId": "ca22ffcc-54de-45ef-9e25-1d7314048321",
        "colab": {
          "base_uri": "https://localhost:8080/",
          "height": 269
        }
      },
      "source": [
        "np_m = np.array([[1,1],[3,-1],[6,1],[9,-1],[12,1]])\n",
        "y = np.max(np_m,1)\n",
        "x = np.min(np_m,1)\n",
        "import matplotlib.pyplot as plt\n",
        "plt.plot(y,x)\n",
        "plt.show()"
      ],
      "execution_count": 0,
      "outputs": [
        {
          "output_type": "display_data",
          "data": {
            "image/png": "[encoded data removed]",
            "text/plain": [
              "<Figure size 432x288 with 1 Axes>"
            ]
          },
          "metadata": {
            "tags": []
          }
        }
      ]
    },
    {
      "cell_type": "code",
      "metadata": {
        "id": "ygaS4YlfE4uL",
        "colab_type": "code",
        "outputId": "fc88f6b2-2f24-44b2-8c0b-32f91ea2218c",
        "colab": {
          "base_uri": "https://localhost:8080/",
          "height": 269
        }
      },
      "source": [
        "import matplotlib.pyplot as plt\n",
        "x = np.linspace(0,12.5,100)\n",
        "plt.plot(x,np.cos(x))\n",
        "plt.show()"
      ],
      "execution_count": 0,
      "outputs": [
        {
          "output_type": "display_data",
          "data": {
            "image/png": "[encoded data removed]",
            "text/plain": [
              "<Figure size 432x288 with 1 Axes>"
            ]
          },
          "metadata": {
            "tags": []
          }
        }
      ]
    },
    {
      "cell_type": "code",
      "metadata": {
        "id": "qfRakSrwGNtT",
        "colab_type": "code",
        "outputId": "f896bb37-9465-41d7-a12d-ebe259bb5f6f",
        "colab": {
          "base_uri": "https://localhost:8080/",
          "height": 269
        }
      },
      "source": [
        "import matplotlib.pyplot as plt\n",
        "x = np.linspace(0,12.5,100)\n",
        "y = np.cos(x)\n",
        "plt.plot(x,y)\n",
        "plt.show()"
      ],
      "execution_count": 18,
      "outputs": [
        {
          "output_type": "display_data",
          "data": {
            "image/png": "[encoded data removed]",
            "text/plain": [
              "<Figure size 432x288 with 1 Axes>"
            ]
          },
          "metadata": {
            "tags": []
          }
        }
      ]
    },
    {
      "cell_type": "code",
      "metadata": {
        "id": "Y_oJMU3w8q5s",
        "colab_type": "code",
        "outputId": "df1955a0-3013-4970-bc92-cc2273e210e6",
        "colab": {
          "base_uri": "https://localhost:8080/",
          "height": 34
        }
      },
      "source": [
        "y = np.max(np_m,1)\n",
        "y"
      ],
      "execution_count": 0,
      "outputs": [
        {
          "output_type": "execute_result",
          "data": {
            "text/plain": [
              "array([ 1,  3,  6,  9, 12])"
            ]
          },
          "metadata": {
            "tags": []
          },
          "execution_count": 148
        }
      ]
    },
    {
      "cell_type": "code",
      "metadata": {
        "id": "JOkRWPM_8uRe",
        "colab_type": "code",
        "outputId": "601c3120-9aa4-4bc0-c81b-a5da6ac4f14c",
        "colab": {
          "base_uri": "https://localhost:8080/",
          "height": 34
        }
      },
      "source": [
        "x = np.min(np_m,1)\n",
        "x"
      ],
      "execution_count": 0,
      "outputs": [
        {
          "output_type": "execute_result",
          "data": {
            "text/plain": [
              "array([ 0, -1,  1, -1,  1])"
            ]
          },
          "metadata": {
            "tags": []
          },
          "execution_count": 142
        }
      ]
    },
    {
      "cell_type": "code",
      "metadata": {
        "id": "WiK18yfg9TC5",
        "colab_type": "code",
        "outputId": "a6e11fa5-40ac-46a7-f902-28443cdf7f06",
        "colab": {
          "base_uri": "https://localhost:8080/",
          "height": 269
        }
      },
      "source": [
        "import matplotlib.pyplot as plt\n",
        "fig, ax1 = plt.subplots(1, 1)\n",
        "function1 = ax1.plot(y, x)"
      ],
      "execution_count": 0,
      "outputs": [
        {
          "output_type": "display_data",
          "data": {
            "image/png": "[encoded data removed]",
            "text/plain": [
              "<Figure size 432x288 with 1 Axes>"
            ]
          },
          "metadata": {
            "tags": []
          }
        }
      ]
    },
    {
      "cell_type": "markdown",
      "metadata": {
        "id": "Zqs-uheFgA6J",
        "colab_type": "text"
      },
      "source": [
        "#Reshape & Resize"
      ]
    },
    {
      "cell_type": "code",
      "metadata": {
        "id": "gBzMZ379gubi",
        "colab_type": "code",
        "colab": {}
      },
      "source": [
        "np_matrix = np.array([[1,2,2],[1,2,2],[1,2,2]])"
      ],
      "execution_count": 0,
      "outputs": []
    },
    {
      "cell_type": "code",
      "metadata": {
        "id": "swgRIh7S9UlM",
        "colab_type": "code",
        "colab": {
          "base_uri": "https://localhost:8080/",
          "height": 34
        },
        "outputId": "8be6e348-ac38-4eac-d772-191f387b04f0"
      },
      "source": [
        "np_matrix.shape"
      ],
      "execution_count": 14,
      "outputs": [
        {
          "output_type": "execute_result",
          "data": {
            "text/plain": [
              "(3, 3)"
            ]
          },
          "metadata": {
            "tags": []
          },
          "execution_count": 14
        }
      ]
    },
    {
      "cell_type": "code",
      "metadata": {
        "id": "-knc6LxQhHTF",
        "colab_type": "code",
        "colab": {
          "base_uri": "https://localhost:8080/",
          "height": 34
        },
        "outputId": "c40b7ad9-150f-4b4f-a85c-23b2eca8045c"
      },
      "source": [
        "np_matrix.reshape(1,9)"
      ],
      "execution_count": 33,
      "outputs": [
        {
          "output_type": "execute_result",
          "data": {
            "text/plain": [
              "array([[1, 2, 2, 1, 2, 2, 1, 2, 2]])"
            ]
          },
          "metadata": {
            "tags": []
          },
          "execution_count": 33
        }
      ]
    },
    {
      "cell_type": "code",
      "metadata": {
        "id": "ahCG5TTUhcv2",
        "colab_type": "code",
        "colab": {
          "base_uri": "https://localhost:8080/",
          "height": 34
        },
        "outputId": "d8ad7442-7920-47c2-ad48-572c316d23c6"
      },
      "source": [
        "np_matrix.resize(1,9)\n",
        "np_matrix"
      ],
      "execution_count": 17,
      "outputs": [
        {
          "output_type": "execute_result",
          "data": {
            "text/plain": [
              "array([[1, 2, 2, 1, 2, 2, 1, 2, 2]])"
            ]
          },
          "metadata": {
            "tags": []
          },
          "execution_count": 17
        }
      ]
    },
    {
      "cell_type": "markdown",
      "metadata": {
        "id": "avbkjz_Mh9Ii",
        "colab_type": "text"
      },
      "source": [
        "#Tile"
      ]
    },
    {
      "cell_type": "code",
      "metadata": {
        "id": "KqX6tzjiiCvW",
        "colab_type": "code",
        "colab": {
          "base_uri": "https://localhost:8080/",
          "height": 51
        },
        "outputId": "fe1a0adb-0053-41f3-e92e-a09b0528a7b5"
      },
      "source": [
        "np_tile = np.array([[1,2],[3,4]])\n",
        "np.tile(np_tile,4)"
      ],
      "execution_count": 20,
      "outputs": [
        {
          "output_type": "execute_result",
          "data": {
            "text/plain": [
              "array([[1, 2, 1, 2, 1, 2, 1, 2],\n",
              "       [3, 4, 3, 4, 3, 4, 3, 4]])"
            ]
          },
          "metadata": {
            "tags": []
          },
          "execution_count": 20
        }
      ]
    },
    {
      "cell_type": "code",
      "metadata": {
        "id": "jC1O7NvGiqqR",
        "colab_type": "code",
        "colab": {
          "base_uri": "https://localhost:8080/",
          "height": 153
        },
        "outputId": "09569b22-62aa-45fc-a941-b55b1137dfc9"
      },
      "source": [
        "np.tile(np_tile,(4,1))"
      ],
      "execution_count": 21,
      "outputs": [
        {
          "output_type": "execute_result",
          "data": {
            "text/plain": [
              "array([[1, 2],\n",
              "       [3, 4],\n",
              "       [1, 2],\n",
              "       [3, 4],\n",
              "       [1, 2],\n",
              "       [3, 4],\n",
              "       [1, 2],\n",
              "       [3, 4]])"
            ]
          },
          "metadata": {
            "tags": []
          },
          "execution_count": 21
        }
      ]
    },
    {
      "cell_type": "markdown",
      "metadata": {
        "id": "SO1nzmiZizUG",
        "colab_type": "text"
      },
      "source": [
        "#EX4"
      ]
    },
    {
      "cell_type": "code",
      "metadata": {
        "id": "iE4D-Eu5i0sk",
        "colab_type": "code",
        "colab": {
          "base_uri": "https://localhost:8080/",
          "height": 34
        },
        "outputId": "f903a6d5-c17c-4479-8906-f8a3fcdafd3f"
      },
      "source": [
        "np_test = np.arange(25).reshape(5,5)\n",
        "print(np_test[np.mod(np_test,3)==0].reshape(-1))"
      ],
      "execution_count": 100,
      "outputs": [
        {
          "output_type": "stream",
          "text": [
            "[ 0  3  6  9 12 15 18 21 24]\n"
          ],
          "name": "stdout"
        }
      ]
    },
    {
      "cell_type": "code",
      "metadata": {
        "id": "_bzfoDVfjMFX",
        "colab_type": "code",
        "colab": {
          "base_uri": "https://localhost:8080/",
          "height": 34
        },
        "outputId": "d93e71f6-9878-43ef-85cf-2a3089a122a9"
      },
      "source": [
        "np.arange(0,25,3)"
      ],
      "execution_count": 30,
      "outputs": [
        {
          "output_type": "execute_result",
          "data": {
            "text/plain": [
              "array([ 0,  3,  6,  9, 12, 15, 18, 21, 24])"
            ]
          },
          "metadata": {
            "tags": []
          },
          "execution_count": 30
        }
      ]
    },
    {
      "cell_type": "markdown",
      "metadata": {
        "id": "PZ5gKyd1kZVc",
        "colab_type": "text"
      },
      "source": [
        "#EX5"
      ]
    },
    {
      "cell_type": "code",
      "metadata": {
        "id": "t4MB-lC7keDp",
        "colab_type": "code",
        "colab": {
          "base_uri": "https://localhost:8080/",
          "height": 102
        },
        "outputId": "8e258d3f-703e-4217-88e3-9b297fa98025"
      },
      "source": [
        "np_test = np.arange(25).reshape(5,5)\n",
        "np.fill_diagonal(np_test, 0)\n",
        "print(np_test)"
      ],
      "execution_count": 101,
      "outputs": [
        {
          "output_type": "stream",
          "text": [
            "[[ 0  1  2  3  4]\n",
            " [ 5  0  7  8  9]\n",
            " [10 11  0 13 14]\n",
            " [15 16 17  0 19]\n",
            " [20 21 22 23  0]]\n"
          ],
          "name": "stdout"
        }
      ]
    },
    {
      "cell_type": "code",
      "metadata": {
        "id": "cdvDHdvfp2LR",
        "colab_type": "code",
        "colab": {
          "base_uri": "https://localhost:8080/",
          "height": 85
        },
        "outputId": "3fb2aafa-aa57-4d25-eaaf-2c6673f3ccb1"
      },
      "source": [
        "v = np.array([2, 4, 3, 1])\n",
        "np.diag(v)"
      ],
      "execution_count": 57,
      "outputs": [
        {
          "output_type": "execute_result",
          "data": {
            "text/plain": [
              "array([[2, 0, 0, 0],\n",
              "       [0, 4, 0, 0],\n",
              "       [0, 0, 3, 0],\n",
              "       [0, 0, 0, 1]])"
            ]
          },
          "metadata": {
            "tags": []
          },
          "execution_count": 57
        }
      ]
    },
    {
      "cell_type": "code",
      "metadata": {
        "id": "paHrda7jsSHH",
        "colab_type": "code",
        "colab": {
          "base_uri": "https://localhost:8080/",
          "height": 85
        },
        "outputId": "91501904-3679-4d02-c4fc-a06e4a11bb99"
      },
      "source": [
        "import numpy as np\n",
        "x = np.zeros((4, 4))\n",
        "x[1::1] = 1\n",
        "print(x)"
      ],
      "execution_count": 96,
      "outputs": [
        {
          "output_type": "stream",
          "text": [
            "[[0. 0. 0. 0.]\n",
            " [1. 1. 1. 1.]\n",
            " [1. 1. 1. 1.]\n",
            " [1. 1. 1. 1.]]\n"
          ],
          "name": "stdout"
        }
      ]
    },
    {
      "cell_type": "code",
      "metadata": {
        "id": "vvk7S1gbqIko",
        "colab_type": "code",
        "colab": {
          "base_uri": "https://localhost:8080/",
          "height": 34
        },
        "outputId": "f5bcd92c-18ca-4284-8060-c6925a204edd"
      },
      "source": [
        "import numpy as np\n",
        "x = np.zeros((1, 4))\n",
        "print(x)"
      ],
      "execution_count": 66,
      "outputs": [
        {
          "output_type": "stream",
          "text": [
            "[[0. 0. 0. 0.]]\n"
          ],
          "name": "stdout"
        }
      ]
    }
  ]
}